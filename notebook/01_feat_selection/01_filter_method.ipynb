{
 "cells": [
  {
   "cell_type": "markdown",
   "metadata": {},
   "source": [
    "# Filter Methods"
   ]
  },
  {
   "cell_type": "code",
   "execution_count": 1,
   "metadata": {},
   "outputs": [],
   "source": [
    "from typing import Sequence, Union, Optional\n",
    "\n",
    "import numpy as np\n",
    "import pandas as pd\n",
    "import matplotlib.pyplot as plt\n",
    "\n",
    "# For auto-formatting of code\n",
    "%load_ext lab_black"
   ]
  },
  {
   "attachments": {},
   "cell_type": "markdown",
   "metadata": {},
   "source": [
    "## Constant Features\n",
    "\n",
    "* These are features that have just one unique value/label for all the observations of the dataset. \n",
    "* These features provide no valuable information. i.e they have no predictive power.\n",
    "* Constant feature identification and removal is a simple first step toward feature selection and more easily interpretable machine learning models.\n",
    "\n",
    "<br>\n",
    "\n",
    "* **Numeric:** The variance can bu used to detect constant features. A constant feature has **zero** variance.\n",
    "* **Categorical:** The unique labels can be used to detect constant features. If the number of unique labels is **zero**, then it's a unique constant."
   ]
  },
  {
   "cell_type": "code",
   "execution_count": 2,
   "metadata": {},
   "outputs": [
    {
     "data": {
      "text/html": [
       "<div>\n",
       "<style scoped>\n",
       "    .dataframe tbody tr th:only-of-type {\n",
       "        vertical-align: middle;\n",
       "    }\n",
       "\n",
       "    .dataframe tbody tr th {\n",
       "        vertical-align: top;\n",
       "    }\n",
       "\n",
       "    .dataframe thead th {\n",
       "        text-align: right;\n",
       "    }\n",
       "</style>\n",
       "<table border=\"1\" class=\"dataframe\">\n",
       "  <thead>\n",
       "    <tr style=\"text-align: right;\">\n",
       "      <th></th>\n",
       "      <th>a1</th>\n",
       "      <th>a2</th>\n",
       "      <th>a3</th>\n",
       "    </tr>\n",
       "  </thead>\n",
       "  <tbody>\n",
       "    <tr>\n",
       "      <th>0</th>\n",
       "      <td>A</td>\n",
       "      <td>0.0</td>\n",
       "      <td>8</td>\n",
       "    </tr>\n",
       "    <tr>\n",
       "      <th>1</th>\n",
       "      <td>A</td>\n",
       "      <td>0.0</td>\n",
       "      <td>7</td>\n",
       "    </tr>\n",
       "    <tr>\n",
       "      <th>2</th>\n",
       "      <td>A</td>\n",
       "      <td>0.0</td>\n",
       "      <td>9</td>\n",
       "    </tr>\n",
       "    <tr>\n",
       "      <th>3</th>\n",
       "      <td>A</td>\n",
       "      <td>0.0</td>\n",
       "      <td>5</td>\n",
       "    </tr>\n",
       "    <tr>\n",
       "      <th>4</th>\n",
       "      <td>A</td>\n",
       "      <td>0.0</td>\n",
       "      <td>2</td>\n",
       "    </tr>\n",
       "  </tbody>\n",
       "</table>\n",
       "</div>"
      ],
      "text/plain": [
       "  a1   a2  a3\n",
       "0  A  0.0   8\n",
       "1  A  0.0   7\n",
       "2  A  0.0   9\n",
       "3  A  0.0   5\n",
       "4  A  0.0   2"
      ]
     },
     "execution_count": 2,
     "metadata": {},
     "output_type": "execute_result"
    }
   ],
   "source": [
    "lst = [\"A\", \"A\", \"A\", \"A\", \"A\", \"A\", \"A\", \"A\", \"A\", \"A\"]\n",
    "size = 100\n",
    "\n",
    "data = {\n",
    "    \"a1\": lst * size,\n",
    "    \"a2\": np.zeros(shape=(size * 10)),\n",
    "    \"a3\": np.random.randint(1, 10, size=size * 10),\n",
    "}\n",
    "\n",
    "df = pd.DataFrame(data)\n",
    "df.iloc[[7, 28, 85], 0] = [\"B\", \"B\", \"B\"]\n",
    "df.head()"
   ]
  },
  {
   "cell_type": "code",
   "execution_count": 3,
   "metadata": {},
   "outputs": [
    {
     "data": {
      "text/plain": [
       "['a2']"
      ]
     },
     "execution_count": 3,
     "metadata": {},
     "output_type": "execute_result"
    }
   ],
   "source": [
    "constant_vars = [feat for feat in df.columns if df[feat].nunique() == 1]\n",
    "\n",
    "constant_vars"
   ]
  },
  {
   "cell_type": "code",
   "execution_count": null,
   "metadata": {},
   "outputs": [],
   "source": []
  },
  {
   "attachments": {},
   "cell_type": "markdown",
   "metadata": {},
   "source": [
    "## Quasi-constant\n",
    "\n",
    "* Quasi-constant features are those that have the same value for the vast majority of the observations in the dataset. \n",
    "* In general, these characteristics provide little, if any, information that a machine learning model can use to predict a target.\n",
    "\n",
    "```text\n",
    "e.g. A feaure that has 99% of a particular label.\n",
    "```"
   ]
  },
  {
   "cell_type": "code",
   "execution_count": 4,
   "metadata": {},
   "outputs": [],
   "source": [
    "def check_constant_variables(*, data: pd.DataFrame, thresh: float = 0.98) -> dict:\n",
    "    \"\"\"This is used to detect the presence of constant/quasi-constant variables.\"\"\"\n",
    "    quasi_constant_vars = {}\n",
    "\n",
    "    for feat in data.columns:\n",
    "        feats_dict = data[feat].value_counts(normalize=True).to_dict()\n",
    "        for key, val in feats_dict.items():\n",
    "            if val >= thresh:\n",
    "                quasi_constant_vars[f\"{feat}({key})\"] = val\n",
    "    return quasi_constant_vars"
   ]
  },
  {
   "cell_type": "code",
   "execution_count": 5,
   "metadata": {},
   "outputs": [
    {
     "data": {
      "text/plain": [
       "{'a1(A)': 0.997, 'a2(0.0)': 1.0}"
      ]
     },
     "execution_count": 5,
     "metadata": {},
     "output_type": "execute_result"
    }
   ],
   "source": [
    "result = check_constant_variables(data=df, thresh=0.98)\n",
    "result"
   ]
  },
  {
   "cell_type": "code",
   "execution_count": null,
   "metadata": {},
   "outputs": [],
   "source": []
  },
  {
   "cell_type": "markdown",
   "metadata": {},
   "source": [
    "### Using Feature-Engine\n",
    "\n",
    "```python\n",
    "from feature_engine.selection import DropConstantFeatures\n",
    "sel = DropConstantFeatures(tol=1, variables=None, missing_values='raise')\n",
    "\n",
    "sel.fit(X)\n",
    "```"
   ]
  },
  {
   "cell_type": "code",
   "execution_count": 6,
   "metadata": {},
   "outputs": [
    {
     "data": {
      "text/html": [
       "<style>#sk-container-id-1 {color: black;background-color: white;}#sk-container-id-1 pre{padding: 0;}#sk-container-id-1 div.sk-toggleable {background-color: white;}#sk-container-id-1 label.sk-toggleable__label {cursor: pointer;display: block;width: 100%;margin-bottom: 0;padding: 0.3em;box-sizing: border-box;text-align: center;}#sk-container-id-1 label.sk-toggleable__label-arrow:before {content: \"▸\";float: left;margin-right: 0.25em;color: #696969;}#sk-container-id-1 label.sk-toggleable__label-arrow:hover:before {color: black;}#sk-container-id-1 div.sk-estimator:hover label.sk-toggleable__label-arrow:before {color: black;}#sk-container-id-1 div.sk-toggleable__content {max-height: 0;max-width: 0;overflow: hidden;text-align: left;background-color: #f0f8ff;}#sk-container-id-1 div.sk-toggleable__content pre {margin: 0.2em;color: black;border-radius: 0.25em;background-color: #f0f8ff;}#sk-container-id-1 input.sk-toggleable__control:checked~div.sk-toggleable__content {max-height: 200px;max-width: 100%;overflow: auto;}#sk-container-id-1 input.sk-toggleable__control:checked~label.sk-toggleable__label-arrow:before {content: \"▾\";}#sk-container-id-1 div.sk-estimator input.sk-toggleable__control:checked~label.sk-toggleable__label {background-color: #d4ebff;}#sk-container-id-1 div.sk-label input.sk-toggleable__control:checked~label.sk-toggleable__label {background-color: #d4ebff;}#sk-container-id-1 input.sk-hidden--visually {border: 0;clip: rect(1px 1px 1px 1px);clip: rect(1px, 1px, 1px, 1px);height: 1px;margin: -1px;overflow: hidden;padding: 0;position: absolute;width: 1px;}#sk-container-id-1 div.sk-estimator {font-family: monospace;background-color: #f0f8ff;border: 1px dotted black;border-radius: 0.25em;box-sizing: border-box;margin-bottom: 0.5em;}#sk-container-id-1 div.sk-estimator:hover {background-color: #d4ebff;}#sk-container-id-1 div.sk-parallel-item::after {content: \"\";width: 100%;border-bottom: 1px solid gray;flex-grow: 1;}#sk-container-id-1 div.sk-label:hover label.sk-toggleable__label {background-color: #d4ebff;}#sk-container-id-1 div.sk-serial::before {content: \"\";position: absolute;border-left: 1px solid gray;box-sizing: border-box;top: 0;bottom: 0;left: 50%;z-index: 0;}#sk-container-id-1 div.sk-serial {display: flex;flex-direction: column;align-items: center;background-color: white;padding-right: 0.2em;padding-left: 0.2em;position: relative;}#sk-container-id-1 div.sk-item {position: relative;z-index: 1;}#sk-container-id-1 div.sk-parallel {display: flex;align-items: stretch;justify-content: center;background-color: white;position: relative;}#sk-container-id-1 div.sk-item::before, #sk-container-id-1 div.sk-parallel-item::before {content: \"\";position: absolute;border-left: 1px solid gray;box-sizing: border-box;top: 0;bottom: 0;left: 50%;z-index: -1;}#sk-container-id-1 div.sk-parallel-item {display: flex;flex-direction: column;z-index: 1;position: relative;background-color: white;}#sk-container-id-1 div.sk-parallel-item:first-child::after {align-self: flex-end;width: 50%;}#sk-container-id-1 div.sk-parallel-item:last-child::after {align-self: flex-start;width: 50%;}#sk-container-id-1 div.sk-parallel-item:only-child::after {width: 0;}#sk-container-id-1 div.sk-dashed-wrapped {border: 1px dashed gray;margin: 0 0.4em 0.5em 0.4em;box-sizing: border-box;padding-bottom: 0.4em;background-color: white;}#sk-container-id-1 div.sk-label label {font-family: monospace;font-weight: bold;display: inline-block;line-height: 1.2em;}#sk-container-id-1 div.sk-label-container {text-align: center;}#sk-container-id-1 div.sk-container {/* jupyter's `normalize.less` sets `[hidden] { display: none; }` but bootstrap.min.css set `[hidden] { display: none !important; }` so we also need the `!important` here to be able to override the default hidden behavior on the sphinx rendered scikit-learn.org. See: https://github.com/scikit-learn/scikit-learn/issues/21755 */display: inline-block !important;position: relative;}#sk-container-id-1 div.sk-text-repr-fallback {display: none;}</style><div id=\"sk-container-id-1\" class=\"sk-top-container\"><div class=\"sk-text-repr-fallback\"><pre>DropConstantFeatures()</pre><b>In a Jupyter environment, please rerun this cell to show the HTML representation or trust the notebook. <br />On GitHub, the HTML representation is unable to render, please try loading this page with nbviewer.org.</b></div><div class=\"sk-container\" hidden><div class=\"sk-item\"><div class=\"sk-estimator sk-toggleable\"><input class=\"sk-toggleable__control sk-hidden--visually\" id=\"sk-estimator-id-1\" type=\"checkbox\" checked><label for=\"sk-estimator-id-1\" class=\"sk-toggleable__label sk-toggleable__label-arrow\">DropConstantFeatures</label><div class=\"sk-toggleable__content\"><pre>DropConstantFeatures()</pre></div></div></div></div></div>"
      ],
      "text/plain": [
       "DropConstantFeatures()"
      ]
     },
     "execution_count": 6,
     "metadata": {},
     "output_type": "execute_result"
    }
   ],
   "source": [
    "from feature_engine.selection import DropConstantFeatures\n",
    "\n",
    "# Drop Constant Features\n",
    "feat_selector = DropConstantFeatures(tol=1, variables=None, missing_values=\"raise\")\n",
    "\n",
    "feat_selector.fit(df)"
   ]
  },
  {
   "cell_type": "code",
   "execution_count": 7,
   "metadata": {},
   "outputs": [
    {
     "data": {
      "text/plain": [
       "['__class__',\n",
       " '__delattr__',\n",
       " '__dict__',\n",
       " '__dir__',\n",
       " '__doc__',\n",
       " '__eq__',\n",
       " '__format__',\n",
       " '__ge__',\n",
       " '__getattribute__',\n",
       " '__getstate__',\n",
       " '__gt__',\n",
       " '__hash__',\n",
       " '__init__',\n",
       " '__init_subclass__',\n",
       " '__le__',\n",
       " '__lt__',\n",
       " '__module__',\n",
       " '__ne__',\n",
       " '__new__',\n",
       " '__reduce__',\n",
       " '__reduce_ex__',\n",
       " '__repr__',\n",
       " '__setattr__',\n",
       " '__setstate__',\n",
       " '__sizeof__',\n",
       " '__str__',\n",
       " '__subclasshook__',\n",
       " '__weakref__',\n",
       " '_add_new_feature_names',\n",
       " '_check_feature_names',\n",
       " '_check_n_features',\n",
       " '_check_variable_number',\n",
       " '_confirm_variables',\n",
       " '_confirm_variables_docstring',\n",
       " '_get_feature_names_in',\n",
       " '_get_param_names',\n",
       " '_get_tags',\n",
       " '_more_tags',\n",
       " '_remove_feature_names',\n",
       " '_repr_html_',\n",
       " '_repr_html_inner',\n",
       " '_repr_mimebundle_',\n",
       " '_sklearn_auto_wrap_output_keys',\n",
       " '_validate_data',\n",
       " '_validate_params',\n",
       " 'confirm_variables',\n",
       " 'feature_names_in_',\n",
       " 'features_to_drop_',\n",
       " 'fit',\n",
       " 'fit_transform',\n",
       " 'get_feature_names_out',\n",
       " 'get_params',\n",
       " 'get_support',\n",
       " 'missing_values',\n",
       " 'n_features_in_',\n",
       " 'set_output',\n",
       " 'set_params',\n",
       " 'tol',\n",
       " 'transform',\n",
       " 'variables',\n",
       " 'variables_']"
      ]
     },
     "execution_count": 7,
     "metadata": {},
     "output_type": "execute_result"
    }
   ],
   "source": [
    "dir(feat_selector)"
   ]
  },
  {
   "cell_type": "code",
   "execution_count": 8,
   "metadata": {},
   "outputs": [
    {
     "name": "stdout",
     "output_type": "stream",
     "text": [
      "Dropped features: ['a2']\n",
      "\n"
     ]
    }
   ],
   "source": [
    "feats_to_drop = feat_selector.features_to_drop_\n",
    "print(f\"Dropped features: {feats_to_drop}\\n\")"
   ]
  },
  {
   "cell_type": "code",
   "execution_count": 9,
   "metadata": {},
   "outputs": [
    {
     "data": {
      "text/html": [
       "<div>\n",
       "<style scoped>\n",
       "    .dataframe tbody tr th:only-of-type {\n",
       "        vertical-align: middle;\n",
       "    }\n",
       "\n",
       "    .dataframe tbody tr th {\n",
       "        vertical-align: top;\n",
       "    }\n",
       "\n",
       "    .dataframe thead th {\n",
       "        text-align: right;\n",
       "    }\n",
       "</style>\n",
       "<table border=\"1\" class=\"dataframe\">\n",
       "  <thead>\n",
       "    <tr style=\"text-align: right;\">\n",
       "      <th></th>\n",
       "      <th>a1</th>\n",
       "      <th>a3</th>\n",
       "    </tr>\n",
       "  </thead>\n",
       "  <tbody>\n",
       "    <tr>\n",
       "      <th>0</th>\n",
       "      <td>A</td>\n",
       "      <td>8</td>\n",
       "    </tr>\n",
       "    <tr>\n",
       "      <th>1</th>\n",
       "      <td>A</td>\n",
       "      <td>7</td>\n",
       "    </tr>\n",
       "    <tr>\n",
       "      <th>2</th>\n",
       "      <td>A</td>\n",
       "      <td>9</td>\n",
       "    </tr>\n",
       "    <tr>\n",
       "      <th>3</th>\n",
       "      <td>A</td>\n",
       "      <td>5</td>\n",
       "    </tr>\n",
       "    <tr>\n",
       "      <th>4</th>\n",
       "      <td>A</td>\n",
       "      <td>2</td>\n",
       "    </tr>\n",
       "  </tbody>\n",
       "</table>\n",
       "</div>"
      ],
      "text/plain": [
       "  a1  a3\n",
       "0  A   8\n",
       "1  A   7\n",
       "2  A   9\n",
       "3  A   5\n",
       "4  A   2"
      ]
     },
     "execution_count": 9,
     "metadata": {},
     "output_type": "execute_result"
    }
   ],
   "source": [
    "df_transformed = feat_selector.transform(df)\n",
    "df_transformed.head()"
   ]
  },
  {
   "cell_type": "code",
   "execution_count": 10,
   "metadata": {},
   "outputs": [
    {
     "name": "stdout",
     "output_type": "stream",
     "text": [
      "Dropped features: ['a1', 'a2']\n",
      "\n"
     ]
    },
    {
     "data": {
      "text/html": [
       "<div>\n",
       "<style scoped>\n",
       "    .dataframe tbody tr th:only-of-type {\n",
       "        vertical-align: middle;\n",
       "    }\n",
       "\n",
       "    .dataframe tbody tr th {\n",
       "        vertical-align: top;\n",
       "    }\n",
       "\n",
       "    .dataframe thead th {\n",
       "        text-align: right;\n",
       "    }\n",
       "</style>\n",
       "<table border=\"1\" class=\"dataframe\">\n",
       "  <thead>\n",
       "    <tr style=\"text-align: right;\">\n",
       "      <th></th>\n",
       "      <th>a3</th>\n",
       "    </tr>\n",
       "  </thead>\n",
       "  <tbody>\n",
       "    <tr>\n",
       "      <th>0</th>\n",
       "      <td>8</td>\n",
       "    </tr>\n",
       "    <tr>\n",
       "      <th>1</th>\n",
       "      <td>7</td>\n",
       "    </tr>\n",
       "    <tr>\n",
       "      <th>2</th>\n",
       "      <td>9</td>\n",
       "    </tr>\n",
       "    <tr>\n",
       "      <th>3</th>\n",
       "      <td>5</td>\n",
       "    </tr>\n",
       "    <tr>\n",
       "      <th>4</th>\n",
       "      <td>2</td>\n",
       "    </tr>\n",
       "  </tbody>\n",
       "</table>\n",
       "</div>"
      ],
      "text/plain": [
       "   a3\n",
       "0   8\n",
       "1   7\n",
       "2   9\n",
       "3   5\n",
       "4   2"
      ]
     },
     "execution_count": 10,
     "metadata": {},
     "output_type": "execute_result"
    }
   ],
   "source": [
    "from feature_engine.selection import DropConstantFeatures\n",
    "\n",
    "# Drop Quasi-Constant Features\n",
    "THRESH = 0.98\n",
    "feat_selector = DropConstantFeatures(tol=THRESH, variables=None, missing_values=\"raise\")\n",
    "\n",
    "df_transformed = feat_selector.fit_transform(df)\n",
    "\n",
    "feats_to_drop = feat_selector.features_to_drop_\n",
    "print(f\"Dropped features: {feats_to_drop}\\n\")\n",
    "\n",
    "df_transformed.head()"
   ]
  },
  {
   "attachments": {},
   "cell_type": "markdown",
   "metadata": {},
   "source": [
    "## Dropping Correlated Features\n",
    "\n",
    "* Correlation Feature Selection evaluates feature subsets based on the following hypothesis: \n",
    "  * Good feature subsets contain features that are highly correlated with the target but are uncorrelated with one another.\n",
    "\n",
    "There are 2  approaches used in theis notebook:\n",
    "1. The first is a brute force function that finds correlated features without any additional information.\n",
    "2. The second procedure identifies groups of correlated features, which we can then investigate to determine which ones to keep and which to discard."
   ]
  },
  {
   "cell_type": "code",
   "execution_count": 11,
   "metadata": {},
   "outputs": [],
   "source": [
    "from feature_engine.selection import DropCorrelatedFeatures, SmartCorrelatedSelection\n",
    "from sklearn.model_selection import train_test_split"
   ]
  },
  {
   "cell_type": "code",
   "execution_count": 12,
   "metadata": {},
   "outputs": [],
   "source": [
    "def load_data(*, filename: str, sep: str = \",\") -> pd.DataFrame:\n",
    "    \"\"\"This is used to load the data.\n",
    "\n",
    "    Params;\n",
    "        filename (str): The filepath.\n",
    "        sep (str, default=\",\"): The separator. e.g ',', '\\t', etc\n",
    "\n",
    "    Returns:\n",
    "        data (pd.DataFrame): The loaded dataframe.\n",
    "    \"\"\"\n",
    "    data = pd.read_csv(filename, sep=sep)\n",
    "    print(f\"Shape of data: {data.shape}\\n\")\n",
    "    return data\n",
    "\n",
    "\n",
    "def evaluate_model(*, y_true: np.ndarray, y_pred: np.ndarray) -> str:\n",
    "    \"\"\"This is used to evaluate a regressor.\"\"\"\n",
    "    from sklearn.metrics import r2_score, mean_absolute_error, mean_squared_error\n",
    "\n",
    "    # Mean Squared Error (The lower, the better)\n",
    "    mse = mean_squared_error(y_true=y_true, y_pred=y_pred, squared=True)\n",
    "\n",
    "    # Root Mean Squared Error (The lower, the better)\n",
    "    # Remember to use squared=False\n",
    "    rmse = mean_squared_error(y_true=y_true, y_pred=y_pred, squared=False)\n",
    "\n",
    "    # Mean Absolute Error (The lower, the better)\n",
    "    mae = mean_absolute_error(y_true=y_true, y_pred=y_pred)\n",
    "\n",
    "    # R Squared (The higher, the better. Max (best) value is 1)\n",
    "    R2 = r2_score(y_true=y_true, y_pred=y_pred)\n",
    "    lower, higher = \"Lower is better!\", \"Higher is better!\"\n",
    "\n",
    "    result_str = (\n",
    "        \"================ Evaluation Metrics ================\"\n",
    "        f\"\\nMean Squared Error ({lower}!): {round(mse, 3)}\"\n",
    "        f\"\\nRoot Mean Squared Error ({lower}!): {round(rmse, 3)}\"\n",
    "        f\"\\nMean Absolute Error ({lower}!): {round(mae, 3)}\"\n",
    "        \"\\n===================================================\"\n",
    "        f\"\\nR Squared ({higher}!): {round(R2, 3)} \"\n",
    "    )\n",
    "\n",
    "    return result_str"
   ]
  },
  {
   "cell_type": "code",
   "execution_count": 13,
   "metadata": {},
   "outputs": [
    {
     "name": "stdout",
     "output_type": "stream",
     "text": [
      "Shape of data: (649, 33)\n",
      "\n"
     ]
    },
    {
     "data": {
      "text/html": [
       "<div>\n",
       "<style scoped>\n",
       "    .dataframe tbody tr th:only-of-type {\n",
       "        vertical-align: middle;\n",
       "    }\n",
       "\n",
       "    .dataframe tbody tr th {\n",
       "        vertical-align: top;\n",
       "    }\n",
       "\n",
       "    .dataframe thead th {\n",
       "        text-align: right;\n",
       "    }\n",
       "</style>\n",
       "<table border=\"1\" class=\"dataframe\">\n",
       "  <thead>\n",
       "    <tr style=\"text-align: right;\">\n",
       "      <th></th>\n",
       "      <th>school</th>\n",
       "      <th>sex</th>\n",
       "      <th>age</th>\n",
       "      <th>address</th>\n",
       "      <th>famsize</th>\n",
       "      <th>Pstatus</th>\n",
       "      <th>Medu</th>\n",
       "      <th>Fedu</th>\n",
       "      <th>Mjob</th>\n",
       "      <th>Fjob</th>\n",
       "      <th>...</th>\n",
       "      <th>famrel</th>\n",
       "      <th>freetime</th>\n",
       "      <th>goout</th>\n",
       "      <th>Dalc</th>\n",
       "      <th>Walc</th>\n",
       "      <th>health</th>\n",
       "      <th>absences</th>\n",
       "      <th>G1</th>\n",
       "      <th>G2</th>\n",
       "      <th>G3</th>\n",
       "    </tr>\n",
       "  </thead>\n",
       "  <tbody>\n",
       "    <tr>\n",
       "      <th>0</th>\n",
       "      <td>GP</td>\n",
       "      <td>F</td>\n",
       "      <td>18</td>\n",
       "      <td>U</td>\n",
       "      <td>GT3</td>\n",
       "      <td>A</td>\n",
       "      <td>4</td>\n",
       "      <td>4</td>\n",
       "      <td>at_home</td>\n",
       "      <td>teacher</td>\n",
       "      <td>...</td>\n",
       "      <td>4</td>\n",
       "      <td>3</td>\n",
       "      <td>4</td>\n",
       "      <td>1</td>\n",
       "      <td>1</td>\n",
       "      <td>3</td>\n",
       "      <td>4</td>\n",
       "      <td>0</td>\n",
       "      <td>11</td>\n",
       "      <td>11</td>\n",
       "    </tr>\n",
       "    <tr>\n",
       "      <th>1</th>\n",
       "      <td>GP</td>\n",
       "      <td>F</td>\n",
       "      <td>17</td>\n",
       "      <td>U</td>\n",
       "      <td>GT3</td>\n",
       "      <td>T</td>\n",
       "      <td>1</td>\n",
       "      <td>1</td>\n",
       "      <td>at_home</td>\n",
       "      <td>other</td>\n",
       "      <td>...</td>\n",
       "      <td>5</td>\n",
       "      <td>3</td>\n",
       "      <td>3</td>\n",
       "      <td>1</td>\n",
       "      <td>1</td>\n",
       "      <td>3</td>\n",
       "      <td>2</td>\n",
       "      <td>9</td>\n",
       "      <td>11</td>\n",
       "      <td>11</td>\n",
       "    </tr>\n",
       "    <tr>\n",
       "      <th>2</th>\n",
       "      <td>GP</td>\n",
       "      <td>F</td>\n",
       "      <td>15</td>\n",
       "      <td>U</td>\n",
       "      <td>LE3</td>\n",
       "      <td>T</td>\n",
       "      <td>1</td>\n",
       "      <td>1</td>\n",
       "      <td>at_home</td>\n",
       "      <td>other</td>\n",
       "      <td>...</td>\n",
       "      <td>4</td>\n",
       "      <td>3</td>\n",
       "      <td>2</td>\n",
       "      <td>2</td>\n",
       "      <td>3</td>\n",
       "      <td>3</td>\n",
       "      <td>6</td>\n",
       "      <td>12</td>\n",
       "      <td>13</td>\n",
       "      <td>12</td>\n",
       "    </tr>\n",
       "    <tr>\n",
       "      <th>3</th>\n",
       "      <td>GP</td>\n",
       "      <td>F</td>\n",
       "      <td>15</td>\n",
       "      <td>U</td>\n",
       "      <td>GT3</td>\n",
       "      <td>T</td>\n",
       "      <td>4</td>\n",
       "      <td>2</td>\n",
       "      <td>health</td>\n",
       "      <td>services</td>\n",
       "      <td>...</td>\n",
       "      <td>3</td>\n",
       "      <td>2</td>\n",
       "      <td>2</td>\n",
       "      <td>1</td>\n",
       "      <td>1</td>\n",
       "      <td>5</td>\n",
       "      <td>0</td>\n",
       "      <td>14</td>\n",
       "      <td>14</td>\n",
       "      <td>14</td>\n",
       "    </tr>\n",
       "    <tr>\n",
       "      <th>4</th>\n",
       "      <td>GP</td>\n",
       "      <td>F</td>\n",
       "      <td>16</td>\n",
       "      <td>U</td>\n",
       "      <td>GT3</td>\n",
       "      <td>T</td>\n",
       "      <td>3</td>\n",
       "      <td>3</td>\n",
       "      <td>other</td>\n",
       "      <td>other</td>\n",
       "      <td>...</td>\n",
       "      <td>4</td>\n",
       "      <td>3</td>\n",
       "      <td>2</td>\n",
       "      <td>1</td>\n",
       "      <td>2</td>\n",
       "      <td>5</td>\n",
       "      <td>0</td>\n",
       "      <td>11</td>\n",
       "      <td>13</td>\n",
       "      <td>13</td>\n",
       "    </tr>\n",
       "  </tbody>\n",
       "</table>\n",
       "<p>5 rows × 33 columns</p>\n",
       "</div>"
      ],
      "text/plain": [
       "  school sex  age address famsize Pstatus  Medu  Fedu     Mjob      Fjob  ...  \\\n",
       "0     GP   F   18       U     GT3       A     4     4  at_home   teacher  ...   \n",
       "1     GP   F   17       U     GT3       T     1     1  at_home     other  ...   \n",
       "2     GP   F   15       U     LE3       T     1     1  at_home     other  ...   \n",
       "3     GP   F   15       U     GT3       T     4     2   health  services  ...   \n",
       "4     GP   F   16       U     GT3       T     3     3    other     other  ...   \n",
       "\n",
       "  famrel freetime  goout  Dalc  Walc health absences  G1  G2  G3  \n",
       "0      4        3      4     1     1      3        4   0  11  11  \n",
       "1      5        3      3     1     1      3        2   9  11  11  \n",
       "2      4        3      2     2     3      3        6  12  13  12  \n",
       "3      3        2      2     1     1      5        0  14  14  14  \n",
       "4      4        3      2     1     2      5        0  11  13  13  \n",
       "\n",
       "[5 rows x 33 columns]"
      ]
     },
     "execution_count": 13,
     "metadata": {},
     "output_type": "execute_result"
    }
   ],
   "source": [
    "# Load data\n",
    "data = load_data(filename=\"../../data/student-por.csv\", sep=\";\")\n",
    "\n",
    "data.head()"
   ]
  },
  {
   "cell_type": "code",
   "execution_count": 14,
   "metadata": {},
   "outputs": [
    {
     "data": {
      "text/plain": [
       "((519, 32), (130, 32))"
      ]
     },
     "execution_count": 14,
     "metadata": {},
     "output_type": "execute_result"
    }
   ],
   "source": [
    "# Split into train and validation\n",
    "RANDOM_STATE = 123\n",
    "TEST_SIZE = 0.2\n",
    "TARGET = \"G3\"\n",
    "\n",
    "X = data.drop(columns=[TARGET])\n",
    "y = data.get(TARGET)\n",
    "\n",
    "X_train, X_validation, y_train, y_validation = train_test_split(\n",
    "    X, y, test_size=TEST_SIZE, random_state=RANDOM_STATE\n",
    ")\n",
    "\n",
    "X_train.shape, X_validation.shape"
   ]
  },
  {
   "cell_type": "markdown",
   "metadata": {},
   "source": [
    "#### Drop Correlated Features (Brute Force)\n"
   ]
  },
  {
   "cell_type": "code",
   "execution_count": 15,
   "metadata": {},
   "outputs": [
    {
     "name": "stdout",
     "output_type": "stream",
     "text": [
      "Dropped features: {'G2'}\n",
      "\n"
     ]
    }
   ],
   "source": [
    "feat_selector = DropCorrelatedFeatures(variables=None, method=\"pearson\", threshold=0.8)\n",
    "train_data_transformed = feat_selector.fit_transform(X_train)\n",
    "validation_data_transformed = feat_selector.transform(X_validation)\n",
    "\n",
    "feats_to_drop = feat_selector.features_to_drop_\n",
    "print(f\"Dropped features: {feats_to_drop}\\n\")"
   ]
  },
  {
   "cell_type": "code",
   "execution_count": 16,
   "metadata": {},
   "outputs": [
    {
     "data": {
      "text/html": [
       "<div>\n",
       "<style scoped>\n",
       "    .dataframe tbody tr th:only-of-type {\n",
       "        vertical-align: middle;\n",
       "    }\n",
       "\n",
       "    .dataframe tbody tr th {\n",
       "        vertical-align: top;\n",
       "    }\n",
       "\n",
       "    .dataframe thead th {\n",
       "        text-align: right;\n",
       "    }\n",
       "</style>\n",
       "<table border=\"1\" class=\"dataframe\">\n",
       "  <thead>\n",
       "    <tr style=\"text-align: right;\">\n",
       "      <th></th>\n",
       "      <th>school</th>\n",
       "      <th>sex</th>\n",
       "      <th>age</th>\n",
       "      <th>address</th>\n",
       "      <th>famsize</th>\n",
       "      <th>Pstatus</th>\n",
       "      <th>Medu</th>\n",
       "      <th>Fedu</th>\n",
       "      <th>Mjob</th>\n",
       "      <th>Fjob</th>\n",
       "      <th>...</th>\n",
       "      <th>internet</th>\n",
       "      <th>romantic</th>\n",
       "      <th>famrel</th>\n",
       "      <th>freetime</th>\n",
       "      <th>goout</th>\n",
       "      <th>Dalc</th>\n",
       "      <th>Walc</th>\n",
       "      <th>health</th>\n",
       "      <th>absences</th>\n",
       "      <th>G1</th>\n",
       "    </tr>\n",
       "  </thead>\n",
       "  <tbody>\n",
       "    <tr>\n",
       "      <th>243</th>\n",
       "      <td>GP</td>\n",
       "      <td>F</td>\n",
       "      <td>17</td>\n",
       "      <td>U</td>\n",
       "      <td>GT3</td>\n",
       "      <td>A</td>\n",
       "      <td>2</td>\n",
       "      <td>1</td>\n",
       "      <td>other</td>\n",
       "      <td>other</td>\n",
       "      <td>...</td>\n",
       "      <td>yes</td>\n",
       "      <td>yes</td>\n",
       "      <td>3</td>\n",
       "      <td>2</td>\n",
       "      <td>3</td>\n",
       "      <td>1</td>\n",
       "      <td>2</td>\n",
       "      <td>3</td>\n",
       "      <td>0</td>\n",
       "      <td>15</td>\n",
       "    </tr>\n",
       "    <tr>\n",
       "      <th>234</th>\n",
       "      <td>GP</td>\n",
       "      <td>F</td>\n",
       "      <td>17</td>\n",
       "      <td>R</td>\n",
       "      <td>GT3</td>\n",
       "      <td>T</td>\n",
       "      <td>2</td>\n",
       "      <td>1</td>\n",
       "      <td>at_home</td>\n",
       "      <td>services</td>\n",
       "      <td>...</td>\n",
       "      <td>yes</td>\n",
       "      <td>no</td>\n",
       "      <td>4</td>\n",
       "      <td>2</td>\n",
       "      <td>5</td>\n",
       "      <td>1</td>\n",
       "      <td>2</td>\n",
       "      <td>5</td>\n",
       "      <td>0</td>\n",
       "      <td>11</td>\n",
       "    </tr>\n",
       "  </tbody>\n",
       "</table>\n",
       "<p>2 rows × 31 columns</p>\n",
       "</div>"
      ],
      "text/plain": [
       "    school sex  age address famsize Pstatus  Medu  Fedu     Mjob      Fjob  \\\n",
       "243     GP   F   17       U     GT3       A     2     1    other     other   \n",
       "234     GP   F   17       R     GT3       T     2     1  at_home  services   \n",
       "\n",
       "     ... internet romantic  famrel  freetime  goout Dalc Walc health absences  \\\n",
       "243  ...      yes      yes       3         2      3    1    2      3        0   \n",
       "234  ...      yes       no       4         2      5    1    2      5        0   \n",
       "\n",
       "     G1  \n",
       "243  15  \n",
       "234  11  \n",
       "\n",
       "[2 rows x 31 columns]"
      ]
     },
     "execution_count": 16,
     "metadata": {},
     "output_type": "execute_result"
    }
   ],
   "source": [
    "train_data_transformed.head(2)"
   ]
  },
  {
   "cell_type": "markdown",
   "metadata": {},
   "source": [
    "#### Drop Correlated Groups"
   ]
  },
  {
   "cell_type": "code",
   "execution_count": 17,
   "metadata": {},
   "outputs": [
    {
     "name": "stdout",
     "output_type": "stream",
     "text": [
      "Dropped features: ['G1']\n",
      "\n"
     ]
    }
   ],
   "source": [
    "# Build a simple model for evaluation\n",
    "from sklearn.linear_model import LinearRegression\n",
    "\n",
    "linear_model = LinearRegression()\n",
    "\n",
    "METHOD, THRESH = \"pearson\", 0.8\n",
    "SELECTION_METHOD, SCORING = \"model_performance\", \"r2\"\n",
    "CV = 3\n",
    "\n",
    "feat_selector = SmartCorrelatedSelection(\n",
    "    variables=None,\n",
    "    method=METHOD,\n",
    "    threshold=THRESH,\n",
    "    selection_method=SELECTION_METHOD,\n",
    "    scoring=SCORING,\n",
    "    estimator=linear_model,\n",
    "    cv=CV,\n",
    ")\n",
    "train_data_transformed = feat_selector.fit_transform(X_train, y_train)\n",
    "validation_data_transformed = feat_selector.transform(X_validation)\n",
    "\n",
    "feats_to_drop = feat_selector.features_to_drop_\n",
    "print(f\"Dropped features: {feats_to_drop}\\n\")"
   ]
  },
  {
   "cell_type": "code",
   "execution_count": 18,
   "metadata": {},
   "outputs": [
    {
     "data": {
      "text/plain": [
       "[{'G1', 'G2'}]"
      ]
     },
     "execution_count": 18,
     "metadata": {},
     "output_type": "execute_result"
    }
   ],
   "source": [
    "# Groups of correlated features\n",
    "feat_selector.correlated_feature_sets_"
   ]
  },
  {
   "cell_type": "code",
   "execution_count": 19,
   "metadata": {},
   "outputs": [
    {
     "data": {
      "text/html": [
       "<div>\n",
       "<style scoped>\n",
       "    .dataframe tbody tr th:only-of-type {\n",
       "        vertical-align: middle;\n",
       "    }\n",
       "\n",
       "    .dataframe tbody tr th {\n",
       "        vertical-align: top;\n",
       "    }\n",
       "\n",
       "    .dataframe thead th {\n",
       "        text-align: right;\n",
       "    }\n",
       "</style>\n",
       "<table border=\"1\" class=\"dataframe\">\n",
       "  <thead>\n",
       "    <tr style=\"text-align: right;\">\n",
       "      <th></th>\n",
       "      <th>school</th>\n",
       "      <th>sex</th>\n",
       "      <th>age</th>\n",
       "      <th>address</th>\n",
       "      <th>famsize</th>\n",
       "      <th>Pstatus</th>\n",
       "      <th>Medu</th>\n",
       "      <th>Fedu</th>\n",
       "      <th>Mjob</th>\n",
       "      <th>Fjob</th>\n",
       "      <th>...</th>\n",
       "      <th>internet</th>\n",
       "      <th>romantic</th>\n",
       "      <th>famrel</th>\n",
       "      <th>freetime</th>\n",
       "      <th>goout</th>\n",
       "      <th>Dalc</th>\n",
       "      <th>Walc</th>\n",
       "      <th>health</th>\n",
       "      <th>absences</th>\n",
       "      <th>G2</th>\n",
       "    </tr>\n",
       "  </thead>\n",
       "  <tbody>\n",
       "    <tr>\n",
       "      <th>243</th>\n",
       "      <td>GP</td>\n",
       "      <td>F</td>\n",
       "      <td>17</td>\n",
       "      <td>U</td>\n",
       "      <td>GT3</td>\n",
       "      <td>A</td>\n",
       "      <td>2</td>\n",
       "      <td>1</td>\n",
       "      <td>other</td>\n",
       "      <td>other</td>\n",
       "      <td>...</td>\n",
       "      <td>yes</td>\n",
       "      <td>yes</td>\n",
       "      <td>3</td>\n",
       "      <td>2</td>\n",
       "      <td>3</td>\n",
       "      <td>1</td>\n",
       "      <td>2</td>\n",
       "      <td>3</td>\n",
       "      <td>0</td>\n",
       "      <td>15</td>\n",
       "    </tr>\n",
       "    <tr>\n",
       "      <th>234</th>\n",
       "      <td>GP</td>\n",
       "      <td>F</td>\n",
       "      <td>17</td>\n",
       "      <td>R</td>\n",
       "      <td>GT3</td>\n",
       "      <td>T</td>\n",
       "      <td>2</td>\n",
       "      <td>1</td>\n",
       "      <td>at_home</td>\n",
       "      <td>services</td>\n",
       "      <td>...</td>\n",
       "      <td>yes</td>\n",
       "      <td>no</td>\n",
       "      <td>4</td>\n",
       "      <td>2</td>\n",
       "      <td>5</td>\n",
       "      <td>1</td>\n",
       "      <td>2</td>\n",
       "      <td>5</td>\n",
       "      <td>0</td>\n",
       "      <td>10</td>\n",
       "    </tr>\n",
       "  </tbody>\n",
       "</table>\n",
       "<p>2 rows × 31 columns</p>\n",
       "</div>"
      ],
      "text/plain": [
       "    school sex  age address famsize Pstatus  Medu  Fedu     Mjob      Fjob  \\\n",
       "243     GP   F   17       U     GT3       A     2     1    other     other   \n",
       "234     GP   F   17       R     GT3       T     2     1  at_home  services   \n",
       "\n",
       "     ... internet romantic  famrel  freetime  goout Dalc Walc health absences  \\\n",
       "243  ...      yes      yes       3         2      3    1    2      3        0   \n",
       "234  ...      yes       no       4         2      5    1    2      5        0   \n",
       "\n",
       "     G2  \n",
       "243  15  \n",
       "234  10  \n",
       "\n",
       "[2 rows x 31 columns]"
      ]
     },
     "execution_count": 19,
     "metadata": {},
     "output_type": "execute_result"
    }
   ],
   "source": [
    "train_data_transformed.head(2)"
   ]
  },
  {
   "attachments": {},
   "cell_type": "markdown",
   "metadata": {},
   "source": [
    "### Univariate Feature Selection\n",
    "\n",
    "#### Mutual information\n",
    "\n",
    "> In probability theory and information theory, the mutual information (MI) of two random variables is a measure of the mutual dependence between the two variables. More specifically, it quantifies the \"amount of information\" (in units such as shannons (bits), nats or hartleys) obtained about one random variable by observing the other random variable. It is equal to **zero** if and only if two random variables are independent, and **higher values** mean **higher dependency**.\n",
    "\n",
    "* This can be done bu using sklearn's implementation of `Mutual Information`\n",
    "* Regression: Using `sklearn.feature_selection.mutual_info_regression`\n",
    "* Classification: Using `sklearn.feature_selection.mutual_info_classif`\n",
    "\n",
    "* Examples can be found **[here](https://github.com/chineidu/feature-selection-for-machine-learning/blob/main/05-Filter-Statistical-Tests/05.1-Mutual-information.ipynb)**"
   ]
  },
  {
   "attachments": {},
   "cell_type": "markdown",
   "metadata": {},
   "source": [
    "<hr>\n",
    "\n",
    "#### Chi-Square Test for Feature Selection\n",
    "\n",
    "* In statistics, the chi-square test is used to determine the independence of two events. We can get observed count `Obs` and expected count `Exp` from the data of two variables. Chi-Square measures how expected count `Exp` and observed count `Obs` deviates each other. **[source](https://towardsdatascience.com/chi-square-test-for-feature-selection-in-machine-learning-206b1f0b8223)**\n",
    "\n",
    "$$chi_{squared} = \\sum{\\frac{(Obs - Exp)^2}{Exp}} $$\n",
    "\n",
    "* An example can be found **[here](https://github.com/chineidu/feature-selection-for-machine-learning/blob/main/05-Filter-Statistical-Tests/05.2-Chi-square-test.ipynb)**\n",
    "\n",
    "<hr>"
   ]
  },
  {
   "attachments": {},
   "cell_type": "markdown",
   "metadata": {},
   "source": [
    "#### Univariate Feature Selection Using ANOVA\n",
    "\n",
    "* The best features are chosen using univariate statistical tests in univariate feature selection (ANOVA). The degree of linear dependency between two random variables (the predictor variable and the target) is estimated using this method.\n",
    "\n",
    "* **ANOVA** assumes that the feature and the target have a linear relationship and that the variables have a Gaussian distribution. If this is not the case, the outcome of this test may be ineffective.\n",
    "\n",
    "* An example showing the implementation can be found **[here](https://github.com/chineidu/feature-selection-for-machine-learning/blob/main/05-Filter-Statistical-Tests/05.3-Univariate-selection.ipynb)**."
   ]
  },
  {
   "attachments": {},
   "cell_type": "markdown",
   "metadata": {},
   "source": [
    "<br><hr>\n",
    "\n",
    "### Univariate roc-auc or mse \n",
    "\n",
    "* You can use any other evaluation metrics.\n",
    "* Steps:\n",
    "\n",
    "1. Build an ML model using a single feature to predict the target.\n",
    "2. Make predictions and evaluate model predictions using any suitable metric.\n",
    "   * Regression: MSE, RMSE, MAE, R2\n",
    "   * Classification: ROC_AUC, Accuracy, Recall, etc\n",
    "3. Rank the features using the metrics.\n",
    "4. Select the highest ranking features."
   ]
  },
  {
   "cell_type": "code",
   "execution_count": 20,
   "metadata": {},
   "outputs": [],
   "source": [
    "from pydantic import BaseModel\n",
    "\n",
    "\n",
    "class Data(BaseModel):\n",
    "    \"\"\"This class represents the schema of a data object.\"\"\"\n",
    "\n",
    "    X_train: Union[pd.DataFrame, np.ndarray]\n",
    "    X_validation: Union[pd.DataFrame, np.ndarray]\n",
    "    y_train: Union[pd.Series, np.ndarray, Sequence]\n",
    "    y_validation: Union[pd.Series, np.ndarray, Sequence]\n",
    "\n",
    "    class Config:\n",
    "        arbitrary_types_allowed = True\n",
    "\n",
    "\n",
    "data_dict = {\n",
    "    \"X_train\": X_train,\n",
    "    \"X_validation\": X_validation,\n",
    "    \"y_train\": y_train,\n",
    "    \"y_validation\": y_validation,\n",
    "}\n",
    "sample_data = Data(**data_dict)"
   ]
  },
  {
   "cell_type": "code",
   "execution_count": 21,
   "metadata": {},
   "outputs": [],
   "source": [
    "class BestFeatures:\n",
    "    \"\"\"This is used to calculate the best features by creating a simple\n",
    "    estimator with a single feature and evaluating its performance with that feature.\"\"\"\n",
    "\n",
    "    MAE = \"MAE\"\n",
    "    ROC_AUC = \"ROC_AUC\"\n",
    "    REGRESSION = \"regression\"\n",
    "    CLASSIFICATION = \"classification\"\n",
    "\n",
    "    def __init__(\n",
    "        self,\n",
    "        *,\n",
    "        data: pd.DataFrame,\n",
    "        target: str,\n",
    "        type_: str,\n",
    "        random_state: int = 123,\n",
    "    ) -> None:\n",
    "        self.data = data\n",
    "        self.target = target\n",
    "        if type_ not in [self.REGRESSION, self.CLASSIFICATION]:\n",
    "            raise Exception(\n",
    "                f\"{type_!r} must be {self.type_list[0]!r} or {self.type_list[1]!r}\"\n",
    "            )\n",
    "        self.type_ = type_.lower().strip()\n",
    "        self.random_state = random_state\n",
    "        self.eval_metric = self.MAE if self.type_ == self.REGRESSION else self.ROC_AUC\n",
    "        self.status = (\n",
    "            \"lower is better!\" if self.type_ == self.REGRESSION else \"higher is better!\"\n",
    "        )\n",
    "        self.order = False if self.type_ == self.REGRESSION else True\n",
    "        self.feature_rankings = {}\n",
    "\n",
    "    def __repr__(self) -> str:\n",
    "        return (\n",
    "            f\"{self.__class__.__name__}(Data_shape=({self.data.shape}), \"\n",
    "            f\"target=({self.target!r}), type_={self.type_!r}, \"\n",
    "            f\"random_state=({self.random_state}), eval_metric={self.eval_metric!r})\"\n",
    "        )\n",
    "\n",
    "    def select_best_features(self) -> dict[str]:\n",
    "        \"\"\"Determine the best features.\"\"\"\n",
    "        from sklearn.ensemble import RandomForestClassifier, RandomForestRegressor\n",
    "        from sklearn import metrics\n",
    "\n",
    "        message = {\n",
    "            \"type\": self.type_,\n",
    "            \"evaluation metric\": self.eval_metric,\n",
    "            \"status\": self.status,\n",
    "        }\n",
    "\n",
    "        print(message)\n",
    "\n",
    "        for feat in self.data.columns:\n",
    "            if feat != self.target:\n",
    "                X = self.data[[feat, self.target]]\n",
    "                # Split the data\n",
    "                X_train, X_validation, y_train, y_validation = self._split_data(\n",
    "                    data=X,\n",
    "                    target=self.target,\n",
    "                    random_state=self.random_state,\n",
    "                    display_shape=False,\n",
    "                )\n",
    "                if self.type_ == self.REGRESSION:  # regression\n",
    "                    estimator = RandomForestRegressor(random_state=self.random_state)\n",
    "                    # Fit model\n",
    "                    estimator.fit(X_train, y_train)\n",
    "                    # Make predictions\n",
    "                    y_pred = estimator.predict(X_validation)\n",
    "                    # Evaluate estimator\n",
    "                    mae = metrics.mean_absolute_error(\n",
    "                        y_true=y_validation, y_pred=y_pred\n",
    "                    )\n",
    "                    self.feature_rankings[feat] = mae\n",
    "                else:  # classification\n",
    "                    estimator = RandomForestClassifier(random_state=self.random_state)\n",
    "                    # Fit model\n",
    "                    estimator.fit(X_train, y_train)\n",
    "                    y_pred = estimator.predict_proba(X_validation)[:, 1]\n",
    "                    mae = metrics.roc_auc_score(y_true=y_validation, y_score=y_pred)\n",
    "                    self.feature_rankings[feat] = mae\n",
    "        # Sort the dict\n",
    "        if self.type_ == self.REGRESSION:\n",
    "            self.feature_rankings = self._sort_dict(\n",
    "                input_dict=self.feature_rankings, ascending=self.order\n",
    "            )\n",
    "        else:\n",
    "            self.feature_rankings = self._sort_dict(\n",
    "                input_dict=self.feature_rankings, ascending=self.order\n",
    "            )\n",
    "        return self.feature_rankings\n",
    "\n",
    "    def visualize_rankings(self) -> \"Plot\":\n",
    "        \"\"\"This returns a bar plot showing the features and the metric used.\"\"\"\n",
    "        # Determine best features and create DataFrame\n",
    "        self.select_best_features()\n",
    "        df = pd.DataFrame(self.feature_rankings, index=[0]).T\n",
    "        eval_metric = self.MAE if self.type_ == self.REGRESSION else self.ROC_AUC\n",
    "\n",
    "        df = df.rename(columns={0: eval_metric}).sort_values(\n",
    "            by=eval_metric, ascending=self.order\n",
    "        )\n",
    "        print(eval_metric)\n",
    "\n",
    "        THRESH = (\n",
    "            np.percentile(df[eval_metric], q=40)\n",
    "            if self.type_ == self.REGRESSION\n",
    "            else 0.55\n",
    "        )\n",
    "\n",
    "        df.plot(\n",
    "            kind=\"bar\",\n",
    "            title=f\"{eval_metric!r} of The Features ({self.status})\",\n",
    "            xlabel=eval_metric,\n",
    "            figsize=(8, 5),\n",
    "        )\n",
    "        plt.axhline(y=THRESH, color=\"red\")\n",
    "        plt.tight_layout()\n",
    "\n",
    "    plt.show()\n",
    "\n",
    "    @staticmethod\n",
    "    def _split_data(\n",
    "        *,\n",
    "        data: pd.DataFrame,\n",
    "        target: str,\n",
    "        random_state: int = 123,\n",
    "        test_size: float = 0.2,\n",
    "        display_shape: bool = True,\n",
    "    ) -> tuple[np.ndarray]:\n",
    "        \"\"\"This split the data into X_train, X_validation, y_train, y_validation.\"\"\"\n",
    "        # Split into train and validation\n",
    "\n",
    "        X = data.drop(columns=[target])\n",
    "        y = data.get(target)\n",
    "\n",
    "        X_train, X_validation, y_train, y_validation = train_test_split(\n",
    "            X, y, test_size=test_size, random_state=random_state\n",
    "        )\n",
    "        if display_shape:\n",
    "            print(\n",
    "                f\"Shape of X_train: {X_train.shape}, \\nShape of X_validation: {X_validation.shape}\"\n",
    "            )\n",
    "        return (X_train, X_validation, y_train, y_validation)\n",
    "\n",
    "    @staticmethod\n",
    "    def _sort_dict(*, input_dict: dict, ascending: bool = True) -> dict:\n",
    "        \"\"\"This is used to sort a dict using the values.\"\"\"\n",
    "        sorted_dict = dict(\n",
    "            sorted(input_dict.items(), key=lambda x: x[1], reverse=ascending)\n",
    "        )\n",
    "        return sorted_dict"
   ]
  },
  {
   "attachments": {},
   "cell_type": "markdown",
   "metadata": {},
   "source": [
    "#### Regression"
   ]
  },
  {
   "cell_type": "code",
   "execution_count": 22,
   "metadata": {},
   "outputs": [
    {
     "data": {
      "text/html": [
       "<div>\n",
       "<style scoped>\n",
       "    .dataframe tbody tr th:only-of-type {\n",
       "        vertical-align: middle;\n",
       "    }\n",
       "\n",
       "    .dataframe tbody tr th {\n",
       "        vertical-align: top;\n",
       "    }\n",
       "\n",
       "    .dataframe thead th {\n",
       "        text-align: right;\n",
       "    }\n",
       "</style>\n",
       "<table border=\"1\" class=\"dataframe\">\n",
       "  <thead>\n",
       "    <tr style=\"text-align: right;\">\n",
       "      <th></th>\n",
       "      <th>school</th>\n",
       "      <th>sex</th>\n",
       "      <th>age</th>\n",
       "      <th>address</th>\n",
       "      <th>famsize</th>\n",
       "      <th>Pstatus</th>\n",
       "      <th>Medu</th>\n",
       "      <th>Fedu</th>\n",
       "      <th>Mjob</th>\n",
       "      <th>Fjob</th>\n",
       "      <th>...</th>\n",
       "      <th>famrel</th>\n",
       "      <th>freetime</th>\n",
       "      <th>goout</th>\n",
       "      <th>Dalc</th>\n",
       "      <th>Walc</th>\n",
       "      <th>health</th>\n",
       "      <th>absences</th>\n",
       "      <th>G1</th>\n",
       "      <th>G2</th>\n",
       "      <th>G3</th>\n",
       "    </tr>\n",
       "  </thead>\n",
       "  <tbody>\n",
       "    <tr>\n",
       "      <th>0</th>\n",
       "      <td>1</td>\n",
       "      <td>1</td>\n",
       "      <td>18</td>\n",
       "      <td>1</td>\n",
       "      <td>0</td>\n",
       "      <td>1</td>\n",
       "      <td>4</td>\n",
       "      <td>4</td>\n",
       "      <td>0</td>\n",
       "      <td>4</td>\n",
       "      <td>...</td>\n",
       "      <td>4</td>\n",
       "      <td>3</td>\n",
       "      <td>4</td>\n",
       "      <td>1</td>\n",
       "      <td>1</td>\n",
       "      <td>3</td>\n",
       "      <td>4</td>\n",
       "      <td>0</td>\n",
       "      <td>11</td>\n",
       "      <td>11</td>\n",
       "    </tr>\n",
       "    <tr>\n",
       "      <th>1</th>\n",
       "      <td>1</td>\n",
       "      <td>1</td>\n",
       "      <td>17</td>\n",
       "      <td>1</td>\n",
       "      <td>0</td>\n",
       "      <td>0</td>\n",
       "      <td>1</td>\n",
       "      <td>1</td>\n",
       "      <td>0</td>\n",
       "      <td>2</td>\n",
       "      <td>...</td>\n",
       "      <td>5</td>\n",
       "      <td>3</td>\n",
       "      <td>3</td>\n",
       "      <td>1</td>\n",
       "      <td>1</td>\n",
       "      <td>3</td>\n",
       "      <td>2</td>\n",
       "      <td>9</td>\n",
       "      <td>11</td>\n",
       "      <td>11</td>\n",
       "    </tr>\n",
       "    <tr>\n",
       "      <th>2</th>\n",
       "      <td>1</td>\n",
       "      <td>1</td>\n",
       "      <td>15</td>\n",
       "      <td>1</td>\n",
       "      <td>1</td>\n",
       "      <td>0</td>\n",
       "      <td>1</td>\n",
       "      <td>1</td>\n",
       "      <td>0</td>\n",
       "      <td>2</td>\n",
       "      <td>...</td>\n",
       "      <td>4</td>\n",
       "      <td>3</td>\n",
       "      <td>2</td>\n",
       "      <td>2</td>\n",
       "      <td>3</td>\n",
       "      <td>3</td>\n",
       "      <td>6</td>\n",
       "      <td>12</td>\n",
       "      <td>13</td>\n",
       "      <td>12</td>\n",
       "    </tr>\n",
       "    <tr>\n",
       "      <th>3</th>\n",
       "      <td>1</td>\n",
       "      <td>1</td>\n",
       "      <td>15</td>\n",
       "      <td>1</td>\n",
       "      <td>0</td>\n",
       "      <td>0</td>\n",
       "      <td>4</td>\n",
       "      <td>2</td>\n",
       "      <td>3</td>\n",
       "      <td>1</td>\n",
       "      <td>...</td>\n",
       "      <td>3</td>\n",
       "      <td>2</td>\n",
       "      <td>2</td>\n",
       "      <td>1</td>\n",
       "      <td>1</td>\n",
       "      <td>5</td>\n",
       "      <td>0</td>\n",
       "      <td>14</td>\n",
       "      <td>14</td>\n",
       "      <td>14</td>\n",
       "    </tr>\n",
       "    <tr>\n",
       "      <th>4</th>\n",
       "      <td>1</td>\n",
       "      <td>1</td>\n",
       "      <td>16</td>\n",
       "      <td>1</td>\n",
       "      <td>0</td>\n",
       "      <td>0</td>\n",
       "      <td>3</td>\n",
       "      <td>3</td>\n",
       "      <td>1</td>\n",
       "      <td>2</td>\n",
       "      <td>...</td>\n",
       "      <td>4</td>\n",
       "      <td>3</td>\n",
       "      <td>2</td>\n",
       "      <td>1</td>\n",
       "      <td>2</td>\n",
       "      <td>5</td>\n",
       "      <td>0</td>\n",
       "      <td>11</td>\n",
       "      <td>13</td>\n",
       "      <td>13</td>\n",
       "    </tr>\n",
       "  </tbody>\n",
       "</table>\n",
       "<p>5 rows × 33 columns</p>\n",
       "</div>"
      ],
      "text/plain": [
       "   school  sex  age  address  famsize  Pstatus  Medu  Fedu  Mjob  Fjob  ...  \\\n",
       "0       1    1   18        1        0        1     4     4     0     4  ...   \n",
       "1       1    1   17        1        0        0     1     1     0     2  ...   \n",
       "2       1    1   15        1        1        0     1     1     0     2  ...   \n",
       "3       1    1   15        1        0        0     4     2     3     1  ...   \n",
       "4       1    1   16        1        0        0     3     3     1     2  ...   \n",
       "\n",
       "   famrel  freetime  goout  Dalc  Walc  health  absences  G1  G2  G3  \n",
       "0       4         3      4     1     1       3         4   0  11  11  \n",
       "1       5         3      3     1     1       3         2   9  11  11  \n",
       "2       4         3      2     2     3       3         6  12  13  12  \n",
       "3       3         2      2     1     1       5         0  14  14  14  \n",
       "4       4         3      2     1     2       5         0  11  13  13  \n",
       "\n",
       "[5 rows x 33 columns]"
      ]
     },
     "execution_count": 22,
     "metadata": {},
     "output_type": "execute_result"
    }
   ],
   "source": [
    "from feature_engine.encoding import OrdinalEncoder\n",
    "\n",
    "X = data.drop(columns=[\"G3\"])\n",
    "y = data[\"G3\"]\n",
    "\n",
    "ordinal_enc = OrdinalEncoder(encoding_method=\"ordered\")\n",
    "df = ordinal_enc.fit_transform(X=X, y=y)\n",
    "df = pd.concat([df, y], axis=1)\n",
    "df.head()"
   ]
  },
  {
   "cell_type": "code",
   "execution_count": 23,
   "metadata": {},
   "outputs": [
    {
     "data": {
      "text/plain": [
       "BestFeatures(Data_shape=((649, 33)), target=('G3'), type_='regression', random_state=(123), eval_metric='MAE')"
      ]
     },
     "execution_count": 23,
     "metadata": {},
     "output_type": "execute_result"
    }
   ],
   "source": [
    "best_feats = BestFeatures(data=df, target=\"G3\", type_=\"regression\")\n",
    "best_feats"
   ]
  },
  {
   "cell_type": "code",
   "execution_count": 24,
   "metadata": {},
   "outputs": [
    {
     "name": "stdout",
     "output_type": "stream",
     "text": [
      "{'type': 'regression', 'evaluation metric': 'MAE', 'status': 'lower is better!'}\n"
     ]
    },
    {
     "data": {
      "text/plain": [
       "{'G2': 0.7991711614563183,\n",
       " 'G1': 1.1467172396004768,\n",
       " 'failures': 2.319934085230682,\n",
       " 'studytime': 2.379904793540111,\n",
       " 'Mjob': 2.4008390500043357,\n",
       " 'Medu': 2.407328668591459,\n",
       " 'reason': 2.4272715526098216,\n",
       " 'Fedu': 2.4296267540045235,\n",
       " 'absences': 2.4486701495904395,\n",
       " 'address': 2.4520608914265387,\n",
       " 'internet': 2.471074291957501,\n",
       " 'school': 2.499210973795942,\n",
       " 'goout': 2.5021464634046744,\n",
       " 'higher': 2.502745985421588,\n",
       " 'freetime': 2.5054945431941147,\n",
       " 'Fjob': 2.5124706091789912,\n",
       " 'age': 2.515198602558132,\n",
       " 'famrel': 2.524446779174147,\n",
       " 'guardian': 2.5301951778957372,\n",
       " 'traveltime': 2.5353308187778065,\n",
       " 'schoolsup': 2.5371846976973242,\n",
       " 'activities': 2.5409789413691124,\n",
       " 'Walc': 2.5453486482019074,\n",
       " 'health': 2.547657835448039,\n",
       " 'romantic': 2.5514603085151424,\n",
       " 'nursery': 2.5522863580658663,\n",
       " 'famsize': 2.5569831398905762,\n",
       " 'Pstatus': 2.5577231693285114,\n",
       " 'paid': 2.5657052172293096,\n",
       " 'sex': 2.5732817728555055,\n",
       " 'Dalc': 2.5733309620758145,\n",
       " 'famsup': 2.652336119898362}"
      ]
     },
     "execution_count": 24,
     "metadata": {},
     "output_type": "execute_result"
    }
   ],
   "source": [
    "feature_importance = best_feats.select_best_features()\n",
    "feature_importance"
   ]
  },
  {
   "cell_type": "code",
   "execution_count": 25,
   "metadata": {},
   "outputs": [
    {
     "name": "stdout",
     "output_type": "stream",
     "text": [
      "{'type': 'regression', 'evaluation metric': 'MAE', 'status': 'lower is better!'}\n",
      "MAE\n"
     ]
    },
    {
     "data": {
      "image/png": "[encoded data removed]",
      "text/plain": [
       "<Figure size 800x500 with 1 Axes>"
      ]
     },
     "metadata": {},
     "output_type": "display_data"
    }
   ],
   "source": [
    "best_feats.visualize_rankings()"
   ]
  },
  {
   "cell_type": "code",
   "execution_count": 26,
   "metadata": {},
   "outputs": [
    {
     "name": "stdout",
     "output_type": "stream",
     "text": [
      "['G2', 'G1', 'failures', 'studytime', 'Mjob', 'Medu', 'reason', 'Fedu', 'absences', 'address', 'internet', 'school', 'goout', 'higher', 'freetime', 'Fjob', 'age', 'famrel', 'guardian', 'traveltime', 'schoolsup', 'activities', 'Walc', 'health', 'romantic', 'nursery']\n"
     ]
    }
   ],
   "source": [
    "import itertools\n",
    "\n",
    "# Best N features\n",
    "N = 26\n",
    "best_feats = dict(itertools.islice(feature_importance.items(), 0, N))\n",
    "best_feats = list(best_feats.keys())\n",
    "print(best_feats)"
   ]
  },
  {
   "cell_type": "code",
   "execution_count": 27,
   "metadata": {},
   "outputs": [
    {
     "name": "stdout",
     "output_type": "stream",
     "text": [
      "Shape of X_train: (519, 47), \n",
      "Shape of X_validation: (130, 47)\n",
      "================ Evaluation Metrics ================\n",
      "Mean Squared Error (Lower is better!!): 1.611\n",
      "Root Mean Squared Error (Lower is better!!): 1.269\n",
      "Mean Absolute Error (Lower is better!!): 0.826\n",
      "===================================================\n",
      "R Squared (Higher is better!!): 0.851 \n"
     ]
    }
   ],
   "source": [
    "from sklearn.ensemble import RandomForestRegressor\n",
    "\n",
    "\n",
    "dff = data[best_feats + [\"G3\"]]\n",
    "dff = pd.get_dummies(dff)\n",
    "split = BestFeatures(data=dff, target=\"G3\", type_=\"regression\")\n",
    "X_train, X_validation, y_train, y_validation = split._split_data(data=dff, target=\"G3\")\n",
    "\n",
    "reg = RandomForestRegressor(random_state=RANDOM_STATE)\n",
    "\n",
    "# Fit\n",
    "reg.fit(X_train, y_train)\n",
    "\n",
    "# Make predictions\n",
    "y_pred = reg.predict(X_validation)\n",
    "\n",
    "# Evaluate\n",
    "print(evaluate_model(y_true=y_validation, y_pred=y_pred))"
   ]
  },
  {
   "cell_type": "code",
   "execution_count": null,
   "metadata": {},
   "outputs": [],
   "source": []
  },
  {
   "cell_type": "markdown",
   "metadata": {},
   "source": [
    "#### Classification"
   ]
  },
  {
   "cell_type": "code",
   "execution_count": 28,
   "metadata": {},
   "outputs": [
    {
     "name": "stdout",
     "output_type": "stream",
     "text": [
      "Shape of data: (891, 12)\n",
      "\n"
     ]
    },
    {
     "data": {
      "text/html": [
       "<div>\n",
       "<style scoped>\n",
       "    .dataframe tbody tr th:only-of-type {\n",
       "        vertical-align: middle;\n",
       "    }\n",
       "\n",
       "    .dataframe tbody tr th {\n",
       "        vertical-align: top;\n",
       "    }\n",
       "\n",
       "    .dataframe thead th {\n",
       "        text-align: right;\n",
       "    }\n",
       "</style>\n",
       "<table border=\"1\" class=\"dataframe\">\n",
       "  <thead>\n",
       "    <tr style=\"text-align: right;\">\n",
       "      <th></th>\n",
       "      <th>Sex</th>\n",
       "      <th>Age</th>\n",
       "      <th>Pclass</th>\n",
       "      <th>SibSp</th>\n",
       "      <th>Parch</th>\n",
       "      <th>Fare</th>\n",
       "      <th>Embarked</th>\n",
       "      <th>Survived</th>\n",
       "    </tr>\n",
       "  </thead>\n",
       "  <tbody>\n",
       "    <tr>\n",
       "      <th>0</th>\n",
       "      <td>male</td>\n",
       "      <td>22.0</td>\n",
       "      <td>3</td>\n",
       "      <td>1</td>\n",
       "      <td>0</td>\n",
       "      <td>7.2500</td>\n",
       "      <td>S</td>\n",
       "      <td>0</td>\n",
       "    </tr>\n",
       "    <tr>\n",
       "      <th>1</th>\n",
       "      <td>female</td>\n",
       "      <td>38.0</td>\n",
       "      <td>1</td>\n",
       "      <td>1</td>\n",
       "      <td>0</td>\n",
       "      <td>71.2833</td>\n",
       "      <td>C</td>\n",
       "      <td>1</td>\n",
       "    </tr>\n",
       "    <tr>\n",
       "      <th>2</th>\n",
       "      <td>female</td>\n",
       "      <td>26.0</td>\n",
       "      <td>3</td>\n",
       "      <td>0</td>\n",
       "      <td>0</td>\n",
       "      <td>7.9250</td>\n",
       "      <td>S</td>\n",
       "      <td>1</td>\n",
       "    </tr>\n",
       "    <tr>\n",
       "      <th>3</th>\n",
       "      <td>female</td>\n",
       "      <td>35.0</td>\n",
       "      <td>1</td>\n",
       "      <td>1</td>\n",
       "      <td>0</td>\n",
       "      <td>53.1000</td>\n",
       "      <td>S</td>\n",
       "      <td>1</td>\n",
       "    </tr>\n",
       "    <tr>\n",
       "      <th>4</th>\n",
       "      <td>male</td>\n",
       "      <td>35.0</td>\n",
       "      <td>3</td>\n",
       "      <td>0</td>\n",
       "      <td>0</td>\n",
       "      <td>8.0500</td>\n",
       "      <td>S</td>\n",
       "      <td>0</td>\n",
       "    </tr>\n",
       "  </tbody>\n",
       "</table>\n",
       "</div>"
      ],
      "text/plain": [
       "      Sex   Age  Pclass  SibSp  Parch     Fare Embarked  Survived\n",
       "0    male  22.0       3      1      0   7.2500        S         0\n",
       "1  female  38.0       1      1      0  71.2833        C         1\n",
       "2  female  26.0       3      0      0   7.9250        S         1\n",
       "3  female  35.0       1      1      0  53.1000        S         1\n",
       "4    male  35.0       3      0      0   8.0500        S         0"
      ]
     },
     "execution_count": 28,
     "metadata": {},
     "output_type": "execute_result"
    }
   ],
   "source": [
    "dff = load_data(filename=\"../../data/titanic_train.csv\")\n",
    "features = [\"Sex\", \"Age\", \"Pclass\", \"SibSp\", \"Parch\", \"Fare\", \"Embarked\", \"Survived\"]\n",
    "dff = dff[features].dropna()\n",
    "\n",
    "dff.head()"
   ]
  },
  {
   "cell_type": "code",
   "execution_count": 29,
   "metadata": {},
   "outputs": [
    {
     "data": {
      "text/html": [
       "<div>\n",
       "<style scoped>\n",
       "    .dataframe tbody tr th:only-of-type {\n",
       "        vertical-align: middle;\n",
       "    }\n",
       "\n",
       "    .dataframe tbody tr th {\n",
       "        vertical-align: top;\n",
       "    }\n",
       "\n",
       "    .dataframe thead th {\n",
       "        text-align: right;\n",
       "    }\n",
       "</style>\n",
       "<table border=\"1\" class=\"dataframe\">\n",
       "  <thead>\n",
       "    <tr style=\"text-align: right;\">\n",
       "      <th></th>\n",
       "      <th>Sex</th>\n",
       "      <th>Age</th>\n",
       "      <th>Pclass</th>\n",
       "      <th>SibSp</th>\n",
       "      <th>Parch</th>\n",
       "      <th>Fare</th>\n",
       "      <th>Embarked</th>\n",
       "      <th>Survived</th>\n",
       "    </tr>\n",
       "  </thead>\n",
       "  <tbody>\n",
       "    <tr>\n",
       "      <th>0</th>\n",
       "      <td>0.205298</td>\n",
       "      <td>22.0</td>\n",
       "      <td>3</td>\n",
       "      <td>1</td>\n",
       "      <td>0</td>\n",
       "      <td>7.2500</td>\n",
       "      <td>0.362816</td>\n",
       "      <td>0</td>\n",
       "    </tr>\n",
       "    <tr>\n",
       "      <th>1</th>\n",
       "      <td>0.752896</td>\n",
       "      <td>38.0</td>\n",
       "      <td>1</td>\n",
       "      <td>1</td>\n",
       "      <td>0</td>\n",
       "      <td>71.2833</td>\n",
       "      <td>0.607692</td>\n",
       "      <td>1</td>\n",
       "    </tr>\n",
       "    <tr>\n",
       "      <th>2</th>\n",
       "      <td>0.752896</td>\n",
       "      <td>26.0</td>\n",
       "      <td>3</td>\n",
       "      <td>0</td>\n",
       "      <td>0</td>\n",
       "      <td>7.9250</td>\n",
       "      <td>0.362816</td>\n",
       "      <td>1</td>\n",
       "    </tr>\n",
       "    <tr>\n",
       "      <th>3</th>\n",
       "      <td>0.752896</td>\n",
       "      <td>35.0</td>\n",
       "      <td>1</td>\n",
       "      <td>1</td>\n",
       "      <td>0</td>\n",
       "      <td>53.1000</td>\n",
       "      <td>0.362816</td>\n",
       "      <td>1</td>\n",
       "    </tr>\n",
       "    <tr>\n",
       "      <th>4</th>\n",
       "      <td>0.205298</td>\n",
       "      <td>35.0</td>\n",
       "      <td>3</td>\n",
       "      <td>0</td>\n",
       "      <td>0</td>\n",
       "      <td>8.0500</td>\n",
       "      <td>0.362816</td>\n",
       "      <td>0</td>\n",
       "    </tr>\n",
       "  </tbody>\n",
       "</table>\n",
       "</div>"
      ],
      "text/plain": [
       "        Sex   Age  Pclass  SibSp  Parch     Fare  Embarked  Survived\n",
       "0  0.205298  22.0       3      1      0   7.2500  0.362816         0\n",
       "1  0.752896  38.0       1      1      0  71.2833  0.607692         1\n",
       "2  0.752896  26.0       3      0      0   7.9250  0.362816         1\n",
       "3  0.752896  35.0       1      1      0  53.1000  0.362816         1\n",
       "4  0.205298  35.0       3      0      0   8.0500  0.362816         0"
      ]
     },
     "execution_count": 29,
     "metadata": {},
     "output_type": "execute_result"
    }
   ],
   "source": [
    "from feature_engine.encoding import MeanEncoder\n",
    "\n",
    "X = dff.drop(columns=[\"Survived\"])\n",
    "y = dff[\"Survived\"]\n",
    "mean_enc = MeanEncoder(variables=[\"Sex\", \"Embarked\"])\n",
    "df = mean_enc.fit_transform(X=X, y=y)\n",
    "df = pd.concat([df, y], axis=1)\n",
    "\n",
    "df.head()"
   ]
  },
  {
   "cell_type": "code",
   "execution_count": 30,
   "metadata": {},
   "outputs": [
    {
     "data": {
      "text/plain": [
       "BestFeatures(Data_shape=((712, 8)), target=('Survived'), type_='classification', random_state=(123), eval_metric='ROC_AUC')"
      ]
     },
     "execution_count": 30,
     "metadata": {},
     "output_type": "execute_result"
    }
   ],
   "source": [
    "best_feats = BestFeatures(data=df, target=\"Survived\", type_=\"classification\")\n",
    "best_feats"
   ]
  },
  {
   "cell_type": "code",
   "execution_count": 31,
   "metadata": {},
   "outputs": [
    {
     "name": "stdout",
     "output_type": "stream",
     "text": [
      "{'type': 'classification', 'evaluation metric': 'ROC_AUC', 'status': 'higher is better!'}\n"
     ]
    },
    {
     "data": {
      "text/plain": [
       "{'Sex': 0.7239959839357429,\n",
       " 'Pclass': 0.7147590361445783,\n",
       " 'Fare': 0.6929718875502009,\n",
       " 'Embarked': 0.6385542168674698,\n",
       " 'Parch': 0.61285140562249,\n",
       " 'SibSp': 0.5634538152610441,\n",
       " 'Age': 0.5210843373493976}"
      ]
     },
     "execution_count": 31,
     "metadata": {},
     "output_type": "execute_result"
    }
   ],
   "source": [
    "best_feats.select_best_features()"
   ]
  },
  {
   "cell_type": "code",
   "execution_count": 32,
   "metadata": {},
   "outputs": [
    {
     "name": "stdout",
     "output_type": "stream",
     "text": [
      "{'type': 'classification', 'evaluation metric': 'ROC_AUC', 'status': 'higher is better!'}\n",
      "ROC_AUC\n"
     ]
    },
    {
     "data": {
      "image/png": "[encoded data removed]",
      "text/plain": [
       "<Figure size 800x500 with 1 Axes>"
      ]
     },
     "metadata": {},
     "output_type": "display_data"
    }
   ],
   "source": [
    "best_feats.visualize_rankings()"
   ]
  },
  {
   "cell_type": "code",
   "execution_count": null,
   "metadata": {},
   "outputs": [],
   "source": []
  },
  {
   "cell_type": "code",
   "execution_count": null,
   "metadata": {},
   "outputs": [],
   "source": []
  },
  {
   "cell_type": "code",
   "execution_count": null,
   "metadata": {},
   "outputs": [],
   "source": []
  },
  {
   "cell_type": "code",
   "execution_count": null,
   "metadata": {},
   "outputs": [],
   "source": []
  },
  {
   "cell_type": "code",
   "execution_count": null,
   "metadata": {},
   "outputs": [],
   "source": []
  },
  {
   "cell_type": "code",
   "execution_count": null,
   "metadata": {},
   "outputs": [],
   "source": []
  },
  {
   "cell_type": "code",
   "execution_count": null,
   "metadata": {},
   "outputs": [],
   "source": []
  },
  {
   "cell_type": "code",
   "execution_count": null,
   "metadata": {},
   "outputs": [],
   "source": []
  },
  {
   "cell_type": "code",
   "execution_count": null,
   "metadata": {},
   "outputs": [],
   "source": []
  }
 ],
 "metadata": {
  "kernelspec": {
   "display_name": "venv",
   "language": "python",
   "name": "python3"
  },
  "language_info": {
   "codemirror_mode": {
    "name": "ipython",
    "version": 3
   },
   "file_extension": ".py",
   "mimetype": "text/x-python",
   "name": "python",
   "nbconvert_exporter": "python",
   "pygments_lexer": "ipython3",
   "version": "3.10.8"
  },
  "orig_nbformat": 4
 },
 "nbformat": 4,
 "nbformat_minor": 2
}
