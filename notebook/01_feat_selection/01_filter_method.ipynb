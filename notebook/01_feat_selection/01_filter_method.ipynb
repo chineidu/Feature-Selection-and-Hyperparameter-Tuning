{
 "cells": [
  {
   "cell_type": "markdown",
   "metadata": {},
   "source": [
    "# Filter Methods"
   ]
  },
  {
   "cell_type": "code",
   "execution_count": 1,
   "metadata": {},
   "outputs": [],
   "source": [
    "from typing import Sequence, Union, Optional\n",
    "\n",
    "import numpy as np\n",
    "import pandas as pd\n",
    "\n",
    "# For auto-formatting of code\n",
    "%load_ext lab_black"
   ]
  },
  {
   "attachments": {},
   "cell_type": "markdown",
   "metadata": {},
   "source": [
    "## Constant Features\n",
    "\n",
    "* These are features that have just one unique value/label for all the observations of the dataset. \n",
    "* These features provide no valuable information. i.e they have no predictive power.\n",
    "* Constant feature identification and removal is a simple first step toward feature selection and more easily interpretable machine learning models.\n",
    "\n",
    "<br>\n",
    "\n",
    "* **Numeric:** The variance can bu used to detect constant features. A constant feature has **zero** variance.\n",
    "* **Categorical:** The unique labels can be used to detect constant features. If the number of unique labels is **zero**, then it's a unique constant."
   ]
  },
  {
   "cell_type": "code",
   "execution_count": 35,
   "metadata": {},
   "outputs": [
    {
     "data": {
      "text/html": [
       "<div>\n",
       "<style scoped>\n",
       "    .dataframe tbody tr th:only-of-type {\n",
       "        vertical-align: middle;\n",
       "    }\n",
       "\n",
       "    .dataframe tbody tr th {\n",
       "        vertical-align: top;\n",
       "    }\n",
       "\n",
       "    .dataframe thead th {\n",
       "        text-align: right;\n",
       "    }\n",
       "</style>\n",
       "<table border=\"1\" class=\"dataframe\">\n",
       "  <thead>\n",
       "    <tr style=\"text-align: right;\">\n",
       "      <th></th>\n",
       "      <th>a1</th>\n",
       "      <th>a2</th>\n",
       "      <th>a3</th>\n",
       "    </tr>\n",
       "  </thead>\n",
       "  <tbody>\n",
       "    <tr>\n",
       "      <th>0</th>\n",
       "      <td>A</td>\n",
       "      <td>0.0</td>\n",
       "      <td>9</td>\n",
       "    </tr>\n",
       "    <tr>\n",
       "      <th>1</th>\n",
       "      <td>A</td>\n",
       "      <td>0.0</td>\n",
       "      <td>8</td>\n",
       "    </tr>\n",
       "    <tr>\n",
       "      <th>2</th>\n",
       "      <td>A</td>\n",
       "      <td>0.0</td>\n",
       "      <td>6</td>\n",
       "    </tr>\n",
       "    <tr>\n",
       "      <th>3</th>\n",
       "      <td>A</td>\n",
       "      <td>0.0</td>\n",
       "      <td>6</td>\n",
       "    </tr>\n",
       "    <tr>\n",
       "      <th>4</th>\n",
       "      <td>A</td>\n",
       "      <td>0.0</td>\n",
       "      <td>2</td>\n",
       "    </tr>\n",
       "  </tbody>\n",
       "</table>\n",
       "</div>"
      ],
      "text/plain": [
       "  a1   a2  a3\n",
       "0  A  0.0   9\n",
       "1  A  0.0   8\n",
       "2  A  0.0   6\n",
       "3  A  0.0   6\n",
       "4  A  0.0   2"
      ]
     },
     "execution_count": 35,
     "metadata": {},
     "output_type": "execute_result"
    }
   ],
   "source": [
    "lst = [\"A\", \"A\", \"A\", \"A\", \"A\", \"A\", \"A\", \"A\", \"A\", \"A\"]\n",
    "size = 100\n",
    "\n",
    "data = {\n",
    "    \"a1\": lst * size,\n",
    "    \"a2\": np.zeros(shape=(size * 10)),\n",
    "    \"a3\": np.random.randint(1, 10, size=size * 10),\n",
    "}\n",
    "\n",
    "df = pd.DataFrame(data)\n",
    "df.iloc[[7, 28, 85], 0] = [\"B\", \"B\", \"B\"]\n",
    "df.head()"
   ]
  },
  {
   "cell_type": "code",
   "execution_count": 36,
   "metadata": {},
   "outputs": [
    {
     "data": {
      "text/plain": [
       "['a2']"
      ]
     },
     "execution_count": 36,
     "metadata": {},
     "output_type": "execute_result"
    }
   ],
   "source": [
    "constant_vars = [feat for feat in df.columns if df[feat].nunique() == 1]\n",
    "\n",
    "constant_vars"
   ]
  },
  {
   "cell_type": "code",
   "execution_count": null,
   "metadata": {},
   "outputs": [],
   "source": []
  },
  {
   "attachments": {},
   "cell_type": "markdown",
   "metadata": {},
   "source": [
    "## Quasi-constant\n",
    "\n",
    "* Quasi-constant features are those that have the same value for the vast majority of the observations in the dataset. \n",
    "* In general, these characteristics provide little, if any, information that a machine learning model can use to predict a target.\n",
    "\n",
    "```text\n",
    "e.g. A feaure that has 99% of a particular label.\n",
    "```"
   ]
  },
  {
   "cell_type": "code",
   "execution_count": 37,
   "metadata": {},
   "outputs": [],
   "source": [
    "def check_constant_variables(*, data: pd.DataFrame, thresh: float = 0.98) -> dict:\n",
    "    \"\"\"This is used to detect the presence of constant/quasi-constant variables.\"\"\"\n",
    "    quasi_constant_vars = {}\n",
    "\n",
    "    for feat in data.columns:\n",
    "        feats_dict = data[feat].value_counts(normalize=True).to_dict()\n",
    "        for key, val in feats_dict.items():\n",
    "            if val >= thresh:\n",
    "                quasi_constant_vars[f\"{feat}({key})\"] = val\n",
    "    return quasi_constant_vars"
   ]
  },
  {
   "cell_type": "code",
   "execution_count": 38,
   "metadata": {},
   "outputs": [
    {
     "data": {
      "text/plain": [
       "{'a1(A)': 0.997, 'a2(0.0)': 1.0}"
      ]
     },
     "execution_count": 38,
     "metadata": {},
     "output_type": "execute_result"
    }
   ],
   "source": [
    "result = check_constant_variables(data=df, thresh=0.98)\n",
    "result"
   ]
  },
  {
   "cell_type": "code",
   "execution_count": 39,
   "metadata": {},
   "outputs": [
    {
     "data": {
      "text/plain": [
       "2    0.140\n",
       "1    0.122\n",
       "6    0.120\n",
       "4    0.110\n",
       "7    0.108\n",
       "8    0.105\n",
       "5    0.099\n",
       "9    0.098\n",
       "3    0.098\n",
       "Name: a3, dtype: float64"
      ]
     },
     "execution_count": 39,
     "metadata": {},
     "output_type": "execute_result"
    }
   ],
   "source": [
    "df[\"a3\"].value_counts(normalize=True)"
   ]
  },
  {
   "cell_type": "code",
   "execution_count": null,
   "metadata": {},
   "outputs": [],
   "source": []
  }
 ],
 "metadata": {
  "kernelspec": {
   "display_name": "venv",
   "language": "python",
   "name": "python3"
  },
  "language_info": {
   "codemirror_mode": {
    "name": "ipython",
    "version": 3
   },
   "file_extension": ".py",
   "mimetype": "text/x-python",
   "name": "python",
   "nbconvert_exporter": "python",
   "pygments_lexer": "ipython3",
   "version": "3.10.8"
  },
  "orig_nbformat": 4
 },
 "nbformat": 4,
 "nbformat_minor": 2
}
