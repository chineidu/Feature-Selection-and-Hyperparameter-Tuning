{
 "cells": [
  {
   "attachments": {},
   "cell_type": "markdown",
   "metadata": {},
   "source": [
    "# Python Mixins\n",
    "\n",
    "* A `mixin` is a `class` that provides method implementations for reuse by multiple related child classes.\n",
    "* A `mixin` doesn’t define a new type. Therefore, it is not intended for direct instantiation.\n",
    "* It’s a convention in Python to name `mixin` classes with the suffix **`Mixin`**."
   ]
  },
  {
   "cell_type": "code",
   "execution_count": 1,
   "metadata": {},
   "outputs": [],
   "source": [
    "import json\n",
    "\n",
    "import numpy as np\n",
    "import pandas as pd\n",
    "from pydantic import BaseModel, validator, ValidationError\n",
    "from typing import Optional, Sequence, Union\n",
    "from pprint import pprint\n",
    "\n",
    "# Custom import\n",
    "from src.data_manager import load_data\n",
    "\n",
    "# pandas settings\n",
    "pd.options.display.max_rows = 1_000\n",
    "pd.options.display.max_columns = 1_000\n",
    "pd.options.display.max_colwidth = 600\n",
    "%load_ext lab_black\n",
    "\n",
    "%load_ext autoreload\n",
    "%autoreload 2"
   ]
  },
  {
   "cell_type": "code",
   "execution_count": 2,
   "metadata": {},
   "outputs": [],
   "source": [
    "class Person:\n",
    "    \"\"\"This is the base class.\"\"\"\n",
    "\n",
    "    def __init__(self, name: str, age: int) -> None:\n",
    "        self.name = name\n",
    "        self.age = age\n",
    "\n",
    "\n",
    "# A class that inherits form the Person class\n",
    "class Employee(Person):\n",
    "    def __init__(self, name: str, age: int, skills: Sequence, dependents: dict) -> None:\n",
    "        super().__init__(name, age)\n",
    "        self.skills = skills\n",
    "        self.dependents = dependents\n",
    "\n",
    "    def __repr__(self) -> str:\n",
    "        return (\n",
    "            f\"{self.__class__.__name__}(name={self.name}, \"\n",
    "            f\"age={self.age}, \"\n",
    "            f\"skills={self.skills}, \"\n",
    "            f\"dependents={self.dependents})\"\n",
    "        )"
   ]
  },
  {
   "attachments": {},
   "cell_type": "markdown",
   "metadata": {},
   "source": [
    "#### Create an instance"
   ]
  },
  {
   "cell_type": "code",
   "execution_count": 3,
   "metadata": {},
   "outputs": [
    {
     "name": "stdout",
     "output_type": "stream",
     "text": [
      "Employee(name=John, age=30, skills=['Data Science', 'Statistics', 'Maths', 'Software Engineering'], dependents={'wife': 'Jane', 'children': ['Alice', 'Bob']})\n"
     ]
    }
   ],
   "source": [
    "emp_1 = Employee(\n",
    "    name=\"John\",\n",
    "    age=30,\n",
    "    skills=[\"Data Science\", \"Statistics\", \"Maths\", \"Software Engineering\"],\n",
    "    dependents={\"wife\": \"Jane\", \"children\": [\"Alice\", \"Bob\"]},\n",
    ")\n",
    "print(emp_1)"
   ]
  },
  {
   "attachments": {},
   "cell_type": "markdown",
   "metadata": {},
   "source": [
    "#### Create Mixins\n",
    "\n",
    "* If we want to convert the `Employee` object to a dictionary, we can add a new method to the `Employee` class, which converts the object to a dictionary.\n",
    "\n",
    "* However, we may want to convert objects of other classes to dictionaries. To make the code reusable, we can define a `mixin` class called **`DictMixin`** shown below.\n",
    "* A `mixin` for creating JSON objects, `JSONMixin` will also be added to the `Employee` class.\n",
    "\n",
    "**Note:**\n",
    "The `__dict__` in Python represents a `dictionary` or any `mapping` object that is used to store the `attributes` of the object. "
   ]
  },
  {
   "cell_type": "code",
   "execution_count": 4,
   "metadata": {},
   "outputs": [],
   "source": [
    "class DictMixin:\n",
    "    \"\"\"This is a mixin for creating Python dictionaries.\"\"\"\n",
    "\n",
    "    def to_dict(self) -> dict:\n",
    "        \"\"\"This converts the object to a Python dict.\"\"\"\n",
    "        return self._traverse_dict(self.__dict__)\n",
    "\n",
    "    def _traverse_dict(self, attributes: dict) -> dict:\n",
    "        \"\"\"This helper function is used to create a Python dict.\"\"\"\n",
    "        result = {}\n",
    "\n",
    "        for key, value in attributes.items():\n",
    "            result[key] = self._traverse(value)\n",
    "\n",
    "        return result\n",
    "\n",
    "    def _traverse(self, value: Union[Sequence, int, str, None]):\n",
    "        \"\"\"This helper function returns a Python dict.\"\"\"\n",
    "        # if it's an instance of DictMixin\n",
    "        if isinstance(value, self.__class__):\n",
    "            return value.to_dict()\n",
    "        elif isinstance(value, dict):\n",
    "            return self._traverse_dict(value)\n",
    "        # if it's a class\n",
    "        elif hasattr(value, \"__dict__\"):\n",
    "            return self._traverse_dict(value.__dict__)\n",
    "        else:\n",
    "            return value\n",
    "\n",
    "\n",
    "class JSONMixin:\n",
    "    \"\"\"This is a mixin for converting an object into a JSON (string).\"\"\"\n",
    "\n",
    "    def to_json(self) -> str:\n",
    "        \"\"\"This returns a JSON string.\"\"\"\n",
    "        return json.dumps(self.__dict__)"
   ]
  },
  {
   "cell_type": "code",
   "execution_count": 5,
   "metadata": {},
   "outputs": [],
   "source": [
    "class Employee(Person, DictMixin, JSONMixin):\n",
    "    def __init__(\n",
    "        self, name: str, age: int, skills: Sequence, dependents: dict, **kwargs\n",
    "    ) -> None:\n",
    "        super().__init__(name, age)\n",
    "        self.skills = skills\n",
    "        self.dependents = dependents\n",
    "        self.kwargs = kwargs\n",
    "\n",
    "    def __repr__(self) -> str:\n",
    "        return (\n",
    "            f\"{self.__class__.__name__}(name={self.name}, \"\n",
    "            f\"age={self.age}, \"\n",
    "            f\"skills={self.skills}, \"\n",
    "            f\"dependents={self.dependents}, \"\n",
    "            f\"kwargs={self.kwargs})\"\n",
    "        )"
   ]
  },
  {
   "cell_type": "code",
   "execution_count": 6,
   "metadata": {},
   "outputs": [
    {
     "data": {
      "text/plain": [
       "Employee(name=Philip, age=30, skills=['Software Engineering', 'Communication'], dependents={'brother': 'Mark'}, kwargs={'Location': {'Continent': 'Nigeria'}})"
      ]
     },
     "execution_count": 6,
     "metadata": {},
     "output_type": "execute_result"
    }
   ],
   "source": [
    "emp_2 = Employee(\n",
    "    name=\"Philip\",\n",
    "    age=30,\n",
    "    skills=[\"Software Engineering\", \"Communication\"],\n",
    "    dependents={\"brother\": \"Mark\"},\n",
    "    Location={\"Continent\": \"Nigeria\"},\n",
    ")\n",
    "emp_2"
   ]
  },
  {
   "cell_type": "code",
   "execution_count": 7,
   "metadata": {},
   "outputs": [
    {
     "data": {
      "text/plain": [
       "{'name': 'Philip',\n",
       " 'age': 30,\n",
       " 'skills': ['Software Engineering', 'Communication'],\n",
       " 'dependents': {'brother': 'Mark'},\n",
       " 'kwargs': {'Location': {'Continent': 'Nigeria'}}}"
      ]
     },
     "execution_count": 7,
     "metadata": {},
     "output_type": "execute_result"
    }
   ],
   "source": [
    "emp_2.to_dict()"
   ]
  },
  {
   "cell_type": "code",
   "execution_count": 8,
   "metadata": {},
   "outputs": [
    {
     "name": "stdout",
     "output_type": "stream",
     "text": [
      "('{\"name\": \"Philip\", \"age\": 30, \"skills\": [\"Software Engineering\", '\n",
      " '\"Communication\"], \"dependents\": {\"brother\": \"Mark\"}, \"kwargs\": {\"Location\": '\n",
      " '{\"Continent\": \"Nigeria\"}}}')\n"
     ]
    }
   ],
   "source": [
    "pprint(emp_2.to_json(), indent=2)"
   ]
  },
  {
   "cell_type": "code",
   "execution_count": null,
   "metadata": {},
   "outputs": [],
   "source": []
  },
  {
   "cell_type": "code",
   "execution_count": null,
   "metadata": {},
   "outputs": [],
   "source": []
  },
  {
   "cell_type": "code",
   "execution_count": null,
   "metadata": {},
   "outputs": [],
   "source": []
  }
 ],
 "metadata": {
  "kernelspec": {
   "display_name": "venv",
   "language": "python",
   "name": "python3"
  },
  "language_info": {
   "codemirror_mode": {
    "name": "ipython",
    "version": 3
   },
   "file_extension": ".py",
   "mimetype": "text/x-python",
   "name": "python",
   "nbconvert_exporter": "python",
   "pygments_lexer": "ipython3",
   "version": "3.10.8"
  },
  "orig_nbformat": 4
 },
 "nbformat": 4,
 "nbformat_minor": 2
}
