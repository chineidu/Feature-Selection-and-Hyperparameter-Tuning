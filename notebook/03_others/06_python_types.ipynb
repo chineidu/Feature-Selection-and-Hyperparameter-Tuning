{
 "cells": [
  {
   "attachments": {},
   "cell_type": "markdown",
   "metadata": {},
   "source": [
    "## Python Custom Types"
   ]
  },
  {
   "cell_type": "code",
   "execution_count": 1,
   "metadata": {},
   "outputs": [],
   "source": [
    "import numpy as np\n",
    "import pandas as pd\n",
    "from pydantic import BaseModel, validator, ValidationError\n",
    "from typing import Sequence, TypeVar, Literal\n",
    "from pprint import pprint\n",
    "\n",
    "# Custom import\n",
    "from src.data_manager import load_data\n",
    "\n",
    "# pandas settings\n",
    "pd.options.display.max_rows = 1_000\n",
    "pd.options.display.max_columns = 1_000\n",
    "pd.options.display.max_colwidth = 600\n",
    "%load_ext lab_black\n",
    "\n",
    "%load_ext autoreload\n",
    "%autoreload 2"
   ]
  },
  {
   "cell_type": "markdown",
   "metadata": {},
   "source": [
    "### [Literal](https://docs.python.org/3/library/typing.html#typing.Literal)\n",
    "\n",
    "* A type that can be used to indicate to type checkers that the corresponding `variable` or `function` parameter has a value equivalent to the provided literal (or one of several literals). "
   ]
  },
  {
   "cell_type": "code",
   "execution_count": 2,
   "metadata": {},
   "outputs": [],
   "source": [
    "from typing import Any\n",
    "\n",
    "MODE = Literal[\"r\", \"rb\", \"w\", \"wb\"]\n",
    "\n",
    "\n",
    "def open_helper(file: str, mode: MODE) -> str:\n",
    "    ... # similar to pass\n",
    "\n",
    "\n",
    "open_helper(\"/some/path\", \"r\")  # Passes type check\n",
    "open_helper(\"/other/path\", \"typo\")  # Error in type checker"
   ]
  },
  {
   "attachments": {},
   "cell_type": "markdown",
   "metadata": {},
   "source": [
    "### TypeVar\n",
    "\n",
    "* Type variables exist primarily for the benefit of static type checkers. \n",
    "* They serve as the parameters for generic types as well as for generic function definitions."
   ]
  },
  {
   "cell_type": "code",
   "execution_count": 3,
   "metadata": {},
   "outputs": [],
   "source": [
    "T = TypeVar(\"T\")  # Can be anything\n",
    "S = TypeVar(\"S\", bound=str)  # Can be any subtype of str\n",
    "A = TypeVar(\"A\", str, bytes)  # Must be exactly str or bytes\n",
    "\n",
    "\n",
    "def repeat(value: T, n: int) -> Sequence[T]:\n",
    "    \"\"\"Return a list containing n references to x.\"\"\"\n",
    "    return [value] * n\n",
    "\n",
    "\n",
    "def print_capitalized(value: S) -> S:\n",
    "    \"\"\"Print value capitalized, and return value.\"\"\"\n",
    "    print(value.capitalize())\n",
    "    return value\n",
    "\n",
    "\n",
    "def concatenate(value: A, y: A) -> A:\n",
    "    \"\"\"Add two strings or bytes objects together.\"\"\"\n",
    "    return value + y"
   ]
  },
  {
   "cell_type": "code",
   "execution_count": 4,
   "metadata": {},
   "outputs": [
    {
     "data": {
      "text/plain": [
       "(['4', '4', '4'], [2, 2, 2])"
      ]
     },
     "execution_count": 4,
     "metadata": {},
     "output_type": "execute_result"
    }
   ],
   "source": [
    "repeat(value=\"4\", n=3), repeat(value=2, n=3)"
   ]
  },
  {
   "cell_type": "code",
   "execution_count": 5,
   "metadata": {},
   "outputs": [
    {
     "name": "stdout",
     "output_type": "stream",
     "text": [
      "Name\n"
     ]
    },
    {
     "data": {
      "text/plain": [
       "'name'"
      ]
     },
     "execution_count": 5,
     "metadata": {},
     "output_type": "execute_result"
    }
   ],
   "source": [
    "print_capitalized(value=\"name\")"
   ]
  },
  {
   "attachments": {},
   "cell_type": "markdown",
   "metadata": {},
   "source": [
    "### Type aliases\n",
    "* A type alias is defined by **assigning** the type to the **alias**. \n",
    "* Type aliases are useful for **simplifying complex** type signatures.\n",
    "* In this example, Vector and list[float] will be treated as interchangeable synonyms:"
   ]
  },
  {
   "cell_type": "code",
   "execution_count": 6,
   "metadata": {},
   "outputs": [
    {
     "data": {
      "text/plain": [
       "[2.0, -4.0, 1.0]"
      ]
     },
     "execution_count": 6,
     "metadata": {},
     "output_type": "execute_result"
    }
   ],
   "source": [
    "Vector = list[float]\n",
    "\n",
    "\n",
    "def scale(scalar: float, vector: Vector) -> Vector:\n",
    "    \"\"\"This is used for scaling a vector (list of floats).\"\"\"\n",
    "    return [scalar * num for num in vector]\n",
    "\n",
    "\n",
    "# passes type checking; a list of floats qualifies as a Vector.\n",
    "new_vector = scale(scalar=2.0, vector=[1.0, -2.0, 0.5])\n",
    "new_vector"
   ]
  },
  {
   "cell_type": "code",
   "execution_count": null,
   "metadata": {},
   "outputs": [],
   "source": []
  },
  {
   "cell_type": "code",
   "execution_count": null,
   "metadata": {},
   "outputs": [],
   "source": []
  },
  {
   "cell_type": "code",
   "execution_count": null,
   "metadata": {},
   "outputs": [],
   "source": []
  },
  {
   "cell_type": "code",
   "execution_count": null,
   "metadata": {},
   "outputs": [],
   "source": []
  }
 ],
 "metadata": {
  "kernelspec": {
   "display_name": "venv",
   "language": "python",
   "name": "python3"
  },
  "language_info": {
   "codemirror_mode": {
    "name": "ipython",
    "version": 3
   },
   "file_extension": ".py",
   "mimetype": "text/x-python",
   "name": "python",
   "nbconvert_exporter": "python",
   "pygments_lexer": "ipython3",
   "version": "3.10.8"
  },
  "orig_nbformat": 4
 },
 "nbformat": 4,
 "nbformat_minor": 2
}
