{
 "cells": [
  {
   "attachments": {},
   "cell_type": "markdown",
   "metadata": {},
   "source": [
    "## Pydantic Tutorial\n",
    "\n",
    "> `Pydantic` can be applied to, but is not limited to:\n",
    "\n",
    "1. Data modelling (Type checking).\n",
    "2. User-friendly error messages\n",
    "3. Field customization\n",
    "4. Data validation (custom validators)\n",
    "\n",
    "#### [Source](https://towardsdatascience.com/8-reasons-to-start-using-pydantic-to-improve-data-parsing-and-validation-4f437eae7678)"
   ]
  },
  {
   "cell_type": "code",
   "execution_count": 1,
   "metadata": {},
   "outputs": [],
   "source": [
    "import numpy as np\n",
    "import pandas as pd\n",
    "from pydantic import BaseModel, validator, ValidationError\n",
    "from typing import Optional\n",
    "from pprint import pprint\n",
    "\n",
    "# Custom import\n",
    "from src.data_manager import load_data\n",
    "\n",
    "# pandas settings\n",
    "pd.options.display.max_rows = 1_000\n",
    "pd.options.display.max_columns = 1_000\n",
    "pd.options.display.max_colwidth = 600\n",
    "%load_ext lab_black\n",
    "\n",
    "%load_ext autoreload\n",
    "%autoreload 2"
   ]
  },
  {
   "cell_type": "markdown",
   "metadata": {},
   "source": [
    "### 1. Data modelling (Type checking)."
   ]
  },
  {
   "cell_type": "code",
   "execution_count": 2,
   "metadata": {},
   "outputs": [],
   "source": [
    "# Create a model (class) that will be used for validating data\n",
    "class Person(BaseModel):\n",
    "    \"\"\"Data modelling a person object.\"\"\"\n",
    "\n",
    "    name: str\n",
    "    age: int\n",
    "    gender: str\n",
    "    role: str\n",
    "    salary: float"
   ]
  },
  {
   "cell_type": "code",
   "execution_count": 3,
   "metadata": {},
   "outputs": [
    {
     "data": {
      "text/plain": [
       "Person(name='John Doe', age=20, gender='Male', role='ML Engineer', salary=45000.0)"
      ]
     },
     "execution_count": 3,
     "metadata": {},
     "output_type": "execute_result"
    }
   ],
   "source": [
    "# Create a Person object\n",
    "person_1 = Person(\n",
    "    name=\"John Doe\", age=20, gender=\"Male\", role=\"ML Engineer\", salary=45_000\n",
    ")\n",
    "\n",
    "# It `coerces` the object i.e it enforces the data types.\n",
    "#  e.g salary=45_000 (int) was entered but the output is 45000.0 (float)\n",
    "person_1"
   ]
  },
  {
   "cell_type": "code",
   "execution_count": 4,
   "metadata": {},
   "outputs": [
    {
     "data": {
      "text/plain": [
       "'John Doe'"
      ]
     },
     "execution_count": 4,
     "metadata": {},
     "output_type": "execute_result"
    }
   ],
   "source": [
    "# Ypu can access the attributes\n",
    "person_1.name"
   ]
  },
  {
   "cell_type": "code",
   "execution_count": 5,
   "metadata": {},
   "outputs": [
    {
     "data": {
      "text/plain": [
       "'{\"name\": \"John Doe\", \"age\": 20, \"gender\": \"Male\", \"role\": \"ML Engineer\", \"salary\": 45000.0}'"
      ]
     },
     "execution_count": 5,
     "metadata": {},
     "output_type": "execute_result"
    }
   ],
   "source": [
    "# You can get the available attributes and methods by running: dir(person_1)\n",
    "# Some popular methods: copy, dict, json, schema, schema_json\n",
    "\n",
    "# Convert to json\n",
    "person_1.json()"
   ]
  },
  {
   "cell_type": "code",
   "execution_count": 6,
   "metadata": {},
   "outputs": [
    {
     "data": {
      "text/plain": [
       "{'name': 'John Doe',\n",
       " 'age': 20,\n",
       " 'gender': 'Male',\n",
       " 'role': 'ML Engineer',\n",
       " 'salary': 45000.0}"
      ]
     },
     "execution_count": 6,
     "metadata": {},
     "output_type": "execute_result"
    }
   ],
   "source": [
    "# Convert to dict\n",
    "person_1.dict()"
   ]
  },
  {
   "cell_type": "code",
   "execution_count": 7,
   "metadata": {},
   "outputs": [
    {
     "data": {
      "text/plain": [
       "{'title': 'Person',\n",
       " 'description': 'Data modelling a person object.',\n",
       " 'type': 'object',\n",
       " 'properties': {'name': {'title': 'Name', 'type': 'string'},\n",
       "  'age': {'title': 'Age', 'type': 'integer'},\n",
       "  'gender': {'title': 'Gender', 'type': 'string'},\n",
       "  'role': {'title': 'Role', 'type': 'string'},\n",
       "  'salary': {'title': 'Salary', 'type': 'number'}},\n",
       " 'required': ['name', 'age', 'gender', 'role', 'salary']}"
      ]
     },
     "execution_count": 7,
     "metadata": {},
     "output_type": "execute_result"
    }
   ],
   "source": [
    "# Get the schema\n",
    "person_1.schema()"
   ]
  },
  {
   "cell_type": "code",
   "execution_count": 8,
   "metadata": {},
   "outputs": [],
   "source": [
    "#### Combine Data Models\n",
    "class Department(BaseModel):\n",
    "    role: str\n",
    "    salary: Optional[float]\n",
    "    department: str\n",
    "\n",
    "\n",
    "class Person(BaseModel):\n",
    "    \"\"\"Data modelling a person object.\"\"\"\n",
    "\n",
    "    name: str\n",
    "    age: int\n",
    "    gender: str\n",
    "    department: Department"
   ]
  },
  {
   "cell_type": "code",
   "execution_count": 9,
   "metadata": {},
   "outputs": [
    {
     "data": {
      "text/plain": [
       "Person(name='John Doe', age=30, gender='Male', department=Department(role='Data Engineer', salary=None, department='Data Team'))"
      ]
     },
     "execution_count": 9,
     "metadata": {},
     "output_type": "execute_result"
    }
   ],
   "source": [
    "person_1 = Person(\n",
    "    name=\"John Doe\",\n",
    "    age=\"30\",\n",
    "    gender=\"Male\",\n",
    "    department=Department(role=\"Data Engineer\", department=\"Data Team\"),\n",
    ")\n",
    "\n",
    "person_1"
   ]
  },
  {
   "cell_type": "code",
   "execution_count": null,
   "metadata": {},
   "outputs": [],
   "source": []
  },
  {
   "attachments": {},
   "cell_type": "markdown",
   "metadata": {},
   "source": [
    "### 2. User-friendly error messages"
   ]
  },
  {
   "cell_type": "code",
   "execution_count": 10,
   "metadata": {},
   "outputs": [
    {
     "name": "stdout",
     "output_type": "stream",
     "text": [
      "[\n",
      "  {\n",
      "    \"loc\": [\n",
      "      \"age\"\n",
      "    ],\n",
      "    \"msg\": \"value is not a valid integer\",\n",
      "    \"type\": \"type_error.integer\"\n",
      "  }\n",
      "]\n"
     ]
    }
   ],
   "source": [
    "class Person(BaseModel):\n",
    "    \"\"\"Data modelling a person object.\"\"\"\n",
    "\n",
    "    name: str\n",
    "    age: int\n",
    "    gender: str\n",
    "    role: str\n",
    "    salary: float\n",
    "\n",
    "\n",
    "try:\n",
    "    person_2 = Person(\n",
    "        name=\"Jane Doe\", age=\"hello\", gender=\"Female\", role=\"ML Engineer\", salary=45_000\n",
    "    )\n",
    "except ValidationError as e:\n",
    "    print(e.json())\n",
    "\n",
    "# Expected error!\n",
    "# age=\"hello\" is not a valid integer!"
   ]
  },
  {
   "cell_type": "markdown",
   "metadata": {},
   "source": [
    "### 3. Field customization"
   ]
  },
  {
   "cell_type": "code",
   "execution_count": 11,
   "metadata": {},
   "outputs": [],
   "source": [
    "from pydantic import Field\n",
    "\n",
    "\n",
    "class Person(BaseModel):\n",
    "    \"\"\"Data modelling a person object.\"\"\"\n",
    "\n",
    "    name: str\n",
    "    age: int = Field(ge=1, le=100)  # 1 <= age <=100\n",
    "    gender: str\n",
    "    role: str\n",
    "    salary: float"
   ]
  },
  {
   "cell_type": "code",
   "execution_count": 12,
   "metadata": {},
   "outputs": [
    {
     "data": {
      "text/plain": [
       "Person(name='John Doe', age=5, gender='Male', role='ML Engineer', salary=45000.0)"
      ]
     },
     "execution_count": 12,
     "metadata": {},
     "output_type": "execute_result"
    }
   ],
   "source": [
    "person_2 = Person(\n",
    "    name=\"John Doe\", age=5, gender=\"Male\", role=\"ML Engineer\", salary=45_000\n",
    ")\n",
    "\n",
    "person_2"
   ]
  },
  {
   "cell_type": "code",
   "execution_count": 13,
   "metadata": {},
   "outputs": [
    {
     "data": {
      "text/plain": [
       "6428.571428571428"
      ]
     },
     "execution_count": 13,
     "metadata": {},
     "output_type": "execute_result"
    }
   ],
   "source": [
    "(person_2.salary / 7)"
   ]
  },
  {
   "attachments": {},
   "cell_type": "markdown",
   "metadata": {},
   "source": [
    "### 4. Data validation (custom validators)\n",
    "\n",
    "* Useful when you receive user inputs"
   ]
  },
  {
   "cell_type": "code",
   "execution_count": 14,
   "metadata": {},
   "outputs": [],
   "source": [
    "import string\n",
    "\n",
    "\n",
    "class Person(BaseModel):\n",
    "    \"\"\"Data modelling a person object.\"\"\"\n",
    "\n",
    "    name: str\n",
    "    password: str\n",
    "    gender: str\n",
    "\n",
    "    @validator(\"password\")\n",
    "    def validate_password(cls, value: str) -> str:\n",
    "        \"\"\"This is used to validate the password field.\"\"\"\n",
    "        min_length = 8\n",
    "        message = (\n",
    "            f\"{value!r} must contain at least one upper case, \"\n",
    "            f\"one lower case, one digit and one punctuation \"\n",
    "        )\n",
    "        if len(value) < min_length:\n",
    "            raise ValueError(f\"{value!r} must have a minimum length of {min_length}\")\n",
    "\n",
    "        if (\n",
    "            any(char in value for char in string.ascii_uppercase)\n",
    "            and any(char in value for char in string.ascii_lowercase)\n",
    "            and any(char in value for char in string.digits)\n",
    "            and any(char in value for char in string.punctuation)\n",
    "        ):\n",
    "            return value\n",
    "        else:\n",
    "            raise ValueError(message)"
   ]
  },
  {
   "cell_type": "code",
   "execution_count": 15,
   "metadata": {},
   "outputs": [
    {
     "data": {
      "text/plain": [
       "Person(name='Jane Doe', password='abcDefghi2@', gender='Female')"
      ]
     },
     "execution_count": 15,
     "metadata": {},
     "output_type": "execute_result"
    }
   ],
   "source": [
    "try:\n",
    "    person_3 = Person(name=\"Jane Doe\", password=\"abcDefghi2@\", gender=\"Female\")\n",
    "except ValidationError as e:\n",
    "    print(e)\n",
    "\n",
    "person_3"
   ]
  },
  {
   "cell_type": "markdown",
   "metadata": {},
   "source": [
    "### Use Case"
   ]
  },
  {
   "cell_type": "code",
   "execution_count": 16,
   "metadata": {},
   "outputs": [],
   "source": [
    "class InputSchema(BaseModel):\n",
    "    PassengerId: int\n",
    "    Survived: int\n",
    "    Pclass: Optional[str]\n",
    "    Name: Optional[str]\n",
    "    Sex: Optional[str]\n",
    "    Age: Optional[int]\n",
    "    SibSp: Optional[str]\n",
    "    Parch: Optional[str]\n",
    "    Ticket: Optional[str]\n",
    "    Fare: Optional[float]\n",
    "    Cabin: Optional[str]\n",
    "    Embarked: Optional[str]\n",
    "\n",
    "\n",
    "class ValidateInputSchema(BaseModel):\n",
    "    inputs: list[InputSchema]\n",
    "\n",
    "\n",
    "def validate_input(\n",
    "    *,\n",
    "    data: pd.DataFrame,\n",
    ") -> tuple[Optional[pd.DataFrame], Optional[str]]:\n",
    "    \"\"\"This is used to validate the input data using a Pydantic Model.\n",
    "\n",
    "    Params:\n",
    "        data (Pandas DF): DF containing the training data.\n",
    "\n",
    "    Returns:\n",
    "        data (Pandas DF): The validated DF.\n",
    "        error (str or None): None if there's no error else a str.\n",
    "    \"\"\"\n",
    "    # load the data\n",
    "    data = data.copy()\n",
    "    error = None\n",
    "\n",
    "    # Validate the data.\n",
    "    try:  # Convert NaNs to None\n",
    "        validated_data = ValidateInputSchema(\n",
    "            inputs=data.replace({np.nan: None}).to_dict(orient=\"records\")\n",
    "        )\n",
    "        # Extract the data\n",
    "        validated_dict = validated_data.dict().get(\"inputs\")\n",
    "        data = pd.DataFrame(data=validated_dict)\n",
    "        return (data, error)\n",
    "\n",
    "    except ValidationError as err:\n",
    "        error = err.json()\n",
    "        return (None, error)"
   ]
  },
  {
   "cell_type": "code",
   "execution_count": 17,
   "metadata": {},
   "outputs": [
    {
     "name": "stdout",
     "output_type": "stream",
     "text": [
      "Shape of data: (891, 12)\n",
      "\n",
      "Duration: 0.005 seconds\n"
     ]
    },
    {
     "data": {
      "text/html": [
       "<div>\n",
       "<style scoped>\n",
       "    .dataframe tbody tr th:only-of-type {\n",
       "        vertical-align: middle;\n",
       "    }\n",
       "\n",
       "    .dataframe tbody tr th {\n",
       "        vertical-align: top;\n",
       "    }\n",
       "\n",
       "    .dataframe thead th {\n",
       "        text-align: right;\n",
       "    }\n",
       "</style>\n",
       "<table border=\"1\" class=\"dataframe\">\n",
       "  <thead>\n",
       "    <tr style=\"text-align: right;\">\n",
       "      <th></th>\n",
       "      <th>PassengerId</th>\n",
       "      <th>Survived</th>\n",
       "      <th>Pclass</th>\n",
       "      <th>Name</th>\n",
       "      <th>Sex</th>\n",
       "      <th>Age</th>\n",
       "      <th>SibSp</th>\n",
       "      <th>Parch</th>\n",
       "      <th>Ticket</th>\n",
       "      <th>Fare</th>\n",
       "      <th>Cabin</th>\n",
       "      <th>Embarked</th>\n",
       "    </tr>\n",
       "  </thead>\n",
       "  <tbody>\n",
       "    <tr>\n",
       "      <th>0</th>\n",
       "      <td>1</td>\n",
       "      <td>0</td>\n",
       "      <td>3</td>\n",
       "      <td>Braund, Mr. Owen Harris</td>\n",
       "      <td>male</td>\n",
       "      <td>22.0</td>\n",
       "      <td>1</td>\n",
       "      <td>0</td>\n",
       "      <td>A/5 21171</td>\n",
       "      <td>7.2500</td>\n",
       "      <td>NaN</td>\n",
       "      <td>S</td>\n",
       "    </tr>\n",
       "    <tr>\n",
       "      <th>1</th>\n",
       "      <td>2</td>\n",
       "      <td>1</td>\n",
       "      <td>1</td>\n",
       "      <td>Cumings, Mrs. John Bradley (Florence Briggs Thayer)</td>\n",
       "      <td>female</td>\n",
       "      <td>38.0</td>\n",
       "      <td>1</td>\n",
       "      <td>0</td>\n",
       "      <td>PC 17599</td>\n",
       "      <td>71.2833</td>\n",
       "      <td>C85</td>\n",
       "      <td>C</td>\n",
       "    </tr>\n",
       "  </tbody>\n",
       "</table>\n",
       "</div>"
      ],
      "text/plain": [
       "   PassengerId  Survived  Pclass  \\\n",
       "0            1         0       3   \n",
       "1            2         1       1   \n",
       "\n",
       "                                                  Name     Sex   Age  SibSp  \\\n",
       "0                              Braund, Mr. Owen Harris    male  22.0      1   \n",
       "1  Cumings, Mrs. John Bradley (Florence Briggs Thayer)  female  38.0      1   \n",
       "\n",
       "   Parch     Ticket     Fare Cabin Embarked  \n",
       "0      0  A/5 21171   7.2500   NaN        S  \n",
       "1      0   PC 17599  71.2833   C85        C  "
      ]
     },
     "execution_count": 17,
     "metadata": {},
     "output_type": "execute_result"
    }
   ],
   "source": [
    "# Load Data\n",
    "data = load_data(filename=\"../../data/titanic_train.csv\")\n",
    "\n",
    "data.head(2)"
   ]
  },
  {
   "cell_type": "code",
   "execution_count": 18,
   "metadata": {},
   "outputs": [
    {
     "data": {
      "text/plain": [
       "PassengerId      int64\n",
       "Survived         int64\n",
       "Pclass           int64\n",
       "Name            object\n",
       "Sex             object\n",
       "Age            float64\n",
       "SibSp            int64\n",
       "Parch            int64\n",
       "Ticket          object\n",
       "Fare           float64\n",
       "Cabin           object\n",
       "Embarked        object\n",
       "dtype: object"
      ]
     },
     "execution_count": 18,
     "metadata": {},
     "output_type": "execute_result"
    }
   ],
   "source": [
    "data.dtypes"
   ]
  },
  {
   "cell_type": "code",
   "execution_count": 19,
   "metadata": {},
   "outputs": [
    {
     "data": {
      "text/html": [
       "<div>\n",
       "<style scoped>\n",
       "    .dataframe tbody tr th:only-of-type {\n",
       "        vertical-align: middle;\n",
       "    }\n",
       "\n",
       "    .dataframe tbody tr th {\n",
       "        vertical-align: top;\n",
       "    }\n",
       "\n",
       "    .dataframe thead th {\n",
       "        text-align: right;\n",
       "    }\n",
       "</style>\n",
       "<table border=\"1\" class=\"dataframe\">\n",
       "  <thead>\n",
       "    <tr style=\"text-align: right;\">\n",
       "      <th></th>\n",
       "      <th>PassengerId</th>\n",
       "      <th>Survived</th>\n",
       "      <th>Pclass</th>\n",
       "      <th>Name</th>\n",
       "      <th>Sex</th>\n",
       "      <th>Age</th>\n",
       "      <th>SibSp</th>\n",
       "      <th>Parch</th>\n",
       "      <th>Ticket</th>\n",
       "      <th>Fare</th>\n",
       "      <th>Cabin</th>\n",
       "      <th>Embarked</th>\n",
       "    </tr>\n",
       "  </thead>\n",
       "  <tbody>\n",
       "    <tr>\n",
       "      <th>0</th>\n",
       "      <td>1</td>\n",
       "      <td>0</td>\n",
       "      <td>3</td>\n",
       "      <td>Braund, Mr. Owen Harris</td>\n",
       "      <td>male</td>\n",
       "      <td>22.0</td>\n",
       "      <td>1</td>\n",
       "      <td>0</td>\n",
       "      <td>A/5 21171</td>\n",
       "      <td>7.2500</td>\n",
       "      <td>None</td>\n",
       "      <td>S</td>\n",
       "    </tr>\n",
       "    <tr>\n",
       "      <th>1</th>\n",
       "      <td>2</td>\n",
       "      <td>1</td>\n",
       "      <td>1</td>\n",
       "      <td>Cumings, Mrs. John Bradley (Florence Briggs Thayer)</td>\n",
       "      <td>female</td>\n",
       "      <td>38.0</td>\n",
       "      <td>1</td>\n",
       "      <td>0</td>\n",
       "      <td>PC 17599</td>\n",
       "      <td>71.2833</td>\n",
       "      <td>C85</td>\n",
       "      <td>C</td>\n",
       "    </tr>\n",
       "    <tr>\n",
       "      <th>2</th>\n",
       "      <td>3</td>\n",
       "      <td>1</td>\n",
       "      <td>3</td>\n",
       "      <td>Heikkinen, Miss. Laina</td>\n",
       "      <td>female</td>\n",
       "      <td>26.0</td>\n",
       "      <td>0</td>\n",
       "      <td>0</td>\n",
       "      <td>STON/O2. 3101282</td>\n",
       "      <td>7.9250</td>\n",
       "      <td>None</td>\n",
       "      <td>S</td>\n",
       "    </tr>\n",
       "    <tr>\n",
       "      <th>3</th>\n",
       "      <td>4</td>\n",
       "      <td>1</td>\n",
       "      <td>1</td>\n",
       "      <td>Futrelle, Mrs. Jacques Heath (Lily May Peel)</td>\n",
       "      <td>female</td>\n",
       "      <td>35.0</td>\n",
       "      <td>1</td>\n",
       "      <td>0</td>\n",
       "      <td>113803</td>\n",
       "      <td>53.1000</td>\n",
       "      <td>C123</td>\n",
       "      <td>S</td>\n",
       "    </tr>\n",
       "    <tr>\n",
       "      <th>4</th>\n",
       "      <td>5</td>\n",
       "      <td>0</td>\n",
       "      <td>3</td>\n",
       "      <td>Allen, Mr. William Henry</td>\n",
       "      <td>male</td>\n",
       "      <td>35.0</td>\n",
       "      <td>0</td>\n",
       "      <td>0</td>\n",
       "      <td>373450</td>\n",
       "      <td>8.0500</td>\n",
       "      <td>None</td>\n",
       "      <td>S</td>\n",
       "    </tr>\n",
       "  </tbody>\n",
       "</table>\n",
       "</div>"
      ],
      "text/plain": [
       "   PassengerId  Survived Pclass  \\\n",
       "0            1         0      3   \n",
       "1            2         1      1   \n",
       "2            3         1      3   \n",
       "3            4         1      1   \n",
       "4            5         0      3   \n",
       "\n",
       "                                                  Name     Sex   Age SibSp  \\\n",
       "0                              Braund, Mr. Owen Harris    male  22.0     1   \n",
       "1  Cumings, Mrs. John Bradley (Florence Briggs Thayer)  female  38.0     1   \n",
       "2                               Heikkinen, Miss. Laina  female  26.0     0   \n",
       "3         Futrelle, Mrs. Jacques Heath (Lily May Peel)  female  35.0     1   \n",
       "4                             Allen, Mr. William Henry    male  35.0     0   \n",
       "\n",
       "  Parch            Ticket     Fare Cabin Embarked  \n",
       "0     0         A/5 21171   7.2500  None        S  \n",
       "1     0          PC 17599  71.2833   C85        C  \n",
       "2     0  STON/O2. 3101282   7.9250  None        S  \n",
       "3     0            113803  53.1000  C123        S  \n",
       "4     0            373450   8.0500  None        S  "
      ]
     },
     "execution_count": 19,
     "metadata": {},
     "output_type": "execute_result"
    }
   ],
   "source": [
    "# Validate the data\n",
    "validated_data, _ = validate_input(data=data)\n",
    "validated_data.head()"
   ]
  },
  {
   "cell_type": "code",
   "execution_count": 20,
   "metadata": {},
   "outputs": [
    {
     "data": {
      "text/plain": [
       "PassengerId      int64\n",
       "Survived         int64\n",
       "Pclass          object\n",
       "Name            object\n",
       "Sex             object\n",
       "Age            float64\n",
       "SibSp           object\n",
       "Parch           object\n",
       "Ticket          object\n",
       "Fare           float64\n",
       "Cabin           object\n",
       "Embarked        object\n",
       "dtype: object"
      ]
     },
     "execution_count": 20,
     "metadata": {},
     "output_type": "execute_result"
    }
   ],
   "source": [
    "validated_data.dtypes"
   ]
  },
  {
   "cell_type": "markdown",
   "metadata": {},
   "source": [
    "#### Create A Data With The Wrong Schema!"
   ]
  },
  {
   "cell_type": "code",
   "execution_count": 21,
   "metadata": {},
   "outputs": [
    {
     "data": {
      "text/html": [
       "<div>\n",
       "<style scoped>\n",
       "    .dataframe tbody tr th:only-of-type {\n",
       "        vertical-align: middle;\n",
       "    }\n",
       "\n",
       "    .dataframe tbody tr th {\n",
       "        vertical-align: top;\n",
       "    }\n",
       "\n",
       "    .dataframe thead th {\n",
       "        text-align: right;\n",
       "    }\n",
       "</style>\n",
       "<table border=\"1\" class=\"dataframe\">\n",
       "  <thead>\n",
       "    <tr style=\"text-align: right;\">\n",
       "      <th></th>\n",
       "      <th>PassengerId</th>\n",
       "      <th>Survived</th>\n",
       "      <th>Pclass</th>\n",
       "      <th>Name</th>\n",
       "      <th>Sex</th>\n",
       "      <th>Age</th>\n",
       "      <th>SibSp</th>\n",
       "      <th>Parch</th>\n",
       "      <th>Ticket</th>\n",
       "      <th>Fare</th>\n",
       "      <th>Cabin</th>\n",
       "      <th>Embarked</th>\n",
       "    </tr>\n",
       "  </thead>\n",
       "  <tbody>\n",
       "    <tr>\n",
       "      <th>0</th>\n",
       "      <td>35</td>\n",
       "      <td>0</td>\n",
       "      <td>1</td>\n",
       "      <td>Meyer, Mr. Edgar Joseph</td>\n",
       "      <td>male</td>\n",
       "      <td>25.IO</td>\n",
       "      <td>1</td>\n",
       "      <td>0</td>\n",
       "      <td>PC 17604</td>\n",
       "      <td>82.1708</td>\n",
       "      <td>None</td>\n",
       "      <td>C</td>\n",
       "    </tr>\n",
       "    <tr>\n",
       "      <th>1</th>\n",
       "      <td>36</td>\n",
       "      <td>0</td>\n",
       "      <td>1</td>\n",
       "      <td>Holverson, Mr. Alexander Oskar</td>\n",
       "      <td>male</td>\n",
       "      <td>42.0</td>\n",
       "      <td>1</td>\n",
       "      <td>0</td>\n",
       "      <td>113789</td>\n",
       "      <td>52.0000</td>\n",
       "      <td>None</td>\n",
       "      <td>S</td>\n",
       "    </tr>\n",
       "  </tbody>\n",
       "</table>\n",
       "</div>"
      ],
      "text/plain": [
       "   PassengerId  Survived  Pclass                            Name   Sex    Age  \\\n",
       "0           35         0       1         Meyer, Mr. Edgar Joseph  male  25.IO   \n",
       "1           36         0       1  Holverson, Mr. Alexander Oskar  male   42.0   \n",
       "\n",
       "   SibSp  Parch    Ticket     Fare Cabin Embarked  \n",
       "0      1      0  PC 17604  82.1708  None        C  \n",
       "1      1      0    113789  52.0000  None        S  "
      ]
     },
     "execution_count": 21,
     "metadata": {},
     "output_type": "execute_result"
    }
   ],
   "source": [
    "new_data = [\n",
    "    {\n",
    "        \"PassengerId\": 35,\n",
    "        \"Survived\": 0,\n",
    "        \"Pclass\": 1,\n",
    "        \"Name\": \"Meyer, Mr. Edgar Joseph\",\n",
    "        \"Sex\": \"male\",\n",
    "        \"Age\": \"25.IO\",  # invalid age!\n",
    "        \"SibSp\": 1,\n",
    "        \"Parch\": 0,\n",
    "        \"Ticket\": \"PC 17604\",\n",
    "        \"Fare\": 82.1708,\n",
    "        \"Cabin\": None,\n",
    "        \"Embarked\": \"C\",\n",
    "    },\n",
    "    {\n",
    "        \"PassengerId\": 36,\n",
    "        \"Survived\": 0,\n",
    "        \"Pclass\": 1,\n",
    "        \"Name\": \"Holverson, Mr. Alexander Oskar\",\n",
    "        \"Sex\": \"male\",\n",
    "        \"Age\": 42.0,\n",
    "        \"SibSp\": 1,\n",
    "        \"Parch\": 0,\n",
    "        \"Ticket\": \"113789\",\n",
    "        \"Fare\": 52.0,\n",
    "        \"Cabin\": None,\n",
    "        \"Embarked\": \"S\",\n",
    "    },\n",
    "]\n",
    "\n",
    "new_data = pd.DataFrame(new_data)\n",
    "\n",
    "new_data"
   ]
  },
  {
   "cell_type": "code",
   "execution_count": 22,
   "metadata": {},
   "outputs": [
    {
     "name": "stdout",
     "output_type": "stream",
     "text": [
      "(None,\n",
      " '[\\n'\n",
      " '  {\\n'\n",
      " '    \"loc\": [\\n'\n",
      " '      \"inputs\",\\n'\n",
      " '      0,\\n'\n",
      " '      \"Age\"\\n'\n",
      " '    ],\\n'\n",
      " '    \"msg\": \"value is not a valid integer\",\\n'\n",
      " '    \"type\": \"type_error.integer\"\\n'\n",
      " '  }\\n'\n",
      " ']')\n"
     ]
    }
   ],
   "source": [
    "pprint(validate_input(data=new_data))"
   ]
  },
  {
   "cell_type": "code",
   "execution_count": null,
   "metadata": {},
   "outputs": [],
   "source": []
  }
 ],
 "metadata": {
  "kernelspec": {
   "display_name": "venv",
   "language": "python",
   "name": "python3"
  },
  "language_info": {
   "codemirror_mode": {
    "name": "ipython",
    "version": 3
   },
   "file_extension": ".py",
   "mimetype": "text/x-python",
   "name": "python",
   "nbconvert_exporter": "python",
   "pygments_lexer": "ipython3",
   "version": "3.10.8"
  },
  "orig_nbformat": 4
 },
 "nbformat": 4,
 "nbformat_minor": 2
}
