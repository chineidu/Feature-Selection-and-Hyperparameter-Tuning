{
 "cells": [
  {
   "cell_type": "markdown",
   "metadata": {},
   "source": [
    "## Confidence Interval"
   ]
  },
  {
   "cell_type": "code",
   "execution_count": 1,
   "metadata": {},
   "outputs": [],
   "source": [
    "# Built-in library\n",
    "import re\n",
    "import json\n",
    "from typing import Any, Dict, List, Optional, Union\n",
    "import logging\n",
    "import warnings\n",
    "\n",
    "# Standard imports\n",
    "import numpy as np\n",
    "import pandas as pd\n",
    "from rich import print\n",
    "\n",
    "# import torch\n",
    "\n",
    "# Visualization\n",
    "import matplotlib.pyplot as plt\n",
    "\n",
    "\n",
    "# Pandas settings\n",
    "pd.options.display.max_rows = 1_000\n",
    "pd.options.display.max_columns = 1_000\n",
    "pd.options.display.max_colwidth = 600\n",
    "\n",
    "warnings.filterwarnings(\"ignore\")\n",
    "\n",
    "# Black code formatter (Optional)\n",
    "%load_ext lab_black\n",
    "\n",
    "# auto reload imports\n",
    "%load_ext autoreload\n",
    "%autoreload 2"
   ]
  },
  {
   "cell_type": "code",
   "execution_count": 2,
   "metadata": {},
   "outputs": [],
   "source": [
    "from scipy.stats import norm, t\n",
    "from statsmodels.stats.weightstats import ztest"
   ]
  },
  {
   "cell_type": "code",
   "execution_count": 3,
   "metadata": {},
   "outputs": [],
   "source": [
    "# Set seed\n",
    "SEED: int = 123\n",
    "\n",
    "np.random.seed(SEED)\n",
    "N: int = 1_000\n",
    "mu: int = 5\n",
    "sigma: int = 2\n",
    "\n",
    "# Generate random data from a standardnormal distribution\n",
    "X: np.ndarray = np.random.randn(N) * sigma + mu"
   ]
  },
  {
   "cell_type": "markdown",
   "metadata": {},
   "source": [
    "### Z-Confidence Interval\n",
    "\n",
    "$$ (\\hat{\\mu} - \\frac{ 1.96  (\\hat{\\sigma})}{\\sqrt{N}}), (\\hat{\\mu} + \\frac{ 1.96  (\\hat{\\sigma})}{\\sqrt{N}}) $$\n",
    "\n",
    "$z_{left} \\approx -1.96 $\n",
    "\n",
    "$z_{right} \\approx +1.96 $"
   ]
  },
  {
   "cell_type": "code",
   "execution_count": 4,
   "metadata": {},
   "outputs": [],
   "source": [
    "# Calculate the z confidence interval\n",
    "mu_hat: float = np.mean(X)\n",
    "sigma_hat: float = np.std(X, ddof=1)  # divide by N-1 instead of by N\n",
    "z_left: float = norm.ppf(0.025)  # (-ve)\n",
    "z_right: float = norm.ppf(0.975)  # (+ve)\n",
    "lower: float = mu_hat + (z_left * sigma_hat) / np.sqrt(N)\n",
    "upper: float = mu_hat + (z_right * sigma_hat) / np.sqrt(N)"
   ]
  },
  {
   "cell_type": "code",
   "execution_count": 5,
   "metadata": {},
   "outputs": [
    {
     "data": {
      "text/html": [
       "<pre style=\"white-space:pre;overflow-x:auto;line-height:normal;font-family:Menlo,'DejaVu Sans Mono',consolas,'Courier New',monospace\">mu_hat: <span style=\"color: #008080; text-decoration-color: #008080; font-weight: bold\">4.920871727838416</span>\n",
       "lower: <span style=\"color: #008080; text-decoration-color: #008080; font-weight: bold\">4.796753024134989</span>\n",
       "upper: <span style=\"color: #008080; text-decoration-color: #008080; font-weight: bold\">5.0449904315418435</span>\n",
       "</pre>\n"
      ],
      "text/plain": [
       "mu_hat: \u001b[1;36m4.920871727838416\u001b[0m\n",
       "lower: \u001b[1;36m4.796753024134989\u001b[0m\n",
       "upper: \u001b[1;36m5.0449904315418435\u001b[0m\n"
      ]
     },
     "metadata": {},
     "output_type": "display_data"
    },
    {
     "data": {
      "text/html": [
       "<pre style=\"white-space:pre;overflow-x:auto;line-height:normal;font-family:Menlo,'DejaVu Sans Mono',consolas,'Courier New',monospace\">The mean, mu_hat is between: <span style=\"color: #808000; text-decoration-color: #808000\">lower</span>= <span style=\"color: #008080; text-decoration-color: #008080; font-weight: bold\">4.796753024134989</span> and <span style=\"color: #808000; text-decoration-color: #808000\">upper</span>=<span style=\"color: #008080; text-decoration-color: #008080; font-weight: bold\">5.0449904315418435</span>\n",
       "</pre>\n"
      ],
      "text/plain": [
       "The mean, mu_hat is between: \u001b[33mlower\u001b[0m= \u001b[1;36m4.796753024134989\u001b[0m and \u001b[33mupper\u001b[0m=\u001b[1;36m5\u001b[0m\u001b[1;36m.0449904315418435\u001b[0m\n"
      ]
     },
     "metadata": {},
     "output_type": "display_data"
    }
   ],
   "source": [
    "print(f\"mu_hat: {mu_hat}\\nlower: {lower}\\nupper: {upper}\")\n",
    "\n",
    "print(f\"The mean, mu_hat is between: lower= {lower} and upper={upper}\")"
   ]
  },
  {
   "cell_type": "markdown",
   "metadata": {},
   "source": [
    "### T-Confidence Interval\n",
    "\n",
    "$$ (\\hat{\\mu} - \\frac{ t_{left}  (\\hat{\\sigma})}{\\sqrt{N}}), (\\hat{\\mu} + \\frac{ t_{right}  (\\hat{\\sigma})}{\\sqrt{N}}) $$"
   ]
  },
  {
   "cell_type": "code",
   "execution_count": 6,
   "metadata": {},
   "outputs": [],
   "source": [
    "# Calculate the t confidence interval\n",
    "mu_hat: float = np.mean(X)\n",
    "sigma_hat: float = np.std(X, ddof=1)  # divide by N-1 instead of by N\n",
    "t_left: float = t.ppf(0.025, df=N - 1)  # (-ve)\n",
    "t_right: float = t.ppf(0.975, df=N - 1)  # (+ve)\n",
    "lower: float = mu_hat + (t_left * sigma_hat) / np.sqrt(N)\n",
    "upper: float = mu_hat + (t_right * sigma_hat) / np.sqrt(N)"
   ]
  },
  {
   "cell_type": "code",
   "execution_count": 7,
   "metadata": {},
   "outputs": [
    {
     "data": {
      "text/html": [
       "<pre style=\"white-space:pre;overflow-x:auto;line-height:normal;font-family:Menlo,'DejaVu Sans Mono',consolas,'Courier New',monospace\">mu_hat: <span style=\"color: #008080; text-decoration-color: #008080; font-weight: bold\">4.920871727838416</span>\n",
       "lower: <span style=\"color: #008080; text-decoration-color: #008080; font-weight: bold\">4.796602465596575</span>\n",
       "upper: <span style=\"color: #008080; text-decoration-color: #008080; font-weight: bold\">5.045140990080258</span>\n",
       "</pre>\n"
      ],
      "text/plain": [
       "mu_hat: \u001b[1;36m4.920871727838416\u001b[0m\n",
       "lower: \u001b[1;36m4.796602465596575\u001b[0m\n",
       "upper: \u001b[1;36m5.045140990080258\u001b[0m\n"
      ]
     },
     "metadata": {},
     "output_type": "display_data"
    },
    {
     "data": {
      "text/html": [
       "<pre style=\"white-space:pre;overflow-x:auto;line-height:normal;font-family:Menlo,'DejaVu Sans Mono',consolas,'Courier New',monospace\">The mean, mu_hat is between: <span style=\"color: #808000; text-decoration-color: #808000\">lower</span>= <span style=\"color: #008080; text-decoration-color: #008080; font-weight: bold\">4.796602465596575</span> and <span style=\"color: #808000; text-decoration-color: #808000\">upper</span>=<span style=\"color: #008080; text-decoration-color: #008080; font-weight: bold\">5.045140990080258</span>\n",
       "</pre>\n"
      ],
      "text/plain": [
       "The mean, mu_hat is between: \u001b[33mlower\u001b[0m= \u001b[1;36m4.796602465596575\u001b[0m and \u001b[33mupper\u001b[0m=\u001b[1;36m5\u001b[0m\u001b[1;36m.045140990080258\u001b[0m\n"
      ]
     },
     "metadata": {},
     "output_type": "display_data"
    }
   ],
   "source": [
    "print(f\"mu_hat: {mu_hat}\\nlower: {lower}\\nupper: {upper}\")\n",
    "\n",
    "print(f\"The mean, mu_hat is between: lower= {lower} and upper={upper}\")"
   ]
  },
  {
   "cell_type": "code",
   "execution_count": 8,
   "metadata": {},
   "outputs": [],
   "source": [
    "def _t_confidence_experiment() -> bool:\n",
    "    \"\"\"This is used to carry the t-confidence interval test.\"\"\"\n",
    "    mu: int = 5\n",
    "    # Generate random data from a standardnormal distribution\n",
    "    X: np.ndarray = np.random.randn(N) * sigma + mu\n",
    "\n",
    "    mu_hat: float = np.mean(X)\n",
    "    sigma_hat: float = np.std(X, ddof=1)  # divide by N-1 instead of by N\n",
    "    t_left: float = t.ppf(0.025, df=N - 1)  # (-ve)\n",
    "    t_right: float = t.ppf(0.975, df=N - 1)  # (+ve)\n",
    "\n",
    "    # Calculate the lower and upper boundaries\n",
    "    lower: float = mu_hat + (t_left * sigma_hat) / np.sqrt(N)\n",
    "    upper: float = mu_hat + (t_right * sigma_hat) / np.sqrt(N)\n",
    "    return mu > lower and mu < upper\n",
    "\n",
    "\n",
    "def multi_experiment(*, M: int) -> float:\n",
    "    \"\"\"This is used to carry the out multiple t-confidence interval test.\"\"\"\n",
    "    results = [_t_confidence_experiment() for _ in range(M)]\n",
    "    return np.mean(results)"
   ]
  },
  {
   "cell_type": "code",
   "execution_count": 9,
   "metadata": {},
   "outputs": [
    {
     "data": {
      "text/plain": [
       "0.9463"
      ]
     },
     "execution_count": 9,
     "metadata": {},
     "output_type": "execute_result"
    }
   ],
   "source": [
    "M: int = 10_000\n",
    "\n",
    "# Carry the experiment N times\n",
    "# The estimated mean, mu_hat should be between the intervals 95% of the time\n",
    "multi_experiment(M=M)"
   ]
  },
  {
   "cell_type": "code",
   "execution_count": null,
   "metadata": {},
   "outputs": [],
   "source": []
  },
  {
   "cell_type": "code",
   "execution_count": null,
   "metadata": {},
   "outputs": [],
   "source": []
  }
 ],
 "metadata": {
  "kernelspec": {
   "display_name": "venv",
   "language": "python",
   "name": "python3"
  },
  "language_info": {
   "codemirror_mode": {
    "name": "ipython",
    "version": 3
   },
   "file_extension": ".py",
   "mimetype": "text/x-python",
   "name": "python",
   "nbconvert_exporter": "python",
   "pygments_lexer": "ipython3",
   "version": "3.10.8"
  }
 },
 "nbformat": 4,
 "nbformat_minor": 2
}
