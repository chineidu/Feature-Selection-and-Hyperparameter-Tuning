{
 "cells": [
  {
   "cell_type": "markdown",
   "metadata": {},
   "source": [
    "# Z Test\n",
    "\n",
    "- Reference [notebook](https://colab.research.google.com/drive/1hu-vJLeUHTQEn8fytWWRMiI2z-mtpIvS?usp=sharing)"
   ]
  },
  {
   "cell_type": "code",
   "execution_count": 1,
   "metadata": {},
   "outputs": [],
   "source": [
    "# Built-in library\n",
    "import re\n",
    "import json\n",
    "from typing import Any, Dict, List, Optional, Union\n",
    "import logging\n",
    "import warnings\n",
    "\n",
    "# Standard imports\n",
    "import numpy as np\n",
    "import pandas as pd\n",
    "import polars as pl\n",
    "from rich import print\n",
    "\n",
    "# import torch\n",
    "\n",
    "# Visualization\n",
    "import matplotlib.pyplot as plt\n",
    "\n",
    "\n",
    "# Pandas settings\n",
    "pd.options.display.max_rows = 1_000\n",
    "pd.options.display.max_columns = 1_000\n",
    "pd.options.display.max_colwidth = 600\n",
    "\n",
    "warnings.filterwarnings(\"ignore\")\n",
    "\n",
    "# Black code formatter (Optional)\n",
    "%load_ext lab_black\n",
    "\n",
    "# auto reload imports\n",
    "%load_ext autoreload\n",
    "%autoreload 2"
   ]
  },
  {
   "cell_type": "code",
   "execution_count": 2,
   "metadata": {},
   "outputs": [],
   "source": [
    "import numpy as np\n",
    "from scipy.stats import norm\n",
    "from statsmodels.stats.weightstats import ztest"
   ]
  },
  {
   "cell_type": "code",
   "execution_count": 3,
   "metadata": {},
   "outputs": [],
   "source": [
    "# Set seed\n",
    "SEED: int = 123\n",
    "\n",
    "np.random.seed(SEED)"
   ]
  },
  {
   "cell_type": "code",
   "execution_count": 4,
   "metadata": {},
   "outputs": [],
   "source": [
    "N: int = 1_000\n",
    "mu: int = 0.2\n",
    "sigma: int = 1\n",
    "\n",
    "# Generate random data from a standardnormal distribution\n",
    "X: np.ndarray = np.random.randn(N) * sigma + mu"
   ]
  },
  {
   "cell_type": "code",
   "execution_count": 5,
   "metadata": {},
   "outputs": [
    {
     "data": {
      "text/plain": [
       "(5.066899761724379, 4.043470672749927e-07)"
      ]
     },
     "execution_count": 5,
     "metadata": {},
     "output_type": "execute_result"
    }
   ],
   "source": [
    "# Two-sided test\n",
    "ztest(X)"
   ]
  },
  {
   "cell_type": "markdown",
   "metadata": {},
   "source": [
    "## P-value Calculation\n",
    "\n",
    "- Manual calculation\n",
    "\n",
    "$$ p_{right} = 1 - \\phi( |Z| ) $$\n",
    "$$ p_{left} = \\phi(-|Z| ) $$\n",
    "$$ p = p_{left} + p_{right} $$\n",
    "$$ Z = \\frac{\\hat{\\mu} - \\mu_{0}}{(\\frac{\\hat{\\sigma}}{\\sqrt{N}})} $$\n",
    "\n",
    "\n",
    "where:\n",
    "\n",
    "$ \\phi $ => **Cummulative Density Function** (CDF)"
   ]
  },
  {
   "cell_type": "code",
   "execution_count": 6,
   "metadata": {},
   "outputs": [
    {
     "data": {
      "text/plain": [
       "(5.066899761724379, 4.0434706732961455e-07)"
      ]
     },
     "execution_count": 6,
     "metadata": {},
     "output_type": "execute_result"
    }
   ],
   "source": [
    "# Two-sided test (Manual implementation)\n",
    "mu_hat: float = X.mean()\n",
    "sigma_hat: float = X.std(ddof=1)\n",
    "z: float = mu_hat / (sigma_hat / np.sqrt(N))  # our mu0 = 0\n",
    "p_right: float = 1 - norm.cdf(np.abs(z))\n",
    "p_left: float = norm.cdf(-np.abs(z))\n",
    "p: float = p_right + p_left\n",
    "z, p"
   ]
  },
  {
   "cell_type": "code",
   "execution_count": 7,
   "metadata": {},
   "outputs": [
    {
     "data": {
      "text/plain": [
       "(5.066899761724379, 4.043470672749927e-07)"
      ]
     },
     "execution_count": 7,
     "metadata": {},
     "output_type": "execute_result"
    }
   ],
   "source": [
    "# Alternate calculation (Manual implementation)\n",
    "mu_0: float = 0.0\n",
    "mu_hat: float = X.mean()\n",
    "v_hat: float = X.var(ddof=1) / N\n",
    "z: float = (mu_hat - mu_0) / np.sqrt(v_hat)\n",
    "p: float = 2 * norm.sf(np.abs(z))\n",
    "z, p"
   ]
  },
  {
   "cell_type": "code",
   "execution_count": 8,
   "metadata": {},
   "outputs": [
    {
     "data": {
      "text/plain": [
       "(5.066899761724379, 2.0217353363749634e-07)"
      ]
     },
     "execution_count": 8,
     "metadata": {},
     "output_type": "execute_result"
    }
   ],
   "source": [
    "# One-sided test\n",
    "ztest(X, alternative=\"larger\")"
   ]
  },
  {
   "cell_type": "code",
   "execution_count": 9,
   "metadata": {},
   "outputs": [
    {
     "data": {
      "text/plain": [
       "(5.066899761724379, 2.021735336921182e-07)"
      ]
     },
     "execution_count": 9,
     "metadata": {},
     "output_type": "execute_result"
    }
   ],
   "source": [
    "# One-sided test (Manual implementation)\n",
    "mu_hat: float = X.mean()\n",
    "sigma_hat: float = X.std(ddof=1)\n",
    "z: float = (mu_hat - mu_0) / (sigma_hat / np.sqrt(N))  # our mu0 = 0\n",
    "p: float = 1 - norm.cdf(z)\n",
    "z, p"
   ]
  },
  {
   "cell_type": "code",
   "execution_count": 10,
   "metadata": {},
   "outputs": [
    {
     "data": {
      "text/plain": [
       "(-1.2495180739734475, 0.21147564705942012)"
      ]
     },
     "execution_count": 10,
     "metadata": {},
     "output_type": "execute_result"
    }
   ],
   "source": [
    "# Null under a different reference value\n",
    "mu_0: float = 0.2\n",
    "ztest(X, value=mu_0)"
   ]
  },
  {
   "cell_type": "code",
   "execution_count": 11,
   "metadata": {},
   "outputs": [
    {
     "data": {
      "text/plain": [
       "(-1.2495180739734475, 0.21147564705942012)"
      ]
     },
     "execution_count": 11,
     "metadata": {},
     "output_type": "execute_result"
    }
   ],
   "source": [
    "# Null under a different reference value (Manual implementation)\n",
    "mu_hat = X.mean()\n",
    "sigma_hat = X.std(ddof=1)\n",
    "z = (mu_hat - mu_0) / (sigma_hat / np.sqrt(N))\n",
    "p_right = 1 - norm.cdf(np.abs(z))\n",
    "p_left = norm.cdf(-np.abs(z))\n",
    "p = p_right + p_left\n",
    "z, p"
   ]
  },
  {
   "cell_type": "markdown",
   "metadata": {},
   "source": [
    "### Two-sample Test"
   ]
  },
  {
   "cell_type": "code",
   "execution_count": 12,
   "metadata": {},
   "outputs": [],
   "source": [
    "# Two-sample test\n",
    "N: int = 100\n",
    "mu_0: float = 0.2\n",
    "sigma_0: float = 1.0\n",
    "X_0 = np.random.randn(N) * sigma_0 + mu_0\n",
    "\n",
    "mu_1: float = 0.5\n",
    "sigma_1: float = 1.0\n",
    "X_1 = np.random.randn(N) * sigma_1 + mu_1"
   ]
  },
  {
   "cell_type": "code",
   "execution_count": 13,
   "metadata": {},
   "outputs": [
    {
     "data": {
      "text/plain": [
       "(-2.3670272032230786, 0.017931614743417937)"
      ]
     },
     "execution_count": 13,
     "metadata": {},
     "output_type": "execute_result"
    }
   ],
   "source": [
    "ztest(X_0, X_1)"
   ]
  },
  {
   "cell_type": "code",
   "execution_count": 14,
   "metadata": {},
   "outputs": [
    {
     "data": {
      "text/plain": [
       "(2.367027203223079, 0.01793161474341789)"
      ]
     },
     "execution_count": 14,
     "metadata": {},
     "output_type": "execute_result"
    }
   ],
   "source": [
    "# Two-sample test implementation\n",
    "mu_hat0: float = X_0.mean()\n",
    "mu_hat1: float = X_1.mean()\n",
    "\n",
    "# Difference between the means\n",
    "dmu_hat: float = mu_hat1 - mu_hat0\n",
    "s2_hat0: float = X_0.var(ddof=1)\n",
    "s2_hat1: float = X_1.var(ddof=1)\n",
    "\n",
    "# Sum of standard deviations\n",
    "s_hat: float = np.sqrt((s2_hat0 / N) + (s2_hat1 / N))\n",
    "z: float = dmu_hat / s_hat  # reference value is 0\n",
    "\n",
    "p_right: float = 1 - norm.cdf(np.abs(z))\n",
    "p_left: float = norm.cdf(-np.abs(z))\n",
    "p: float = p_right + p_left\n",
    "\n",
    "z, p"
   ]
  },
  {
   "cell_type": "code",
   "execution_count": null,
   "metadata": {},
   "outputs": [],
   "source": []
  },
  {
   "cell_type": "markdown",
   "metadata": {},
   "source": [
    "## Load The Data"
   ]
  },
  {
   "cell_type": "code",
   "execution_count": 15,
   "metadata": {},
   "outputs": [
    {
     "data": {
      "text/html": [
       "<div><style>\n",
       ".dataframe > thead > tr,\n",
       ".dataframe > tbody > tr {\n",
       "  text-align: right;\n",
       "  white-space: pre-wrap;\n",
       "}\n",
       "</style>\n",
       "<small>shape: (5, 12)</small><table border=\"1\" class=\"dataframe\"><thead><tr><th>PassengerId</th><th>Survived</th><th>Pclass</th><th>Name</th><th>Sex</th><th>Age</th><th>SibSp</th><th>Parch</th><th>Ticket</th><th>Fare</th><th>Cabin</th><th>Embarked</th></tr><tr><td>i64</td><td>i64</td><td>i64</td><td>str</td><td>str</td><td>f64</td><td>i64</td><td>i64</td><td>str</td><td>f64</td><td>str</td><td>str</td></tr></thead><tbody><tr><td>1</td><td>0</td><td>3</td><td>&quot;Braund, Mr. Ow…</td><td>&quot;male&quot;</td><td>22.0</td><td>1</td><td>0</td><td>&quot;A/5 21171&quot;</td><td>7.25</td><td>null</td><td>&quot;S&quot;</td></tr><tr><td>2</td><td>1</td><td>1</td><td>&quot;Cumings, Mrs. …</td><td>&quot;female&quot;</td><td>38.0</td><td>1</td><td>0</td><td>&quot;PC 17599&quot;</td><td>71.2833</td><td>&quot;C85&quot;</td><td>&quot;C&quot;</td></tr><tr><td>3</td><td>1</td><td>3</td><td>&quot;Heikkinen, Mis…</td><td>&quot;female&quot;</td><td>26.0</td><td>0</td><td>0</td><td>&quot;STON/O2. 31012…</td><td>7.925</td><td>null</td><td>&quot;S&quot;</td></tr><tr><td>4</td><td>1</td><td>1</td><td>&quot;Futrelle, Mrs.…</td><td>&quot;female&quot;</td><td>35.0</td><td>1</td><td>0</td><td>&quot;113803&quot;</td><td>53.1</td><td>&quot;C123&quot;</td><td>&quot;S&quot;</td></tr><tr><td>5</td><td>0</td><td>3</td><td>&quot;Allen, Mr. Wil…</td><td>&quot;male&quot;</td><td>35.0</td><td>0</td><td>0</td><td>&quot;373450&quot;</td><td>8.05</td><td>null</td><td>&quot;S&quot;</td></tr></tbody></table></div>"
      ],
      "text/plain": [
       "shape: (5, 12)\n",
       "┌─────────────┬──────────┬────────┬───────────────────┬───┬───────────┬─────────┬───────┬──────────┐\n",
       "│ PassengerId ┆ Survived ┆ Pclass ┆ Name              ┆ … ┆ Ticket    ┆ Fare    ┆ Cabin ┆ Embarked │\n",
       "│ ---         ┆ ---      ┆ ---    ┆ ---               ┆   ┆ ---       ┆ ---     ┆ ---   ┆ ---      │\n",
       "│ i64         ┆ i64      ┆ i64    ┆ str               ┆   ┆ str       ┆ f64     ┆ str   ┆ str      │\n",
       "╞═════════════╪══════════╪════════╪═══════════════════╪═══╪═══════════╪═════════╪═══════╪══════════╡\n",
       "│ 1           ┆ 0        ┆ 3      ┆ Braund, Mr. Owen  ┆ … ┆ A/5 21171 ┆ 7.25    ┆ null  ┆ S        │\n",
       "│             ┆          ┆        ┆ Harris            ┆   ┆           ┆         ┆       ┆          │\n",
       "│ 2           ┆ 1        ┆ 1      ┆ Cumings, Mrs.     ┆ … ┆ PC 17599  ┆ 71.2833 ┆ C85   ┆ C        │\n",
       "│             ┆          ┆        ┆ John Bradley      ┆   ┆           ┆         ┆       ┆          │\n",
       "│             ┆          ┆        ┆ (Flor…            ┆   ┆           ┆         ┆       ┆          │\n",
       "│ 3           ┆ 1        ┆ 3      ┆ Heikkinen, Miss.  ┆ … ┆ STON/O2.  ┆ 7.925   ┆ null  ┆ S        │\n",
       "│             ┆          ┆        ┆ Laina             ┆   ┆ 3101282   ┆         ┆       ┆          │\n",
       "│ 4           ┆ 1        ┆ 1      ┆ Futrelle, Mrs.    ┆ … ┆ 113803    ┆ 53.1    ┆ C123  ┆ S        │\n",
       "│             ┆          ┆        ┆ Jacques Heath     ┆   ┆           ┆         ┆       ┆          │\n",
       "│             ┆          ┆        ┆ (Li…              ┆   ┆           ┆         ┆       ┆          │\n",
       "│ 5           ┆ 0        ┆ 3      ┆ Allen, Mr.        ┆ … ┆ 373450    ┆ 8.05    ┆ null  ┆ S        │\n",
       "│             ┆          ┆        ┆ William Henry     ┆   ┆           ┆         ┆       ┆          │\n",
       "└─────────────┴──────────┴────────┴───────────────────┴───┴───────────┴─────────┴───────┴──────────┘"
      ]
     },
     "execution_count": 15,
     "metadata": {},
     "output_type": "execute_result"
    }
   ],
   "source": [
    "fp: str = \"../../data/titanic_train.csv\"\n",
    "data: pl.DataFrame = pl.read_csv(source=fp)\n",
    "\n",
    "data.head()"
   ]
  },
  {
   "cell_type": "markdown",
   "metadata": {},
   "source": [
    "### Hypothesis Test\n",
    " \n",
    "#### Null Hypothesis ($H_{0}$)\n",
    "\n",
    "- There is no significant difference in the mean fare prices between passengers who survived and passengers who did not survive.\n",
    "\n",
    "#### Alternative Hypothesis ($H_{1}$)\n",
    "\n",
    "- There is a significant difference in the mean fare prices between passengers who survived and passengers who did not survive.\n",
    "  \n",
    "- In mathematical notation:\n",
    "\n",
    "$$H_{0} : \\mu_{1} = \\mu_{2} $$\n",
    "​\n",
    "$$H_{1} : \\mu_{1} \\neq \\mu_{2} $$\n"
   ]
  },
  {
   "cell_type": "code",
   "execution_count": 16,
   "metadata": {},
   "outputs": [],
   "source": [
    "X_1: np.ndarray = (\n",
    "    data.filter(pl.col(\"Survived\") == 0).select(pl.col(\"Fare\")).to_numpy().flatten()\n",
    ")\n",
    "X_2: np.ndarray = (\n",
    "    data.filter(pl.col(\"Survived\") == 1).select(pl.col(\"Fare\")).to_numpy().flatten()\n",
    ")"
   ]
  },
  {
   "cell_type": "code",
   "execution_count": 17,
   "metadata": {},
   "outputs": [],
   "source": [
    "import numpy.typing as npt"
   ]
  },
  {
   "cell_type": "code",
   "execution_count": 18,
   "metadata": {},
   "outputs": [],
   "source": [
    "def calculate_delta_square(*, base_param: float, MDE: float = 0.15) -> float:\n",
    "    param_2: float = base_param * (1 + MDE)\n",
    "    delta_sqr: float = np.square(param_2 - base_param)\n",
    "    return delta_sqr"
   ]
  },
  {
   "cell_type": "code",
   "execution_count": 19,
   "metadata": {},
   "outputs": [
    {
     "data": {
      "text/plain": [
       "0.0009"
      ]
     },
     "execution_count": 19,
     "metadata": {},
     "output_type": "execute_result"
    }
   ],
   "source": [
    "calculate_delta_square(base_param=0.15, MDE=0.2)"
   ]
  },
  {
   "cell_type": "code",
   "execution_count": 20,
   "metadata": {},
   "outputs": [],
   "source": [
    "def calculate_num_samples(\n",
    "    *,\n",
    "    x_1: npt.NDArray[np.float_],\n",
    "    x_2: npt.NDArray[np.float_],\n",
    "    alpha: float = 0.05,\n",
    "    power: float = 0.8,\n",
    "    MDE: float = 0.1,\n",
    ") -> int:\n",
    "    \"\"\"This is used to calculate the required number of samples for the 2 groups in an AB test.\n",
    "\n",
    "    Params:\n",
    "    -------\n",
    "    x_1 (npt.NDArray[np.float_]): The control group data.\n",
    "    x_2 (npt.NDArray[np.float_]): The treatment group data.\n",
    "    alpha (float, default=0.05): The confidence threshold\n",
    "    power (float, default=0.8): The statistical power.\n",
    "    MDE (float, default= 0.10): Minimum Detectable Effect. i.e. relative lift.\n",
    "\n",
    "    Returns:\n",
    "    --------\n",
    "    total_num_samples (float): The total number of sample size for the 2 groups.\n",
    "    \"\"\"\n",
    "    from scipy.stats import norm\n",
    "\n",
    "    # Calculate the z-critical score for a two-tailed test\n",
    "    value: float = 1 - (alpha / 2)\n",
    "    z_critical: float = np.round(norm.ppf(value), 2)\n",
    "\n",
    "    # Calculate the Z(1 - beta) score\n",
    "    z_score_power = norm.ppf(power)\n",
    "\n",
    "    # Calculate the variance\n",
    "    var_control: float = np.var(x_1, ddof=1)\n",
    "    var_test: float = 2 * var_control\n",
    "    base_param: float = np.mean(X_1)\n",
    "    delta_sqr: float = calculate_delta_square(base_param=base_param, MDE=MDE)\n",
    "    numerator: float = np.square(z_critical + z_score_power) * 2 * var_test\n",
    "\n",
    "    total_num_samples: float = numerator / delta_sqr\n",
    "\n",
    "    return np.round(total_num_samples)"
   ]
  },
  {
   "cell_type": "code",
   "execution_count": 21,
   "metadata": {},
   "outputs": [
    {
     "data": {
      "text/plain": [
       "6323.0"
      ]
     },
     "execution_count": 21,
     "metadata": {},
     "output_type": "execute_result"
    }
   ],
   "source": [
    "calculate_num_samples(x_1=X_1, x_2=X_2, alpha=0.05, power=0.8, MDE=0.1)"
   ]
  },
  {
   "cell_type": "code",
   "execution_count": 22,
   "metadata": {},
   "outputs": [],
   "source": [
    "import seaborn as sns"
   ]
  },
  {
   "cell_type": "code",
   "execution_count": 23,
   "metadata": {},
   "outputs": [
    {
     "data": {
      "image/png": "[encoded data removed]",
      "text/plain": [
       "<Figure size 640x480 with 1 Axes>"
      ]
     },
     "metadata": {},
     "output_type": "display_data"
    }
   ],
   "source": [
    "sns.kdeplot(X_1, label=\"Did Not Survive\", color=\"red\")\n",
    "sns.kdeplot(X_2, label=\"Survived\", color=\"green\")\n",
    "plt.legend()\n",
    "plt.show()"
   ]
  },
  {
   "cell_type": "code",
   "execution_count": 24,
   "metadata": {},
   "outputs": [
    {
     "data": {
      "text/plain": [
       "((549,), (342,))"
      ]
     },
     "execution_count": 24,
     "metadata": {},
     "output_type": "execute_result"
    }
   ],
   "source": [
    "X_1.shape, X_2.shape"
   ]
  },
  {
   "cell_type": "code",
   "execution_count": 25,
   "metadata": {},
   "outputs": [
    {
     "data": {
      "text/plain": [
       "(22.117886885245902, 48.39540760233918)"
      ]
     },
     "execution_count": 25,
     "metadata": {},
     "output_type": "execute_result"
    }
   ],
   "source": [
    "X_1.mean(), X_2.mean()"
   ]
  },
  {
   "cell_type": "code",
   "execution_count": 26,
   "metadata": {},
   "outputs": [
    {
     "data": {
      "text/html": [
       "<pre style=\"white-space:pre;overflow-x:auto;line-height:normal;font-family:Menlo,'DejaVu Sans Mono',consolas,'Courier New',monospace\">The p-value is: <span style=\"color: #008080; text-decoration-color: #008080; font-weight: bold\">2.035031103573989e-15</span>\n",
       "</pre>\n"
      ],
      "text/plain": [
       "The p-value is: \u001b[1;36m2.035031103573989e-15\u001b[0m\n"
      ]
     },
     "metadata": {},
     "output_type": "display_data"
    },
    {
     "data": {
      "text/html": [
       "<pre style=\"white-space:pre;overflow-x:auto;line-height:normal;font-family:Menlo,'DejaVu Sans Mono',consolas,'Courier New',monospace\">This implies that the mean fare prices of the <span style=\"color: #008080; text-decoration-color: #008080; font-weight: bold\">2</span> groups are statistically significant.\n",
       "Decision: REJECT the null hypothesis!\n",
       "</pre>\n"
      ],
      "text/plain": [
       "This implies that the mean fare prices of the \u001b[1;36m2\u001b[0m groups are statistically significant.\n",
       "Decision: REJECT the null hypothesis!\n"
      ]
     },
     "metadata": {},
     "output_type": "display_data"
    }
   ],
   "source": [
    "test_statistic, p_val = ztest(X_1, X_2)\n",
    "print(f\"The p-value is: {p_val}\")\n",
    "print(\n",
    "    \"This implies that the mean fare prices of the 2 groups are statistically significant.\\nDecision: REJECT the null hypothesis!\"\n",
    ")"
   ]
  },
  {
   "cell_type": "code",
   "execution_count": null,
   "metadata": {},
   "outputs": [],
   "source": []
  }
 ],
 "metadata": {
  "kernelspec": {
   "display_name": "venv",
   "language": "python",
   "name": "python3"
  },
  "language_info": {
   "codemirror_mode": {
    "name": "ipython",
    "version": 3
   },
   "file_extension": ".py",
   "mimetype": "text/x-python",
   "name": "python",
   "nbconvert_exporter": "python",
   "pygments_lexer": "ipython3",
   "version": "3.10.8"
  }
 },
 "nbformat": 4,
 "nbformat_minor": 2
}
