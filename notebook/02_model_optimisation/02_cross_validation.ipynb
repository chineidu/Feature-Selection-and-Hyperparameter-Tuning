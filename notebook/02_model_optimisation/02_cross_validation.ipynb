{
 "cells": [
  {
   "attachments": {},
   "cell_type": "markdown",
   "metadata": {},
   "source": [
    "# Cross Validation\n",
    "\n",
    "> More info can be found [here](https://www.turing.com/kb/different-types-of-cross-validations-in-machine-learning-and-their-explanations).\n",
    "## Types\n",
    "\n",
    "1. Hold-out Cross Validation: AKA train test split. To get started, the data sample is divided into two parts - Training Data Set and Testing Data Set. <br><br>\n",
    "2. K-Fold Cross Validation: The parameter for this type is 'K' which refers to the number of subsets or folds obtained from the data sample. The first step is to train the model using the entire data set. The second step is to divide the data sample in 'k' number of subsets (let us suppose, 11). From hereon, these subsets become the testing data sets that are then used for testing the validation of a model one by one. \n",
    "This particular type of cross-validation is considered to be an unbiased and inclusive validation method as it involves the training and testing of almost every subset. <br><br>\n",
    "3. Repeated K-Fold Cross Validation: Repeated k-fold cross-validation provides a way to improve the estimated performance of a machine learning model. This involves simply repeating the cross-validation procedure multiple (N) times and reporting the mean result across all folds from all runs. <br><br>\n",
    "4. Stratified K-Fold Cross Validation: It involves the division of data sample sets into 'k' subsets or folds and it's only applicable to `classification` problems. In order to ensure that there is no biased division of data in 'k' folds, the process of stratification is conducted to rearrange the data in such a manner that each fold represents the whole data. i.e it's used for `imbalanced data`. <br><br>\n",
    "5. Leave P Out Cross Validation: Another type of cross-validation is the Leave-p-out cross-validation method. Herein, the data sample comprises data points (n). The total number of data points (n) is used to separate a set of data points that is used for testing. These data points are referred to as (p). The training data set is obtained by calculating (n-p) and the model is trained accordingly. Once the training is done, p data points are used for cross-validation.  <br><br>\n",
    "6. Leave One Out Cross Validation: A variant of the Leave-p-out cross-validation method, the Leave-one-out cross-validation is another type of cross-validation. Herein, p is kept to be 1 (p=1) and the n-p data points are used to train the model. Thus, when the training is done, the p data point or a single data point is used to validate the model. One of the biggest drawbacks of this type is that a major part of the data sample is used for training the model, however, only a single data point is used to evaluate its accuracy.  Therefore, this type is often considered to be an expensive method. "
   ]
  },
  {
   "cell_type": "code",
   "execution_count": 1,
   "metadata": {},
   "outputs": [],
   "source": [
    "from typing import Optional\n",
    "import warnings\n",
    "\n",
    "warnings.filterwarnings(\"ignore\")\n",
    "\n",
    "import numpy as np\n",
    "import pandas as pd\n",
    "import matplotlib.pyplot as plt\n",
    "\n",
    "from sklearn.linear_model import LogisticRegression\n",
    "from sklearn.metrics import accuracy_score\n",
    "\n",
    "# Custom import\n",
    "from src.data_manager import load_data, split_data\n",
    "from src.metrics import plot_confusion_matrix, hyperparam_space\n",
    "\n",
    "# pandas settings\n",
    "pd.options.display.max_rows = 1_000\n",
    "pd.options.display.max_columns = 1_000\n",
    "pd.options.display.max_colwidth = 600\n",
    "%load_ext lab_black\n",
    "\n",
    "%load_ext autoreload\n",
    "%autoreload 2"
   ]
  },
  {
   "attachments": {},
   "cell_type": "markdown",
   "metadata": {},
   "source": [
    "### Evaluating The Model Using Cross Validation\n",
    "\n",
    "* Cross validation can be used to:\n",
    "  * Evaluate model performance.\n",
    "  * Select the best model hyperparameters.\n"
   ]
  },
  {
   "cell_type": "code",
   "execution_count": 2,
   "metadata": {},
   "outputs": [
    {
     "name": "stdout",
     "output_type": "stream",
     "text": [
      "Shape of data: (891, 12)\n",
      "\n",
      "Duration: 0.008 seconds\n"
     ]
    },
    {
     "data": {
      "text/html": [
       "<div>\n",
       "<style scoped>\n",
       "    .dataframe tbody tr th:only-of-type {\n",
       "        vertical-align: middle;\n",
       "    }\n",
       "\n",
       "    .dataframe tbody tr th {\n",
       "        vertical-align: top;\n",
       "    }\n",
       "\n",
       "    .dataframe thead th {\n",
       "        text-align: right;\n",
       "    }\n",
       "</style>\n",
       "<table border=\"1\" class=\"dataframe\">\n",
       "  <thead>\n",
       "    <tr style=\"text-align: right;\">\n",
       "      <th></th>\n",
       "      <th>PassengerId</th>\n",
       "      <th>Survived</th>\n",
       "      <th>Pclass</th>\n",
       "      <th>Name</th>\n",
       "      <th>Sex</th>\n",
       "      <th>Age</th>\n",
       "      <th>SibSp</th>\n",
       "      <th>Parch</th>\n",
       "      <th>Ticket</th>\n",
       "      <th>Fare</th>\n",
       "      <th>Cabin</th>\n",
       "      <th>Embarked</th>\n",
       "    </tr>\n",
       "  </thead>\n",
       "  <tbody>\n",
       "    <tr>\n",
       "      <th>0</th>\n",
       "      <td>1</td>\n",
       "      <td>0</td>\n",
       "      <td>3</td>\n",
       "      <td>Braund, Mr. Owen Harris</td>\n",
       "      <td>male</td>\n",
       "      <td>22.0</td>\n",
       "      <td>1</td>\n",
       "      <td>0</td>\n",
       "      <td>A/5 21171</td>\n",
       "      <td>7.2500</td>\n",
       "      <td>NaN</td>\n",
       "      <td>S</td>\n",
       "    </tr>\n",
       "    <tr>\n",
       "      <th>1</th>\n",
       "      <td>2</td>\n",
       "      <td>1</td>\n",
       "      <td>1</td>\n",
       "      <td>Cumings, Mrs. John Bradley (Florence Briggs Thayer)</td>\n",
       "      <td>female</td>\n",
       "      <td>38.0</td>\n",
       "      <td>1</td>\n",
       "      <td>0</td>\n",
       "      <td>PC 17599</td>\n",
       "      <td>71.2833</td>\n",
       "      <td>C85</td>\n",
       "      <td>C</td>\n",
       "    </tr>\n",
       "    <tr>\n",
       "      <th>2</th>\n",
       "      <td>3</td>\n",
       "      <td>1</td>\n",
       "      <td>3</td>\n",
       "      <td>Heikkinen, Miss. Laina</td>\n",
       "      <td>female</td>\n",
       "      <td>26.0</td>\n",
       "      <td>0</td>\n",
       "      <td>0</td>\n",
       "      <td>STON/O2. 3101282</td>\n",
       "      <td>7.9250</td>\n",
       "      <td>NaN</td>\n",
       "      <td>S</td>\n",
       "    </tr>\n",
       "    <tr>\n",
       "      <th>3</th>\n",
       "      <td>4</td>\n",
       "      <td>1</td>\n",
       "      <td>1</td>\n",
       "      <td>Futrelle, Mrs. Jacques Heath (Lily May Peel)</td>\n",
       "      <td>female</td>\n",
       "      <td>35.0</td>\n",
       "      <td>1</td>\n",
       "      <td>0</td>\n",
       "      <td>113803</td>\n",
       "      <td>53.1000</td>\n",
       "      <td>C123</td>\n",
       "      <td>S</td>\n",
       "    </tr>\n",
       "    <tr>\n",
       "      <th>4</th>\n",
       "      <td>5</td>\n",
       "      <td>0</td>\n",
       "      <td>3</td>\n",
       "      <td>Allen, Mr. William Henry</td>\n",
       "      <td>male</td>\n",
       "      <td>35.0</td>\n",
       "      <td>0</td>\n",
       "      <td>0</td>\n",
       "      <td>373450</td>\n",
       "      <td>8.0500</td>\n",
       "      <td>NaN</td>\n",
       "      <td>S</td>\n",
       "    </tr>\n",
       "  </tbody>\n",
       "</table>\n",
       "</div>"
      ],
      "text/plain": [
       "   PassengerId  Survived  Pclass  \\\n",
       "0            1         0       3   \n",
       "1            2         1       1   \n",
       "2            3         1       3   \n",
       "3            4         1       1   \n",
       "4            5         0       3   \n",
       "\n",
       "                                                  Name     Sex   Age  SibSp  \\\n",
       "0                              Braund, Mr. Owen Harris    male  22.0      1   \n",
       "1  Cumings, Mrs. John Bradley (Florence Briggs Thayer)  female  38.0      1   \n",
       "2                               Heikkinen, Miss. Laina  female  26.0      0   \n",
       "3         Futrelle, Mrs. Jacques Heath (Lily May Peel)  female  35.0      1   \n",
       "4                             Allen, Mr. William Henry    male  35.0      0   \n",
       "\n",
       "   Parch            Ticket     Fare Cabin Embarked  \n",
       "0      0         A/5 21171   7.2500   NaN        S  \n",
       "1      0          PC 17599  71.2833   C85        C  \n",
       "2      0  STON/O2. 3101282   7.9250   NaN        S  \n",
       "3      0            113803  53.1000  C123        S  \n",
       "4      0            373450   8.0500   NaN        S  "
      ]
     },
     "execution_count": 2,
     "metadata": {},
     "output_type": "execute_result"
    }
   ],
   "source": [
    "# Load data\n",
    "fp = \"../../data/titanic_train.csv\"\n",
    "data = load_data(filename=fp)\n",
    "data.head()"
   ]
  },
  {
   "cell_type": "code",
   "execution_count": 3,
   "metadata": {},
   "outputs": [],
   "source": [
    "from feature_engine.encoding import RareLabelEncoder\n",
    "from feature_engine.wrappers import SklearnTransformerWrapper\n",
    "from feature_engine.selection import DropFeatures\n",
    "from feature_engine.imputation import (\n",
    "    MeanMedianImputer,\n",
    "    CategoricalImputer,\n",
    "    AddMissingIndicator,\n",
    ")\n",
    "\n",
    "from sklearn.pipeline import Pipeline\n",
    "from sklearn.compose import ColumnTransformer\n",
    "from sklearn.preprocessing import OneHotEncoder, MinMaxScaler"
   ]
  },
  {
   "cell_type": "code",
   "execution_count": 4,
   "metadata": {},
   "outputs": [],
   "source": [
    "# Drop `Cabin` it has to many missing values and unique values\n",
    "vars_to_drop = [\"PassengerId\", \"Name\", \"Cabin\", \"Ticket\"]\n",
    "vars_wf_na_median = [\"Age\"]\n",
    "vars_wf_na_most_freq = [\"Embarked\"]\n",
    "vars_to_ohe = [\"Pclass\", \"Sex\", \"Embarked\", \"Parch\", \"SibSp\"]\n",
    "vars_wf_rare_labels = [\"Parch\", \"SibSp\"]\n",
    "RARE_LABEL_THRESH = 0.05\n",
    "vars_to_transform = [\"Age\", \"Fare\"]\n",
    "target = \"Survived\"\n",
    "\n",
    "RANDOM_STATE = 123\n",
    "N_ESTIMATORS = 20\n",
    "MAX_ITER = 10_000"
   ]
  },
  {
   "cell_type": "code",
   "execution_count": 5,
   "metadata": {},
   "outputs": [
    {
     "data": {
      "text/html": [
       "<style>#sk-container-id-1 {color: black;background-color: white;}#sk-container-id-1 pre{padding: 0;}#sk-container-id-1 div.sk-toggleable {background-color: white;}#sk-container-id-1 label.sk-toggleable__label {cursor: pointer;display: block;width: 100%;margin-bottom: 0;padding: 0.3em;box-sizing: border-box;text-align: center;}#sk-container-id-1 label.sk-toggleable__label-arrow:before {content: \"▸\";float: left;margin-right: 0.25em;color: #696969;}#sk-container-id-1 label.sk-toggleable__label-arrow:hover:before {color: black;}#sk-container-id-1 div.sk-estimator:hover label.sk-toggleable__label-arrow:before {color: black;}#sk-container-id-1 div.sk-toggleable__content {max-height: 0;max-width: 0;overflow: hidden;text-align: left;background-color: #f0f8ff;}#sk-container-id-1 div.sk-toggleable__content pre {margin: 0.2em;color: black;border-radius: 0.25em;background-color: #f0f8ff;}#sk-container-id-1 input.sk-toggleable__control:checked~div.sk-toggleable__content {max-height: 200px;max-width: 100%;overflow: auto;}#sk-container-id-1 input.sk-toggleable__control:checked~label.sk-toggleable__label-arrow:before {content: \"▾\";}#sk-container-id-1 div.sk-estimator input.sk-toggleable__control:checked~label.sk-toggleable__label {background-color: #d4ebff;}#sk-container-id-1 div.sk-label input.sk-toggleable__control:checked~label.sk-toggleable__label {background-color: #d4ebff;}#sk-container-id-1 input.sk-hidden--visually {border: 0;clip: rect(1px 1px 1px 1px);clip: rect(1px, 1px, 1px, 1px);height: 1px;margin: -1px;overflow: hidden;padding: 0;position: absolute;width: 1px;}#sk-container-id-1 div.sk-estimator {font-family: monospace;background-color: #f0f8ff;border: 1px dotted black;border-radius: 0.25em;box-sizing: border-box;margin-bottom: 0.5em;}#sk-container-id-1 div.sk-estimator:hover {background-color: #d4ebff;}#sk-container-id-1 div.sk-parallel-item::after {content: \"\";width: 100%;border-bottom: 1px solid gray;flex-grow: 1;}#sk-container-id-1 div.sk-label:hover label.sk-toggleable__label {background-color: #d4ebff;}#sk-container-id-1 div.sk-serial::before {content: \"\";position: absolute;border-left: 1px solid gray;box-sizing: border-box;top: 0;bottom: 0;left: 50%;z-index: 0;}#sk-container-id-1 div.sk-serial {display: flex;flex-direction: column;align-items: center;background-color: white;padding-right: 0.2em;padding-left: 0.2em;position: relative;}#sk-container-id-1 div.sk-item {position: relative;z-index: 1;}#sk-container-id-1 div.sk-parallel {display: flex;align-items: stretch;justify-content: center;background-color: white;position: relative;}#sk-container-id-1 div.sk-item::before, #sk-container-id-1 div.sk-parallel-item::before {content: \"\";position: absolute;border-left: 1px solid gray;box-sizing: border-box;top: 0;bottom: 0;left: 50%;z-index: -1;}#sk-container-id-1 div.sk-parallel-item {display: flex;flex-direction: column;z-index: 1;position: relative;background-color: white;}#sk-container-id-1 div.sk-parallel-item:first-child::after {align-self: flex-end;width: 50%;}#sk-container-id-1 div.sk-parallel-item:last-child::after {align-self: flex-start;width: 50%;}#sk-container-id-1 div.sk-parallel-item:only-child::after {width: 0;}#sk-container-id-1 div.sk-dashed-wrapped {border: 1px dashed gray;margin: 0 0.4em 0.5em 0.4em;box-sizing: border-box;padding-bottom: 0.4em;background-color: white;}#sk-container-id-1 div.sk-label label {font-family: monospace;font-weight: bold;display: inline-block;line-height: 1.2em;}#sk-container-id-1 div.sk-label-container {text-align: center;}#sk-container-id-1 div.sk-container {/* jupyter's `normalize.less` sets `[hidden] { display: none; }` but bootstrap.min.css set `[hidden] { display: none !important; }` so we also need the `!important` here to be able to override the default hidden behavior on the sphinx rendered scikit-learn.org. See: https://github.com/scikit-learn/scikit-learn/issues/21755 */display: inline-block !important;position: relative;}#sk-container-id-1 div.sk-text-repr-fallback {display: none;}</style><div id=\"sk-container-id-1\" class=\"sk-top-container\"><div class=\"sk-text-repr-fallback\"><pre>Pipeline(steps=[(&#x27;drop_vars&#x27;,\n",
       "                 DropFeatures(features_to_drop=[&#x27;PassengerId&#x27;, &#x27;Name&#x27;, &#x27;Cabin&#x27;,\n",
       "                                                &#x27;Ticket&#x27;])),\n",
       "                (&#x27;vars_wf_na_median&#x27;, MeanMedianImputer(variables=[&#x27;Age&#x27;])),\n",
       "                (&#x27;vars_wf_na_most_freq&#x27;,\n",
       "                 CategoricalImputer(imputation_method=&#x27;frequent&#x27;)),\n",
       "                (&#x27;nan_flag&#x27;,\n",
       "                 AddMissingIndicator(variables=[&#x27;Age&#x27;, &#x27;Embarked&#x27;])),\n",
       "                (&#x27;vars_wf_rare_labels&#x27;,\n",
       "                 RareLabelEncoder(ignore_format=True, n_categories=5,\n",
       "                                  variables=[&#x27;Parch&#x27;, &#x27;SibSp&#x27;])),\n",
       "                (&#x27;ohe&#x27;,\n",
       "                 SklearnTransformerWrapper(transformer=OneHotEncoder(dtype=&lt;class &#x27;int&#x27;&gt;,\n",
       "                                                                     handle_unknown=&#x27;ignore&#x27;,\n",
       "                                                                     sparse=False),\n",
       "                                           variables=[&#x27;Pclass&#x27;, &#x27;Sex&#x27;,\n",
       "                                                      &#x27;Embarked&#x27;, &#x27;Parch&#x27;,\n",
       "                                                      &#x27;SibSp&#x27;])),\n",
       "                (&#x27;normalizer&#x27;,\n",
       "                 SklearnTransformerWrapper(transformer=MinMaxScaler(),\n",
       "                                           variables=[&#x27;Age&#x27;, &#x27;Fare&#x27;]))])</pre><b>In a Jupyter environment, please rerun this cell to show the HTML representation or trust the notebook. <br />On GitHub, the HTML representation is unable to render, please try loading this page with nbviewer.org.</b></div><div class=\"sk-container\" hidden><div class=\"sk-item sk-dashed-wrapped\"><div class=\"sk-label-container\"><div class=\"sk-label sk-toggleable\"><input class=\"sk-toggleable__control sk-hidden--visually\" id=\"sk-estimator-id-1\" type=\"checkbox\" ><label for=\"sk-estimator-id-1\" class=\"sk-toggleable__label sk-toggleable__label-arrow\">Pipeline</label><div class=\"sk-toggleable__content\"><pre>Pipeline(steps=[(&#x27;drop_vars&#x27;,\n",
       "                 DropFeatures(features_to_drop=[&#x27;PassengerId&#x27;, &#x27;Name&#x27;, &#x27;Cabin&#x27;,\n",
       "                                                &#x27;Ticket&#x27;])),\n",
       "                (&#x27;vars_wf_na_median&#x27;, MeanMedianImputer(variables=[&#x27;Age&#x27;])),\n",
       "                (&#x27;vars_wf_na_most_freq&#x27;,\n",
       "                 CategoricalImputer(imputation_method=&#x27;frequent&#x27;)),\n",
       "                (&#x27;nan_flag&#x27;,\n",
       "                 AddMissingIndicator(variables=[&#x27;Age&#x27;, &#x27;Embarked&#x27;])),\n",
       "                (&#x27;vars_wf_rare_labels&#x27;,\n",
       "                 RareLabelEncoder(ignore_format=True, n_categories=5,\n",
       "                                  variables=[&#x27;Parch&#x27;, &#x27;SibSp&#x27;])),\n",
       "                (&#x27;ohe&#x27;,\n",
       "                 SklearnTransformerWrapper(transformer=OneHotEncoder(dtype=&lt;class &#x27;int&#x27;&gt;,\n",
       "                                                                     handle_unknown=&#x27;ignore&#x27;,\n",
       "                                                                     sparse=False),\n",
       "                                           variables=[&#x27;Pclass&#x27;, &#x27;Sex&#x27;,\n",
       "                                                      &#x27;Embarked&#x27;, &#x27;Parch&#x27;,\n",
       "                                                      &#x27;SibSp&#x27;])),\n",
       "                (&#x27;normalizer&#x27;,\n",
       "                 SklearnTransformerWrapper(transformer=MinMaxScaler(),\n",
       "                                           variables=[&#x27;Age&#x27;, &#x27;Fare&#x27;]))])</pre></div></div></div><div class=\"sk-serial\"><div class=\"sk-item\"><div class=\"sk-estimator sk-toggleable\"><input class=\"sk-toggleable__control sk-hidden--visually\" id=\"sk-estimator-id-2\" type=\"checkbox\" ><label for=\"sk-estimator-id-2\" class=\"sk-toggleable__label sk-toggleable__label-arrow\">DropFeatures</label><div class=\"sk-toggleable__content\"><pre>DropFeatures(features_to_drop=[&#x27;PassengerId&#x27;, &#x27;Name&#x27;, &#x27;Cabin&#x27;, &#x27;Ticket&#x27;])</pre></div></div></div><div class=\"sk-item\"><div class=\"sk-estimator sk-toggleable\"><input class=\"sk-toggleable__control sk-hidden--visually\" id=\"sk-estimator-id-3\" type=\"checkbox\" ><label for=\"sk-estimator-id-3\" class=\"sk-toggleable__label sk-toggleable__label-arrow\">MeanMedianImputer</label><div class=\"sk-toggleable__content\"><pre>MeanMedianImputer(variables=[&#x27;Age&#x27;])</pre></div></div></div><div class=\"sk-item\"><div class=\"sk-estimator sk-toggleable\"><input class=\"sk-toggleable__control sk-hidden--visually\" id=\"sk-estimator-id-4\" type=\"checkbox\" ><label for=\"sk-estimator-id-4\" class=\"sk-toggleable__label sk-toggleable__label-arrow\">CategoricalImputer</label><div class=\"sk-toggleable__content\"><pre>CategoricalImputer(imputation_method=&#x27;frequent&#x27;)</pre></div></div></div><div class=\"sk-item\"><div class=\"sk-estimator sk-toggleable\"><input class=\"sk-toggleable__control sk-hidden--visually\" id=\"sk-estimator-id-5\" type=\"checkbox\" ><label for=\"sk-estimator-id-5\" class=\"sk-toggleable__label sk-toggleable__label-arrow\">AddMissingIndicator</label><div class=\"sk-toggleable__content\"><pre>AddMissingIndicator(variables=[&#x27;Age&#x27;, &#x27;Embarked&#x27;])</pre></div></div></div><div class=\"sk-item\"><div class=\"sk-estimator sk-toggleable\"><input class=\"sk-toggleable__control sk-hidden--visually\" id=\"sk-estimator-id-6\" type=\"checkbox\" ><label for=\"sk-estimator-id-6\" class=\"sk-toggleable__label sk-toggleable__label-arrow\">RareLabelEncoder</label><div class=\"sk-toggleable__content\"><pre>RareLabelEncoder(ignore_format=True, n_categories=5,\n",
       "                 variables=[&#x27;Parch&#x27;, &#x27;SibSp&#x27;])</pre></div></div></div><div class=\"sk-item sk-dashed-wrapped\"><div class=\"sk-label-container\"><div class=\"sk-label sk-toggleable\"><input class=\"sk-toggleable__control sk-hidden--visually\" id=\"sk-estimator-id-7\" type=\"checkbox\" ><label for=\"sk-estimator-id-7\" class=\"sk-toggleable__label sk-toggleable__label-arrow\">ohe: SklearnTransformerWrapper</label><div class=\"sk-toggleable__content\"><pre>SklearnTransformerWrapper(transformer=OneHotEncoder(dtype=&lt;class &#x27;int&#x27;&gt;,\n",
       "                                                    handle_unknown=&#x27;ignore&#x27;,\n",
       "                                                    sparse=False),\n",
       "                          variables=[&#x27;Pclass&#x27;, &#x27;Sex&#x27;, &#x27;Embarked&#x27;, &#x27;Parch&#x27;,\n",
       "                                     &#x27;SibSp&#x27;])</pre></div></div></div><div class=\"sk-parallel\"><div class=\"sk-parallel-item\"><div class=\"sk-item\"><div class=\"sk-label-container\"><div class=\"sk-label sk-toggleable\"><input class=\"sk-toggleable__control sk-hidden--visually\" id=\"sk-estimator-id-8\" type=\"checkbox\" ><label for=\"sk-estimator-id-8\" class=\"sk-toggleable__label sk-toggleable__label-arrow\">transformer: OneHotEncoder</label><div class=\"sk-toggleable__content\"><pre>OneHotEncoder(dtype=&lt;class &#x27;int&#x27;&gt;, handle_unknown=&#x27;ignore&#x27;, sparse=False)</pre></div></div></div><div class=\"sk-serial\"><div class=\"sk-item\"><div class=\"sk-estimator sk-toggleable\"><input class=\"sk-toggleable__control sk-hidden--visually\" id=\"sk-estimator-id-9\" type=\"checkbox\" ><label for=\"sk-estimator-id-9\" class=\"sk-toggleable__label sk-toggleable__label-arrow\">OneHotEncoder</label><div class=\"sk-toggleable__content\"><pre>OneHotEncoder(dtype=&lt;class &#x27;int&#x27;&gt;, handle_unknown=&#x27;ignore&#x27;, sparse=False)</pre></div></div></div></div></div></div></div></div><div class=\"sk-item sk-dashed-wrapped\"><div class=\"sk-label-container\"><div class=\"sk-label sk-toggleable\"><input class=\"sk-toggleable__control sk-hidden--visually\" id=\"sk-estimator-id-10\" type=\"checkbox\" ><label for=\"sk-estimator-id-10\" class=\"sk-toggleable__label sk-toggleable__label-arrow\">normalizer: SklearnTransformerWrapper</label><div class=\"sk-toggleable__content\"><pre>SklearnTransformerWrapper(transformer=MinMaxScaler(), variables=[&#x27;Age&#x27;, &#x27;Fare&#x27;])</pre></div></div></div><div class=\"sk-parallel\"><div class=\"sk-parallel-item\"><div class=\"sk-item\"><div class=\"sk-label-container\"><div class=\"sk-label sk-toggleable\"><input class=\"sk-toggleable__control sk-hidden--visually\" id=\"sk-estimator-id-11\" type=\"checkbox\" ><label for=\"sk-estimator-id-11\" class=\"sk-toggleable__label sk-toggleable__label-arrow\">transformer: MinMaxScaler</label><div class=\"sk-toggleable__content\"><pre>MinMaxScaler()</pre></div></div></div><div class=\"sk-serial\"><div class=\"sk-item\"><div class=\"sk-estimator sk-toggleable\"><input class=\"sk-toggleable__control sk-hidden--visually\" id=\"sk-estimator-id-12\" type=\"checkbox\" ><label for=\"sk-estimator-id-12\" class=\"sk-toggleable__label sk-toggleable__label-arrow\">MinMaxScaler</label><div class=\"sk-toggleable__content\"><pre>MinMaxScaler()</pre></div></div></div></div></div></div></div></div></div></div></div></div>"
      ],
      "text/plain": [
       "Pipeline(steps=[('drop_vars',\n",
       "                 DropFeatures(features_to_drop=['PassengerId', 'Name', 'Cabin',\n",
       "                                                'Ticket'])),\n",
       "                ('vars_wf_na_median', MeanMedianImputer(variables=['Age'])),\n",
       "                ('vars_wf_na_most_freq',\n",
       "                 CategoricalImputer(imputation_method='frequent')),\n",
       "                ('nan_flag',\n",
       "                 AddMissingIndicator(variables=['Age', 'Embarked'])),\n",
       "                ('vars_wf_rare_labels',\n",
       "                 RareLabelEncoder(ignore_format=True, n_categories=5,\n",
       "                                  variables=['Parch', 'SibSp'])),\n",
       "                ('ohe',\n",
       "                 SklearnTransformerWrapper(transformer=OneHotEncoder(dtype=<class 'int'>,\n",
       "                                                                     handle_unknown='ignore',\n",
       "                                                                     sparse=False),\n",
       "                                           variables=['Pclass', 'Sex',\n",
       "                                                      'Embarked', 'Parch',\n",
       "                                                      'SibSp'])),\n",
       "                ('normalizer',\n",
       "                 SklearnTransformerWrapper(transformer=MinMaxScaler(),\n",
       "                                           variables=['Age', 'Fare']))])"
      ]
     },
     "execution_count": 5,
     "metadata": {},
     "output_type": "execute_result"
    }
   ],
   "source": [
    "processor_pipe = Pipeline(\n",
    "    steps=[\n",
    "        # === Drop variables ===\n",
    "        (\"drop_vars\", DropFeatures(features_to_drop=vars_to_drop)),\n",
    "        # === Replace NaNs with median ===\n",
    "        (\n",
    "            \"vars_wf_na_median\",\n",
    "            MeanMedianImputer(imputation_method=\"median\", variables=vars_wf_na_median),\n",
    "        ),\n",
    "        # === Replace NaNs with most frequent ===\n",
    "        (\"vars_wf_na_most_freq\", CategoricalImputer(imputation_method=\"frequent\")),\n",
    "        # === Add flags for variables with NaNs ===\n",
    "        (\n",
    "            \"nan_flag\",\n",
    "            AddMissingIndicator(variables=vars_wf_na_median + vars_wf_na_most_freq),\n",
    "        ),\n",
    "        # === Remove rare labels ===\n",
    "        (\n",
    "            \"vars_wf_rare_labels\",\n",
    "            RareLabelEncoder(\n",
    "                tol=RARE_LABEL_THRESH,\n",
    "                n_categories=5,\n",
    "                variables=vars_wf_rare_labels,\n",
    "                ignore_format=True,\n",
    "            ),\n",
    "        ),\n",
    "        # === Column Transformer ===\n",
    "        (\n",
    "            \"ohe\",\n",
    "            SklearnTransformerWrapper(\n",
    "                transformer=OneHotEncoder(\n",
    "                    dtype=int, handle_unknown=\"ignore\", sparse=False\n",
    "                ),\n",
    "                variables=vars_to_ohe,\n",
    "            ),\n",
    "        ),\n",
    "        (\n",
    "            \"normalizer\",\n",
    "            SklearnTransformerWrapper(\n",
    "                transformer=MinMaxScaler(), variables=vars_to_transform\n",
    "            ),\n",
    "        ),\n",
    "    ]\n",
    ")\n",
    "\n",
    "processor_pipe"
   ]
  },
  {
   "cell_type": "code",
   "execution_count": 6,
   "metadata": {},
   "outputs": [
    {
     "name": "stdout",
     "output_type": "stream",
     "text": [
      "Shape of X_train: (712, 17), \n",
      "Shape of X_validation: (179, 17)\n",
      "Duration: 0.003 seconds\n"
     ]
    },
    {
     "data": {
      "text/plain": [
       "((712, 17), (179, 17))"
      ]
     },
     "execution_count": 6,
     "metadata": {},
     "output_type": "execute_result"
    }
   ],
   "source": [
    "df = processor_pipe.fit_transform(data)\n",
    "\n",
    "# Split data\n",
    "X_train, X_validation, y_train, y_validation = split_data(\n",
    "    data=df, target=\"Survived\", display_shapes=True\n",
    ")\n",
    "\n",
    "X_train.shape, X_validation.shape"
   ]
  },
  {
   "cell_type": "code",
   "execution_count": 7,
   "metadata": {},
   "outputs": [
    {
     "data": {
      "text/html": [
       "<div>\n",
       "<style scoped>\n",
       "    .dataframe tbody tr th:only-of-type {\n",
       "        vertical-align: middle;\n",
       "    }\n",
       "\n",
       "    .dataframe tbody tr th {\n",
       "        vertical-align: top;\n",
       "    }\n",
       "\n",
       "    .dataframe thead th {\n",
       "        text-align: right;\n",
       "    }\n",
       "</style>\n",
       "<table border=\"1\" class=\"dataframe\">\n",
       "  <thead>\n",
       "    <tr style=\"text-align: right;\">\n",
       "      <th></th>\n",
       "      <th>Age</th>\n",
       "      <th>Fare</th>\n",
       "      <th>Pclass_1</th>\n",
       "      <th>Pclass_2</th>\n",
       "      <th>Pclass_3</th>\n",
       "      <th>Sex_female</th>\n",
       "      <th>Sex_male</th>\n",
       "      <th>Embarked_C</th>\n",
       "      <th>Embarked_Q</th>\n",
       "      <th>Embarked_S</th>\n",
       "      <th>Parch_0</th>\n",
       "      <th>Parch_1</th>\n",
       "      <th>Parch_2</th>\n",
       "      <th>Parch_Rare</th>\n",
       "      <th>SibSp_0</th>\n",
       "      <th>SibSp_1</th>\n",
       "      <th>SibSp_Rare</th>\n",
       "    </tr>\n",
       "  </thead>\n",
       "  <tbody>\n",
       "    <tr>\n",
       "      <th>329</th>\n",
       "      <td>0.195778</td>\n",
       "      <td>0.113168</td>\n",
       "      <td>1</td>\n",
       "      <td>0</td>\n",
       "      <td>0</td>\n",
       "      <td>1</td>\n",
       "      <td>0</td>\n",
       "      <td>1</td>\n",
       "      <td>0</td>\n",
       "      <td>0</td>\n",
       "      <td>0</td>\n",
       "      <td>1</td>\n",
       "      <td>0</td>\n",
       "      <td>0</td>\n",
       "      <td>1</td>\n",
       "      <td>0</td>\n",
       "      <td>0</td>\n",
       "    </tr>\n",
       "    <tr>\n",
       "      <th>749</th>\n",
       "      <td>0.384267</td>\n",
       "      <td>0.015127</td>\n",
       "      <td>0</td>\n",
       "      <td>0</td>\n",
       "      <td>1</td>\n",
       "      <td>0</td>\n",
       "      <td>1</td>\n",
       "      <td>0</td>\n",
       "      <td>1</td>\n",
       "      <td>0</td>\n",
       "      <td>1</td>\n",
       "      <td>0</td>\n",
       "      <td>0</td>\n",
       "      <td>0</td>\n",
       "      <td>1</td>\n",
       "      <td>0</td>\n",
       "      <td>0</td>\n",
       "    </tr>\n",
       "    <tr>\n",
       "      <th>203</th>\n",
       "      <td>0.566474</td>\n",
       "      <td>0.014102</td>\n",
       "      <td>0</td>\n",
       "      <td>0</td>\n",
       "      <td>1</td>\n",
       "      <td>0</td>\n",
       "      <td>1</td>\n",
       "      <td>1</td>\n",
       "      <td>0</td>\n",
       "      <td>0</td>\n",
       "      <td>1</td>\n",
       "      <td>0</td>\n",
       "      <td>0</td>\n",
       "      <td>0</td>\n",
       "      <td>1</td>\n",
       "      <td>0</td>\n",
       "      <td>0</td>\n",
       "    </tr>\n",
       "  </tbody>\n",
       "</table>\n",
       "</div>"
      ],
      "text/plain": [
       "          Age      Fare  Pclass_1  Pclass_2  Pclass_3  Sex_female  Sex_male  \\\n",
       "329  0.195778  0.113168         1         0         0           1         0   \n",
       "749  0.384267  0.015127         0         0         1           0         1   \n",
       "203  0.566474  0.014102         0         0         1           0         1   \n",
       "\n",
       "     Embarked_C  Embarked_Q  Embarked_S  Parch_0  Parch_1  Parch_2  \\\n",
       "329           1           0           0        0        1        0   \n",
       "749           0           1           0        1        0        0   \n",
       "203           1           0           0        1        0        0   \n",
       "\n",
       "     Parch_Rare  SibSp_0  SibSp_1  SibSp_Rare  \n",
       "329           0        1        0           0  \n",
       "749           0        1        0           0  \n",
       "203           0        1        0           0  "
      ]
     },
     "execution_count": 7,
     "metadata": {},
     "output_type": "execute_result"
    }
   ],
   "source": [
    "X_train.head(3)"
   ]
  },
  {
   "cell_type": "code",
   "execution_count": 8,
   "metadata": {},
   "outputs": [
    {
     "data": {
      "text/plain": [
       "0    0.610955\n",
       "1    0.389045\n",
       "Name: Survived, dtype: float64"
      ]
     },
     "execution_count": 8,
     "metadata": {},
     "output_type": "execute_result"
    }
   ],
   "source": [
    "y_train.value_counts(normalize=True)"
   ]
  },
  {
   "cell_type": "markdown",
   "metadata": {},
   "source": [
    "### K-Fold Cross-Validation"
   ]
  },
  {
   "cell_type": "code",
   "execution_count": 9,
   "metadata": {},
   "outputs": [],
   "source": [
    "from sklearn.model_selection import (\n",
    "    KFold,\n",
    "    RepeatedKFold,\n",
    "    LeaveOneOut,\n",
    "    StratifiedKFold,\n",
    "    cross_validate,\n",
    ")"
   ]
  },
  {
   "cell_type": "code",
   "execution_count": 10,
   "metadata": {},
   "outputs": [],
   "source": [
    "# Logistic Regression\n",
    "log_model = LogisticRegression(\n",
    "    penalty=\"l2\", C=10, solver=\"liblinear\", random_state=RANDOM_STATE, max_iter=MAX_ITER\n",
    ")\n",
    "\n",
    "# K-Fold Cross-Validation\n",
    "k_fold = KFold(n_splits=5, shuffle=True, random_state=RANDOM_STATE)\n",
    "\n",
    "# Estimate generalization error\n",
    "clf = cross_validate(\n",
    "    estimator=log_model,\n",
    "    X=X_train,\n",
    "    y=y_train,\n",
    "    scoring=\"accuracy\",\n",
    "    return_train_score=True,\n",
    "    cv=k_fold,\n",
    ")"
   ]
  },
  {
   "cell_type": "code",
   "execution_count": 11,
   "metadata": {},
   "outputs": [
    {
     "data": {
      "text/plain": [
       "{'fit_time': array([0.00475788, 0.00409603, 0.00367308, 0.00414395, 0.00378394]),\n",
       " 'score_time': array([0.00229287, 0.0020051 , 0.00199699, 0.00195813, 0.00194097]),\n",
       " 'test_score': array([0.83916084, 0.8041958 , 0.81690141, 0.78873239, 0.76760563]),\n",
       " 'train_score': array([0.79086116, 0.80492091, 0.80175439, 0.8122807 , 0.8122807 ])}"
      ]
     },
     "execution_count": 11,
     "metadata": {},
     "output_type": "execute_result"
    }
   ],
   "source": [
    "clf"
   ]
  },
  {
   "cell_type": "code",
   "execution_count": 12,
   "metadata": {},
   "outputs": [
    {
     "data": {
      "text/plain": [
       "array([0.83916084, 0.8041958 , 0.81690141, 0.78873239, 0.76760563])"
      ]
     },
     "execution_count": 12,
     "metadata": {},
     "output_type": "execute_result"
    }
   ],
   "source": [
    "clf.get(\"test_score\")"
   ]
  },
  {
   "cell_type": "code",
   "execution_count": 13,
   "metadata": {},
   "outputs": [
    {
     "name": "stdout",
     "output_type": "stream",
     "text": [
      "mean train set accuracy: 0.8044195726574784 +- 0.007934479443352188\n",
      "\n",
      "mean train set accuracy: 0.8033192159952722 +- 0.02432324660964456\n",
      "\n"
     ]
    }
   ],
   "source": [
    "print(\n",
    "    f'mean train set accuracy: {np.mean(clf.get(\"train_score\"))} +- {np.std(clf.get(\"train_score\"))}\\n'\n",
    ")\n",
    "\n",
    "print(\n",
    "    f'mean train set accuracy: {np.mean(clf.get(\"test_score\"))} +- {np.std(clf.get(\"test_score\"))}\\n'\n",
    ")"
   ]
  },
  {
   "attachments": {},
   "cell_type": "markdown",
   "metadata": {},
   "source": [
    "### Repeated K-Fold Cross-Validation"
   ]
  },
  {
   "cell_type": "code",
   "execution_count": 14,
   "metadata": {},
   "outputs": [],
   "source": [
    "# Logistic Regression\n",
    "log_model = LogisticRegression(\n",
    "    penalty=\"l2\", C=10, solver=\"liblinear\", random_state=RANDOM_STATE, max_iter=MAX_ITER\n",
    ")\n",
    "\n",
    "# Repeated K-Fold Cross-Validation\n",
    "r_k_fold = RepeatedKFold(\n",
    "    n_splits=5,\n",
    "    n_repeats=10,\n",
    "    random_state=RANDOM_STATE,\n",
    ")\n",
    "\n",
    "# Estimate generalization error\n",
    "clf = cross_validate(\n",
    "    estimator=log_model,\n",
    "    X=X_train,\n",
    "    y=y_train,\n",
    "    scoring=\"accuracy\",\n",
    "    return_train_score=True,\n",
    "    cv=r_k_fold,\n",
    ")"
   ]
  },
  {
   "cell_type": "code",
   "execution_count": 15,
   "metadata": {},
   "outputs": [
    {
     "name": "stdout",
     "output_type": "stream",
     "text": [
      "mean train set accuracy: 0.8071610396818055 +- 0.008061144488868391\n",
      "\n",
      "mean train set accuracy: 0.7960415640697331 +- 0.02833111303920891\n",
      "\n"
     ]
    }
   ],
   "source": [
    "print(\n",
    "    f'mean train set accuracy: {np.mean(clf.get(\"train_score\"))} +- {np.std(clf.get(\"train_score\"))}\\n'\n",
    ")\n",
    "\n",
    "print(\n",
    "    f'mean train set accuracy: {np.mean(clf.get(\"test_score\"))} +- {np.std(clf.get(\"test_score\"))}\\n'\n",
    ")"
   ]
  },
  {
   "attachments": {},
   "cell_type": "markdown",
   "metadata": {},
   "source": [
    "### Leave One Out Cross-Validation\n",
    "\n",
    "* This is computationally expensive if you have too many data points."
   ]
  },
  {
   "cell_type": "code",
   "execution_count": 16,
   "metadata": {},
   "outputs": [
    {
     "name": "stdout",
     "output_type": "stream",
     "text": [
      "Number of metrics obtained: 712\n"
     ]
    }
   ],
   "source": [
    "# Logistic Regression\n",
    "log_model = LogisticRegression(\n",
    "    penalty=\"l2\", C=10, solver=\"liblinear\", random_state=RANDOM_STATE, max_iter=MAX_ITER\n",
    ")\n",
    "\n",
    "# Leave One Out Cross-Validation\n",
    "l_one_out = LeaveOneOut()\n",
    "\n",
    "# Estimate generalization error\n",
    "clf = cross_validate(\n",
    "    estimator=log_model,\n",
    "    X=X_train,\n",
    "    y=y_train,\n",
    "    scoring=\"accuracy\",\n",
    "    return_train_score=True,\n",
    "    cv=l_one_out,\n",
    ")\n",
    "\n",
    "print(f'Number of metrics obtained: { len(clf.get(\"test_score\"))}')"
   ]
  },
  {
   "cell_type": "code",
   "execution_count": 17,
   "metadata": {},
   "outputs": [
    {
     "name": "stdout",
     "output_type": "stream",
     "text": [
      "mean train set accuracy: 0.8060434741383398 +- 0.000527921621945519\n",
      "\n",
      "mean train set accuracy: 0.800561797752809 +- 0.3995780345959967\n",
      "\n"
     ]
    }
   ],
   "source": [
    "print(\n",
    "    f'mean train set accuracy: {np.mean(clf.get(\"train_score\"))} +- {np.std(clf.get(\"train_score\"))}\\n'\n",
    ")\n",
    "\n",
    "print(\n",
    "    f'mean train set accuracy: {np.mean(clf.get(\"test_score\"))} +- {np.std(clf.get(\"test_score\"))}\\n'\n",
    ")"
   ]
  },
  {
   "attachments": {},
   "cell_type": "markdown",
   "metadata": {},
   "source": [
    "### Stratified Cross-Validation"
   ]
  },
  {
   "cell_type": "code",
   "execution_count": 18,
   "metadata": {},
   "outputs": [
    {
     "name": "stdout",
     "output_type": "stream",
     "text": [
      "Number of metrics obtained: 5\n"
     ]
    }
   ],
   "source": [
    "# Logistic Regression\n",
    "log_model = LogisticRegression(\n",
    "    penalty=\"l2\", C=10, solver=\"liblinear\", random_state=RANDOM_STATE, max_iter=MAX_ITER\n",
    ")\n",
    "\n",
    "# Stratified Cross-Validation\n",
    "s_k_fold = StratifiedKFold(n_splits=5, shuffle=True, random_state=RANDOM_STATE)\n",
    "\n",
    "# Estimate generalization error\n",
    "clf = cross_validate(\n",
    "    estimator=log_model,\n",
    "    X=X_train,\n",
    "    y=y_train,\n",
    "    scoring=\"accuracy\",\n",
    "    return_train_score=True,\n",
    "    cv=s_k_fold,\n",
    ")\n",
    "\n",
    "print(f'Number of metrics obtained: { len(clf.get(\"test_score\"))}')"
   ]
  },
  {
   "cell_type": "code",
   "execution_count": 19,
   "metadata": {},
   "outputs": [
    {
     "name": "stdout",
     "output_type": "stream",
     "text": [
      "mean train set accuracy: 0.8016113218018684 +- 0.009031367214529755\n",
      "\n",
      "mean train set accuracy: 0.7976854131783708 +- 0.030374536764273326\n",
      "\n"
     ]
    }
   ],
   "source": [
    "print(\n",
    "    f'mean train set accuracy: {np.mean(clf.get(\"train_score\"))} +- {np.std(clf.get(\"train_score\"))}\\n'\n",
    ")\n",
    "\n",
    "print(\n",
    "    f'mean train set accuracy: {np.mean(clf.get(\"test_score\"))} +- {np.std(clf.get(\"test_score\"))}\\n'\n",
    ")"
   ]
  },
  {
   "attachments": {},
   "cell_type": "markdown",
   "metadata": {},
   "source": [
    "<hr><br>\n",
    "\n",
    "## Cross-Validation With Grid Search\n",
    "* Cross validation to optimize hyperparameters."
   ]
  },
  {
   "cell_type": "code",
   "execution_count": 20,
   "metadata": {},
   "outputs": [],
   "source": [
    "from sklearn.model_selection import GridSearchCV"
   ]
  },
  {
   "cell_type": "markdown",
   "metadata": {},
   "source": [
    "### K-Fold"
   ]
  },
  {
   "cell_type": "code",
   "execution_count": 21,
   "metadata": {},
   "outputs": [
    {
     "data": {
      "text/plain": [
       "{'C': 10, 'penalty': 'l2'}"
      ]
     },
     "execution_count": 21,
     "metadata": {},
     "output_type": "execute_result"
    }
   ],
   "source": [
    "# Logistic Regression\n",
    "log_model = LogisticRegression(random_state=RANDOM_STATE, max_iter=MAX_ITER)\n",
    "\n",
    "# hyperparameter space\n",
    "param_grid = dict(\n",
    "    penalty=[\"l1\", \"l2\"],\n",
    "    C=[0.01, 0.1, 1, 10],\n",
    ")\n",
    "\n",
    "# K-Fold Cross-Validation\n",
    "k_fold = KFold(n_splits=5, shuffle=True, random_state=RANDOM_STATE)\n",
    "\n",
    "# Search\n",
    "clf = GridSearchCV(\n",
    "    log_model,\n",
    "    param_grid,\n",
    "    scoring=\"accuracy\",\n",
    "    cv=k_fold,\n",
    "    refit=True,  # refits best model to entire dataset\n",
    ")\n",
    "\n",
    "search_grid = clf.fit(X_train, y_train)\n",
    "\n",
    "# Best hyperparameters\n",
    "search_grid.best_params_"
   ]
  },
  {
   "cell_type": "code",
   "execution_count": 22,
   "metadata": {},
   "outputs": [
    {
     "data": {
      "image/png": "[encoded data removed]",
      "text/plain": [
       "<Figure size 640x480 with 1 Axes>"
      ]
     },
     "metadata": {},
     "output_type": "display_data"
    },
    {
     "data": {
      "text/html": [
       "<div>\n",
       "<style scoped>\n",
       "    .dataframe tbody tr th:only-of-type {\n",
       "        vertical-align: middle;\n",
       "    }\n",
       "\n",
       "    .dataframe tbody tr th {\n",
       "        vertical-align: top;\n",
       "    }\n",
       "\n",
       "    .dataframe thead th {\n",
       "        text-align: right;\n",
       "    }\n",
       "</style>\n",
       "<table border=\"1\" class=\"dataframe\">\n",
       "  <thead>\n",
       "    <tr style=\"text-align: right;\">\n",
       "      <th></th>\n",
       "      <th>params</th>\n",
       "      <th>mean_test_score</th>\n",
       "      <th>std_test_score</th>\n",
       "    </tr>\n",
       "  </thead>\n",
       "  <tbody>\n",
       "    <tr>\n",
       "      <th>0</th>\n",
       "      <td>{'C': 10, 'penalty': 'l2'}</td>\n",
       "      <td>0.801921</td>\n",
       "      <td>0.022343</td>\n",
       "    </tr>\n",
       "    <tr>\n",
       "      <th>1</th>\n",
       "      <td>{'C': 1, 'penalty': 'l2'}</td>\n",
       "      <td>0.797705</td>\n",
       "      <td>0.032803</td>\n",
       "    </tr>\n",
       "    <tr>\n",
       "      <th>2</th>\n",
       "      <td>{'C': 0.1, 'penalty': 'l2'}</td>\n",
       "      <td>0.785068</td>\n",
       "      <td>0.024162</td>\n",
       "    </tr>\n",
       "    <tr>\n",
       "      <th>3</th>\n",
       "      <td>{'C': 0.01, 'penalty': 'l2'}</td>\n",
       "      <td>0.780853</td>\n",
       "      <td>0.025314</td>\n",
       "    </tr>\n",
       "    <tr>\n",
       "      <th>4</th>\n",
       "      <td>{'C': 0.01, 'penalty': 'l1'}</td>\n",
       "      <td>NaN</td>\n",
       "      <td>NaN</td>\n",
       "    </tr>\n",
       "    <tr>\n",
       "      <th>5</th>\n",
       "      <td>{'C': 0.1, 'penalty': 'l1'}</td>\n",
       "      <td>NaN</td>\n",
       "      <td>NaN</td>\n",
       "    </tr>\n",
       "    <tr>\n",
       "      <th>6</th>\n",
       "      <td>{'C': 1, 'penalty': 'l1'}</td>\n",
       "      <td>NaN</td>\n",
       "      <td>NaN</td>\n",
       "    </tr>\n",
       "    <tr>\n",
       "      <th>7</th>\n",
       "      <td>{'C': 10, 'penalty': 'l1'}</td>\n",
       "      <td>NaN</td>\n",
       "      <td>NaN</td>\n",
       "    </tr>\n",
       "  </tbody>\n",
       "</table>\n",
       "</div>"
      ],
      "text/plain": [
       "                         params  mean_test_score  std_test_score\n",
       "0    {'C': 10, 'penalty': 'l2'}         0.801921        0.022343\n",
       "1     {'C': 1, 'penalty': 'l2'}         0.797705        0.032803\n",
       "2   {'C': 0.1, 'penalty': 'l2'}         0.785068        0.024162\n",
       "3  {'C': 0.01, 'penalty': 'l2'}         0.780853        0.025314\n",
       "4  {'C': 0.01, 'penalty': 'l1'}              NaN             NaN\n",
       "5   {'C': 0.1, 'penalty': 'l1'}              NaN             NaN\n",
       "6     {'C': 1, 'penalty': 'l1'}              NaN             NaN\n",
       "7    {'C': 10, 'penalty': 'l1'}              NaN             NaN"
      ]
     },
     "execution_count": 22,
     "metadata": {},
     "output_type": "execute_result"
    }
   ],
   "source": [
    "results = hyperparam_space(\n",
    "    search_grid=search_grid, ylabel=\"Mean Accuracy\", ylim=(0.74, 0.84)\n",
    ")\n",
    "\n",
    "results"
   ]
  },
  {
   "cell_type": "markdown",
   "metadata": {},
   "source": [
    "<hr>\n",
    "\n",
    "### Repeated K-Fold"
   ]
  },
  {
   "cell_type": "code",
   "execution_count": 23,
   "metadata": {},
   "outputs": [
    {
     "data": {
      "text/plain": [
       "{'C': 10, 'penalty': 'l2'}"
      ]
     },
     "execution_count": 23,
     "metadata": {},
     "output_type": "execute_result"
    }
   ],
   "source": [
    "# Logistic Regression\n",
    "log_model = LogisticRegression(random_state=RANDOM_STATE, max_iter=MAX_ITER)\n",
    "\n",
    "# hyperparameter space\n",
    "param_grid = dict(\n",
    "    penalty=[\"l1\", \"l2\"],\n",
    "    C=[0.01, 0.1, 1, 10],\n",
    ")\n",
    "\n",
    "# Repeated K-Fold Cross-Validation\n",
    "r_k_fold = RepeatedKFold(\n",
    "    n_splits=5,\n",
    "    n_repeats=10,\n",
    "    random_state=RANDOM_STATE,\n",
    ")\n",
    "\n",
    "# Search\n",
    "clf = GridSearchCV(\n",
    "    log_model,\n",
    "    param_grid,\n",
    "    scoring=\"accuracy\",\n",
    "    cv=r_k_fold,\n",
    "    refit=True,  # refits best model to entire dataset\n",
    ")\n",
    "\n",
    "search_grid = clf.fit(X_train, y_train)\n",
    "\n",
    "# Best hyperparameters\n",
    "search_grid.best_params_"
   ]
  },
  {
   "cell_type": "code",
   "execution_count": 24,
   "metadata": {},
   "outputs": [
    {
     "data": {
      "image/png": "[encoded data removed]",
      "text/plain": [
       "<Figure size 640x480 with 1 Axes>"
      ]
     },
     "metadata": {},
     "output_type": "display_data"
    },
    {
     "data": {
      "text/html": [
       "<div>\n",
       "<style scoped>\n",
       "    .dataframe tbody tr th:only-of-type {\n",
       "        vertical-align: middle;\n",
       "    }\n",
       "\n",
       "    .dataframe tbody tr th {\n",
       "        vertical-align: top;\n",
       "    }\n",
       "\n",
       "    .dataframe thead th {\n",
       "        text-align: right;\n",
       "    }\n",
       "</style>\n",
       "<table border=\"1\" class=\"dataframe\">\n",
       "  <thead>\n",
       "    <tr style=\"text-align: right;\">\n",
       "      <th></th>\n",
       "      <th>params</th>\n",
       "      <th>mean_test_score</th>\n",
       "      <th>std_test_score</th>\n",
       "    </tr>\n",
       "  </thead>\n",
       "  <tbody>\n",
       "    <tr>\n",
       "      <th>0</th>\n",
       "      <td>{'C': 10, 'penalty': 'l2'}</td>\n",
       "      <td>0.795902</td>\n",
       "      <td>0.028240</td>\n",
       "    </tr>\n",
       "    <tr>\n",
       "      <th>1</th>\n",
       "      <td>{'C': 1, 'penalty': 'l2'}</td>\n",
       "      <td>0.791127</td>\n",
       "      <td>0.029728</td>\n",
       "    </tr>\n",
       "    <tr>\n",
       "      <th>2</th>\n",
       "      <td>{'C': 0.1, 'penalty': 'l2'}</td>\n",
       "      <td>0.785793</td>\n",
       "      <td>0.029134</td>\n",
       "    </tr>\n",
       "    <tr>\n",
       "      <th>3</th>\n",
       "      <td>{'C': 0.01, 'penalty': 'l2'}</td>\n",
       "      <td>0.780187</td>\n",
       "      <td>0.034352</td>\n",
       "    </tr>\n",
       "    <tr>\n",
       "      <th>4</th>\n",
       "      <td>{'C': 0.01, 'penalty': 'l1'}</td>\n",
       "      <td>NaN</td>\n",
       "      <td>NaN</td>\n",
       "    </tr>\n",
       "    <tr>\n",
       "      <th>5</th>\n",
       "      <td>{'C': 0.1, 'penalty': 'l1'}</td>\n",
       "      <td>NaN</td>\n",
       "      <td>NaN</td>\n",
       "    </tr>\n",
       "    <tr>\n",
       "      <th>6</th>\n",
       "      <td>{'C': 1, 'penalty': 'l1'}</td>\n",
       "      <td>NaN</td>\n",
       "      <td>NaN</td>\n",
       "    </tr>\n",
       "    <tr>\n",
       "      <th>7</th>\n",
       "      <td>{'C': 10, 'penalty': 'l1'}</td>\n",
       "      <td>NaN</td>\n",
       "      <td>NaN</td>\n",
       "    </tr>\n",
       "  </tbody>\n",
       "</table>\n",
       "</div>"
      ],
      "text/plain": [
       "                         params  mean_test_score  std_test_score\n",
       "0    {'C': 10, 'penalty': 'l2'}         0.795902        0.028240\n",
       "1     {'C': 1, 'penalty': 'l2'}         0.791127        0.029728\n",
       "2   {'C': 0.1, 'penalty': 'l2'}         0.785793        0.029134\n",
       "3  {'C': 0.01, 'penalty': 'l2'}         0.780187        0.034352\n",
       "4  {'C': 0.01, 'penalty': 'l1'}              NaN             NaN\n",
       "5   {'C': 0.1, 'penalty': 'l1'}              NaN             NaN\n",
       "6     {'C': 1, 'penalty': 'l1'}              NaN             NaN\n",
       "7    {'C': 10, 'penalty': 'l1'}              NaN             NaN"
      ]
     },
     "execution_count": 24,
     "metadata": {},
     "output_type": "execute_result"
    }
   ],
   "source": [
    "results = hyperparam_space(\n",
    "    search_grid=search_grid, ylabel=\"Mean Accuracy\", ylim=(0.72, 0.85)\n",
    ")\n",
    "\n",
    "results"
   ]
  },
  {
   "attachments": {},
   "cell_type": "markdown",
   "metadata": {},
   "source": [
    "<hr>\n",
    "\n",
    "### Stratified K-Fold\n",
    "\n",
    "* Since the class labels are imbalanced, I'll build an ML model with this method."
   ]
  },
  {
   "cell_type": "code",
   "execution_count": 25,
   "metadata": {},
   "outputs": [
    {
     "data": {
      "text/plain": [
       "{'C': 10, 'penalty': 'l2'}"
      ]
     },
     "execution_count": 25,
     "metadata": {},
     "output_type": "execute_result"
    }
   ],
   "source": [
    "# Logistic Regression\n",
    "log_model = LogisticRegression(random_state=RANDOM_STATE, max_iter=MAX_ITER)\n",
    "\n",
    "# hyperparameter space\n",
    "param_grid = dict(\n",
    "    penalty=[\"l1\", \"l2\"],\n",
    "    C=[0.01, 0.1, 1, 10],\n",
    ")\n",
    "\n",
    "# Stratified Cross-Validation\n",
    "s_k_fold = StratifiedKFold(n_splits=5, shuffle=True, random_state=RANDOM_STATE)\n",
    "\n",
    "# Search\n",
    "clf = GridSearchCV(\n",
    "    log_model,\n",
    "    param_grid,\n",
    "    scoring=\"accuracy\",\n",
    "    cv=s_k_fold,\n",
    "    refit=True,  # refits best model to entire dataset\n",
    ")\n",
    "\n",
    "clf_grid = clf.fit(X_train, y_train)\n",
    "\n",
    "# Best hyperparameters\n",
    "clf_grid.best_params_"
   ]
  },
  {
   "cell_type": "code",
   "execution_count": 26,
   "metadata": {},
   "outputs": [
    {
     "data": {
      "image/png": "[encoded data removed]",
      "text/plain": [
       "<Figure size 640x480 with 1 Axes>"
      ]
     },
     "metadata": {},
     "output_type": "display_data"
    },
    {
     "data": {
      "text/html": [
       "<div>\n",
       "<style scoped>\n",
       "    .dataframe tbody tr th:only-of-type {\n",
       "        vertical-align: middle;\n",
       "    }\n",
       "\n",
       "    .dataframe tbody tr th {\n",
       "        vertical-align: top;\n",
       "    }\n",
       "\n",
       "    .dataframe thead th {\n",
       "        text-align: right;\n",
       "    }\n",
       "</style>\n",
       "<table border=\"1\" class=\"dataframe\">\n",
       "  <thead>\n",
       "    <tr style=\"text-align: right;\">\n",
       "      <th></th>\n",
       "      <th>params</th>\n",
       "      <th>mean_test_score</th>\n",
       "      <th>std_test_score</th>\n",
       "    </tr>\n",
       "  </thead>\n",
       "  <tbody>\n",
       "    <tr>\n",
       "      <th>0</th>\n",
       "      <td>{'C': 10, 'penalty': 'l2'}</td>\n",
       "      <td>0.797685</td>\n",
       "      <td>0.030375</td>\n",
       "    </tr>\n",
       "    <tr>\n",
       "      <th>1</th>\n",
       "      <td>{'C': 1, 'penalty': 'l2'}</td>\n",
       "      <td>0.796307</td>\n",
       "      <td>0.033247</td>\n",
       "    </tr>\n",
       "    <tr>\n",
       "      <th>2</th>\n",
       "      <td>{'C': 0.1, 'penalty': 'l2'}</td>\n",
       "      <td>0.789373</td>\n",
       "      <td>0.033298</td>\n",
       "    </tr>\n",
       "    <tr>\n",
       "      <th>3</th>\n",
       "      <td>{'C': 0.01, 'penalty': 'l2'}</td>\n",
       "      <td>0.786536</td>\n",
       "      <td>0.033961</td>\n",
       "    </tr>\n",
       "    <tr>\n",
       "      <th>4</th>\n",
       "      <td>{'C': 0.01, 'penalty': 'l1'}</td>\n",
       "      <td>NaN</td>\n",
       "      <td>NaN</td>\n",
       "    </tr>\n",
       "    <tr>\n",
       "      <th>5</th>\n",
       "      <td>{'C': 0.1, 'penalty': 'l1'}</td>\n",
       "      <td>NaN</td>\n",
       "      <td>NaN</td>\n",
       "    </tr>\n",
       "    <tr>\n",
       "      <th>6</th>\n",
       "      <td>{'C': 1, 'penalty': 'l1'}</td>\n",
       "      <td>NaN</td>\n",
       "      <td>NaN</td>\n",
       "    </tr>\n",
       "    <tr>\n",
       "      <th>7</th>\n",
       "      <td>{'C': 10, 'penalty': 'l1'}</td>\n",
       "      <td>NaN</td>\n",
       "      <td>NaN</td>\n",
       "    </tr>\n",
       "  </tbody>\n",
       "</table>\n",
       "</div>"
      ],
      "text/plain": [
       "                         params  mean_test_score  std_test_score\n",
       "0    {'C': 10, 'penalty': 'l2'}         0.797685        0.030375\n",
       "1     {'C': 1, 'penalty': 'l2'}         0.796307        0.033247\n",
       "2   {'C': 0.1, 'penalty': 'l2'}         0.789373        0.033298\n",
       "3  {'C': 0.01, 'penalty': 'l2'}         0.786536        0.033961\n",
       "4  {'C': 0.01, 'penalty': 'l1'}              NaN             NaN\n",
       "5   {'C': 0.1, 'penalty': 'l1'}              NaN             NaN\n",
       "6     {'C': 1, 'penalty': 'l1'}              NaN             NaN\n",
       "7    {'C': 10, 'penalty': 'l1'}              NaN             NaN"
      ]
     },
     "execution_count": 26,
     "metadata": {},
     "output_type": "execute_result"
    }
   ],
   "source": [
    "results = hyperparam_space(\n",
    "    search_grid=clf_grid, ylabel=\"Mean Accuracy\", ylim=(0.72, 0.85)\n",
    ")\n",
    "\n",
    "results"
   ]
  },
  {
   "cell_type": "code",
   "execution_count": 27,
   "metadata": {},
   "outputs": [
    {
     "name": "stdout",
     "output_type": "stream",
     "text": [
      "Expected Accuracy Range: \n",
      "Lower: 0.7673099999999999 \n",
      "Upper: 0.82806\n",
      "\n",
      "Train Mean accuracy: 0.8061797752808989\n",
      "\n",
      "Validation Mean accuracy: 0.8212290502793296\n"
     ]
    }
   ],
   "source": [
    "# Make predictions\n",
    "train_pred = clf_grid.predict(X_train)\n",
    "validation_pred = clf_grid.predict(X_validation)\n",
    "\n",
    "expected_score, std = 0.797685, 0.030375\n",
    "print(\n",
    "    f\"Expected Accuracy Range: \\nLower: {expected_score - std} \\nUpper: {expected_score + std}\\n\"\n",
    ")\n",
    "print(f\"Train Mean accuracy: {accuracy_score(y_true=y_train, y_pred=train_pred)}\\n\")\n",
    "print(\n",
    "    f\"Validation Mean accuracy: {accuracy_score(y_true=y_validation, y_pred=validation_pred)}\"\n",
    ")"
   ]
  },
  {
   "cell_type": "markdown",
   "metadata": {},
   "source": [
    "<hr>\n",
    "\n",
    "### Leave One Out Cross Validation"
   ]
  },
  {
   "cell_type": "code",
   "execution_count": 28,
   "metadata": {},
   "outputs": [
    {
     "data": {
      "text/plain": [
       "{'C': 10, 'penalty': 'l2'}"
      ]
     },
     "execution_count": 28,
     "metadata": {},
     "output_type": "execute_result"
    }
   ],
   "source": [
    "# Logistic Regression\n",
    "log_model = LogisticRegression(random_state=RANDOM_STATE, max_iter=MAX_ITER)\n",
    "\n",
    "# hyperparameter space\n",
    "param_grid = dict(\n",
    "    penalty=[\"l1\", \"l2\"],\n",
    "    C=[0.01, 0.1, 1, 10],\n",
    ")\n",
    "\n",
    "# Leave One Out Cross-Validation\n",
    "l_one_out = LeaveOneOut()\n",
    "\n",
    "# Search\n",
    "clf = GridSearchCV(\n",
    "    log_model,\n",
    "    param_grid,\n",
    "    scoring=\"accuracy\",\n",
    "    cv=l_one_out,\n",
    "    refit=True,  # refits best model to entire dataset\n",
    ")\n",
    "\n",
    "search_grid = clf.fit(X_train, y_train)\n",
    "\n",
    "# Best hyperparameters\n",
    "search_grid.best_params_"
   ]
  },
  {
   "cell_type": "code",
   "execution_count": 29,
   "metadata": {},
   "outputs": [
    {
     "data": {
      "image/png": "[encoded data removed]",
      "text/plain": [
       "<Figure size 640x480 with 1 Axes>"
      ]
     },
     "metadata": {},
     "output_type": "display_data"
    },
    {
     "data": {
      "text/html": [
       "<div>\n",
       "<style scoped>\n",
       "    .dataframe tbody tr th:only-of-type {\n",
       "        vertical-align: middle;\n",
       "    }\n",
       "\n",
       "    .dataframe tbody tr th {\n",
       "        vertical-align: top;\n",
       "    }\n",
       "\n",
       "    .dataframe thead th {\n",
       "        text-align: right;\n",
       "    }\n",
       "</style>\n",
       "<table border=\"1\" class=\"dataframe\">\n",
       "  <thead>\n",
       "    <tr style=\"text-align: right;\">\n",
       "      <th></th>\n",
       "      <th>params</th>\n",
       "      <th>mean_test_score</th>\n",
       "      <th>std_test_score</th>\n",
       "    </tr>\n",
       "  </thead>\n",
       "  <tbody>\n",
       "    <tr>\n",
       "      <th>0</th>\n",
       "      <td>{'C': 10, 'penalty': 'l2'}</td>\n",
       "      <td>0.800562</td>\n",
       "      <td>0.399578</td>\n",
       "    </tr>\n",
       "    <tr>\n",
       "      <th>1</th>\n",
       "      <td>{'C': 1, 'penalty': 'l2'}</td>\n",
       "      <td>0.793539</td>\n",
       "      <td>0.404765</td>\n",
       "    </tr>\n",
       "    <tr>\n",
       "      <th>2</th>\n",
       "      <td>{'C': 0.1, 'penalty': 'l2'}</td>\n",
       "      <td>0.789326</td>\n",
       "      <td>0.407787</td>\n",
       "    </tr>\n",
       "    <tr>\n",
       "      <th>3</th>\n",
       "      <td>{'C': 0.01, 'penalty': 'l2'}</td>\n",
       "      <td>0.771067</td>\n",
       "      <td>0.420146</td>\n",
       "    </tr>\n",
       "    <tr>\n",
       "      <th>4</th>\n",
       "      <td>{'C': 0.01, 'penalty': 'l1'}</td>\n",
       "      <td>NaN</td>\n",
       "      <td>NaN</td>\n",
       "    </tr>\n",
       "    <tr>\n",
       "      <th>5</th>\n",
       "      <td>{'C': 0.1, 'penalty': 'l1'}</td>\n",
       "      <td>NaN</td>\n",
       "      <td>NaN</td>\n",
       "    </tr>\n",
       "    <tr>\n",
       "      <th>6</th>\n",
       "      <td>{'C': 1, 'penalty': 'l1'}</td>\n",
       "      <td>NaN</td>\n",
       "      <td>NaN</td>\n",
       "    </tr>\n",
       "    <tr>\n",
       "      <th>7</th>\n",
       "      <td>{'C': 10, 'penalty': 'l1'}</td>\n",
       "      <td>NaN</td>\n",
       "      <td>NaN</td>\n",
       "    </tr>\n",
       "  </tbody>\n",
       "</table>\n",
       "</div>"
      ],
      "text/plain": [
       "                         params  mean_test_score  std_test_score\n",
       "0    {'C': 10, 'penalty': 'l2'}         0.800562        0.399578\n",
       "1     {'C': 1, 'penalty': 'l2'}         0.793539        0.404765\n",
       "2   {'C': 0.1, 'penalty': 'l2'}         0.789326        0.407787\n",
       "3  {'C': 0.01, 'penalty': 'l2'}         0.771067        0.420146\n",
       "4  {'C': 0.01, 'penalty': 'l1'}              NaN             NaN\n",
       "5   {'C': 0.1, 'penalty': 'l1'}              NaN             NaN\n",
       "6     {'C': 1, 'penalty': 'l1'}              NaN             NaN\n",
       "7    {'C': 10, 'penalty': 'l1'}              NaN             NaN"
      ]
     },
     "execution_count": 29,
     "metadata": {},
     "output_type": "execute_result"
    }
   ],
   "source": [
    "results = hyperparam_space(\n",
    "    search_grid=search_grid, ylabel=\"Mean Accuracy\", ylim=(0.20, 1.5)\n",
    ")\n",
    "\n",
    "results"
   ]
  },
  {
   "cell_type": "markdown",
   "metadata": {},
   "source": [
    "#### Comment\n",
    "\n",
    "* The standard devaiation is very high. This is because we're testing on a single value."
   ]
  },
  {
   "cell_type": "code",
   "execution_count": null,
   "metadata": {},
   "outputs": [],
   "source": []
  },
  {
   "cell_type": "markdown",
   "metadata": {},
   "source": [
    "## Nested Cross Validation\n",
    "\n",
    "* This approach with an example can be found [here](https://github.com/chineidu/hyperparameter-optimization/blob/master/Section-04-Cross-Validation/04-04-Nested-Cross-Validation.ipynb)."
   ]
  },
  {
   "cell_type": "code",
   "execution_count": null,
   "metadata": {},
   "outputs": [],
   "source": []
  }
 ],
 "metadata": {
  "kernelspec": {
   "display_name": "venv",
   "language": "python",
   "name": "python3"
  },
  "language_info": {
   "codemirror_mode": {
    "name": "ipython",
    "version": 3
   },
   "file_extension": ".py",
   "mimetype": "text/x-python",
   "name": "python",
   "nbconvert_exporter": "python",
   "pygments_lexer": "ipython3",
   "version": "3.10.8"
  },
  "orig_nbformat": 4
 },
 "nbformat": 4,
 "nbformat_minor": 2
}
