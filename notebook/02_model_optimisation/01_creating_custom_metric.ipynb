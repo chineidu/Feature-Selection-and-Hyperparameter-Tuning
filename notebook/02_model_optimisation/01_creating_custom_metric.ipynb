{
 "cells": [
  {
   "attachments": {},
   "cell_type": "markdown",
   "metadata": {},
   "source": [
    "# Creating Custom Evaluation Metrics\n",
    "\n",
    "* Not all the evaluation metrics are available on sklearn.\n",
    "* We can create custom evaluation metrics which will be used to evaluate our model performance.\n",
    "* This can be done by using `make_scorer` from sklearn.\n",
    "\n",
    "```python\n",
    "from sklearn.metrics import make_scorer\n",
    "```"
   ]
  },
  {
   "cell_type": "code",
   "execution_count": 1,
   "metadata": {},
   "outputs": [],
   "source": [
    "from typing import Optional\n",
    "import warnings\n",
    "\n",
    "warnings.filterwarnings(\"ignore\")\n",
    "\n",
    "import numpy as np\n",
    "import pandas as pd\n",
    "import matplotlib.pyplot as plt\n",
    "\n",
    "from sklearn.ensemble import RandomForestClassifier\n",
    "from sklearn.metrics import make_scorer, confusion_matrix, roc_auc_score\n",
    "from sklearn.model_selection import GridSearchCV\n",
    "\n",
    "# Custom import\n",
    "from src.data_manager import load_data, split_data\n",
    "from src.metrics import plot_confusion_matrix\n",
    "\n",
    "# pandas settings\n",
    "pd.options.display.max_rows = 1_000\n",
    "pd.options.display.max_columns = 1_000\n",
    "pd.options.display.max_colwidth = 600\n",
    "%load_ext lab_black\n",
    "\n",
    "%load_ext autoreload\n",
    "%autoreload 2"
   ]
  },
  {
   "cell_type": "code",
   "execution_count": 2,
   "metadata": {},
   "outputs": [
    {
     "name": "stdout",
     "output_type": "stream",
     "text": [
      "Shape of data: (891, 12)\n",
      "\n",
      "Duration: 0.008 seconds\n"
     ]
    },
    {
     "data": {
      "text/html": [
       "<div>\n",
       "<style scoped>\n",
       "    .dataframe tbody tr th:only-of-type {\n",
       "        vertical-align: middle;\n",
       "    }\n",
       "\n",
       "    .dataframe tbody tr th {\n",
       "        vertical-align: top;\n",
       "    }\n",
       "\n",
       "    .dataframe thead th {\n",
       "        text-align: right;\n",
       "    }\n",
       "</style>\n",
       "<table border=\"1\" class=\"dataframe\">\n",
       "  <thead>\n",
       "    <tr style=\"text-align: right;\">\n",
       "      <th></th>\n",
       "      <th>PassengerId</th>\n",
       "      <th>Survived</th>\n",
       "      <th>Pclass</th>\n",
       "      <th>Name</th>\n",
       "      <th>Sex</th>\n",
       "      <th>Age</th>\n",
       "      <th>SibSp</th>\n",
       "      <th>Parch</th>\n",
       "      <th>Ticket</th>\n",
       "      <th>Fare</th>\n",
       "      <th>Cabin</th>\n",
       "      <th>Embarked</th>\n",
       "    </tr>\n",
       "  </thead>\n",
       "  <tbody>\n",
       "    <tr>\n",
       "      <th>0</th>\n",
       "      <td>1</td>\n",
       "      <td>0</td>\n",
       "      <td>3</td>\n",
       "      <td>Braund, Mr. Owen Harris</td>\n",
       "      <td>male</td>\n",
       "      <td>22.0</td>\n",
       "      <td>1</td>\n",
       "      <td>0</td>\n",
       "      <td>A/5 21171</td>\n",
       "      <td>7.2500</td>\n",
       "      <td>NaN</td>\n",
       "      <td>S</td>\n",
       "    </tr>\n",
       "    <tr>\n",
       "      <th>1</th>\n",
       "      <td>2</td>\n",
       "      <td>1</td>\n",
       "      <td>1</td>\n",
       "      <td>Cumings, Mrs. John Bradley (Florence Briggs Thayer)</td>\n",
       "      <td>female</td>\n",
       "      <td>38.0</td>\n",
       "      <td>1</td>\n",
       "      <td>0</td>\n",
       "      <td>PC 17599</td>\n",
       "      <td>71.2833</td>\n",
       "      <td>C85</td>\n",
       "      <td>C</td>\n",
       "    </tr>\n",
       "    <tr>\n",
       "      <th>2</th>\n",
       "      <td>3</td>\n",
       "      <td>1</td>\n",
       "      <td>3</td>\n",
       "      <td>Heikkinen, Miss. Laina</td>\n",
       "      <td>female</td>\n",
       "      <td>26.0</td>\n",
       "      <td>0</td>\n",
       "      <td>0</td>\n",
       "      <td>STON/O2. 3101282</td>\n",
       "      <td>7.9250</td>\n",
       "      <td>NaN</td>\n",
       "      <td>S</td>\n",
       "    </tr>\n",
       "    <tr>\n",
       "      <th>3</th>\n",
       "      <td>4</td>\n",
       "      <td>1</td>\n",
       "      <td>1</td>\n",
       "      <td>Futrelle, Mrs. Jacques Heath (Lily May Peel)</td>\n",
       "      <td>female</td>\n",
       "      <td>35.0</td>\n",
       "      <td>1</td>\n",
       "      <td>0</td>\n",
       "      <td>113803</td>\n",
       "      <td>53.1000</td>\n",
       "      <td>C123</td>\n",
       "      <td>S</td>\n",
       "    </tr>\n",
       "    <tr>\n",
       "      <th>4</th>\n",
       "      <td>5</td>\n",
       "      <td>0</td>\n",
       "      <td>3</td>\n",
       "      <td>Allen, Mr. William Henry</td>\n",
       "      <td>male</td>\n",
       "      <td>35.0</td>\n",
       "      <td>0</td>\n",
       "      <td>0</td>\n",
       "      <td>373450</td>\n",
       "      <td>8.0500</td>\n",
       "      <td>NaN</td>\n",
       "      <td>S</td>\n",
       "    </tr>\n",
       "  </tbody>\n",
       "</table>\n",
       "</div>"
      ],
      "text/plain": [
       "   PassengerId  Survived  Pclass  \\\n",
       "0            1         0       3   \n",
       "1            2         1       1   \n",
       "2            3         1       3   \n",
       "3            4         1       1   \n",
       "4            5         0       3   \n",
       "\n",
       "                                                  Name     Sex   Age  SibSp  \\\n",
       "0                              Braund, Mr. Owen Harris    male  22.0      1   \n",
       "1  Cumings, Mrs. John Bradley (Florence Briggs Thayer)  female  38.0      1   \n",
       "2                               Heikkinen, Miss. Laina  female  26.0      0   \n",
       "3         Futrelle, Mrs. Jacques Heath (Lily May Peel)  female  35.0      1   \n",
       "4                             Allen, Mr. William Henry    male  35.0      0   \n",
       "\n",
       "   Parch            Ticket     Fare Cabin Embarked  \n",
       "0      0         A/5 21171   7.2500   NaN        S  \n",
       "1      0          PC 17599  71.2833   C85        C  \n",
       "2      0  STON/O2. 3101282   7.9250   NaN        S  \n",
       "3      0            113803  53.1000  C123        S  \n",
       "4      0            373450   8.0500   NaN        S  "
      ]
     },
     "execution_count": 2,
     "metadata": {},
     "output_type": "execute_result"
    }
   ],
   "source": [
    "# Load data\n",
    "fp = \"../../data/titanic_train.csv\"\n",
    "data = load_data(filename=fp)\n",
    "data.head()"
   ]
  },
  {
   "cell_type": "code",
   "execution_count": 3,
   "metadata": {},
   "outputs": [
    {
     "name": "stdout",
     "output_type": "stream",
     "text": [
      "Shape of X_train: (712, 11), \n",
      "Shape of X_validation: (179, 11)\n",
      "Duration: 0.003 seconds\n"
     ]
    }
   ],
   "source": [
    "# Split data\n",
    "X_train, X_validation, y_train, y_validation = split_data(\n",
    "    data=data, target=\"Survived\", display_shapes=True\n",
    ")"
   ]
  },
  {
   "cell_type": "code",
   "execution_count": 4,
   "metadata": {},
   "outputs": [
    {
     "data": {
      "text/plain": [
       "PassengerId      0\n",
       "Pclass           0\n",
       "Name             0\n",
       "Sex              0\n",
       "Age            148\n",
       "SibSp            0\n",
       "Parch            0\n",
       "Ticket           0\n",
       "Fare             0\n",
       "Cabin          556\n",
       "Embarked         2\n",
       "dtype: int64"
      ]
     },
     "execution_count": 4,
     "metadata": {},
     "output_type": "execute_result"
    }
   ],
   "source": [
    "# Check NaNs\n",
    "X_train.isna().sum()"
   ]
  },
  {
   "cell_type": "code",
   "execution_count": 5,
   "metadata": {},
   "outputs": [
    {
     "data": {
      "text/plain": [
       "array(['B18', nan, 'D10 D12', 'B73', 'D26', 'D28', 'D19', 'C87', 'B94',\n",
       "       'C95', 'B41', 'C83', 'E33', 'E58', 'D20', 'E25', 'D7', 'D21',\n",
       "       'B49', 'F4', 'B35', 'D56', 'C30', 'F33', 'C124', 'E121', 'C65',\n",
       "       'C50', 'B51 B53 B55', 'C78', 'C91', 'A24', 'D', 'C52', 'C125',\n",
       "       'E63', 'E10', 'B58 B60', 'C45', 'A7', 'C104', 'A16', 'A6', 'E36',\n",
       "       'B37', 'D50', 'G6', 'C46', 'B57 B59 B63 B66', 'E38', 'C126', 'B3',\n",
       "       'F2', 'E24', 'C101', 'B82 B84', 'C92', 'C106', 'B5', 'C22 C26',\n",
       "       'C110', 'B96 B98', 'A19', 'C68', 'E67', 'E8', 'C23 C25 C27', 'D35',\n",
       "       'D37', 'C90', 'F E69', 'E46', 'E68', 'B28', 'A34', 'C70', 'B20',\n",
       "       'E49', 'C85', 'A10', 'B77', 'B102', 'C47', 'D15', 'E40', 'C123',\n",
       "       'D9', 'D47', 'F38', 'B22', 'D36', 'B4', 'C32', 'E31', 'A14', 'D49',\n",
       "       'E12', 'A36', 'E77', 'C82', 'E17', 'E34', 'A26', 'C93', 'D33',\n",
       "       'B39', 'B86', 'D46', 'E44', 'D6', 'C148', 'D11', 'E101', 'A23',\n",
       "       'B79', 'B42', 'T', 'C86', 'A5', 'B101'], dtype=object)"
      ]
     },
     "execution_count": 5,
     "metadata": {},
     "output_type": "execute_result"
    }
   ],
   "source": [
    "X_train.get(\"Cabin\").unique()"
   ]
  },
  {
   "cell_type": "markdown",
   "metadata": {},
   "source": [
    "### Setup Pipeline"
   ]
  },
  {
   "cell_type": "code",
   "execution_count": 6,
   "metadata": {},
   "outputs": [],
   "source": [
    "from feature_engine.encoding import RareLabelEncoder\n",
    "from feature_engine.wrappers import SklearnTransformerWrapper\n",
    "from feature_engine.selection import DropFeatures\n",
    "from feature_engine.imputation import (\n",
    "    MeanMedianImputer,\n",
    "    CategoricalImputer,\n",
    "    AddMissingIndicator,\n",
    ")\n",
    "\n",
    "from sklearn.pipeline import Pipeline\n",
    "from sklearn.compose import ColumnTransformer\n",
    "from sklearn.preprocessing import OneHotEncoder, MinMaxScaler"
   ]
  },
  {
   "cell_type": "code",
   "execution_count": 7,
   "metadata": {},
   "outputs": [
    {
     "data": {
      "text/html": [
       "<div>\n",
       "<style scoped>\n",
       "    .dataframe tbody tr th:only-of-type {\n",
       "        vertical-align: middle;\n",
       "    }\n",
       "\n",
       "    .dataframe tbody tr th {\n",
       "        vertical-align: top;\n",
       "    }\n",
       "\n",
       "    .dataframe thead th {\n",
       "        text-align: right;\n",
       "    }\n",
       "</style>\n",
       "<table border=\"1\" class=\"dataframe\">\n",
       "  <thead>\n",
       "    <tr style=\"text-align: right;\">\n",
       "      <th></th>\n",
       "      <th>PassengerId</th>\n",
       "      <th>Pclass</th>\n",
       "      <th>Name</th>\n",
       "      <th>Sex</th>\n",
       "      <th>Age</th>\n",
       "      <th>SibSp</th>\n",
       "      <th>Parch</th>\n",
       "      <th>Ticket</th>\n",
       "      <th>Fare</th>\n",
       "      <th>Cabin</th>\n",
       "      <th>Embarked</th>\n",
       "    </tr>\n",
       "  </thead>\n",
       "  <tbody>\n",
       "    <tr>\n",
       "      <th>329</th>\n",
       "      <td>330</td>\n",
       "      <td>1</td>\n",
       "      <td>Hippach, Miss. Jean Gertrude</td>\n",
       "      <td>female</td>\n",
       "      <td>16.0</td>\n",
       "      <td>0</td>\n",
       "      <td>1</td>\n",
       "      <td>111361</td>\n",
       "      <td>57.9792</td>\n",
       "      <td>B18</td>\n",
       "      <td>C</td>\n",
       "    </tr>\n",
       "    <tr>\n",
       "      <th>749</th>\n",
       "      <td>750</td>\n",
       "      <td>3</td>\n",
       "      <td>Connaghton, Mr. Michael</td>\n",
       "      <td>male</td>\n",
       "      <td>31.0</td>\n",
       "      <td>0</td>\n",
       "      <td>0</td>\n",
       "      <td>335097</td>\n",
       "      <td>7.7500</td>\n",
       "      <td>NaN</td>\n",
       "      <td>Q</td>\n",
       "    </tr>\n",
       "    <tr>\n",
       "      <th>203</th>\n",
       "      <td>204</td>\n",
       "      <td>3</td>\n",
       "      <td>Youseff, Mr. Gerious</td>\n",
       "      <td>male</td>\n",
       "      <td>45.5</td>\n",
       "      <td>0</td>\n",
       "      <td>0</td>\n",
       "      <td>2628</td>\n",
       "      <td>7.2250</td>\n",
       "      <td>NaN</td>\n",
       "      <td>C</td>\n",
       "    </tr>\n",
       "  </tbody>\n",
       "</table>\n",
       "</div>"
      ],
      "text/plain": [
       "     PassengerId  Pclass                          Name     Sex   Age  SibSp  \\\n",
       "329          330       1  Hippach, Miss. Jean Gertrude  female  16.0      0   \n",
       "749          750       3       Connaghton, Mr. Michael    male  31.0      0   \n",
       "203          204       3          Youseff, Mr. Gerious    male  45.5      0   \n",
       "\n",
       "     Parch  Ticket     Fare Cabin Embarked  \n",
       "329      1  111361  57.9792   B18        C  \n",
       "749      0  335097   7.7500   NaN        Q  \n",
       "203      0    2628   7.2250   NaN        C  "
      ]
     },
     "execution_count": 7,
     "metadata": {},
     "output_type": "execute_result"
    }
   ],
   "source": [
    "X_train.head(3)"
   ]
  },
  {
   "cell_type": "code",
   "execution_count": 8,
   "metadata": {},
   "outputs": [
    {
     "name": "stdout",
     "output_type": "stream",
     "text": [
      "0    0.766854\n",
      "1    0.130618\n",
      "2    0.088483\n",
      "3    0.005618\n",
      "5    0.005618\n",
      "4    0.002809\n",
      "Name: Parch, dtype: float64\n",
      "\n",
      "0    0.686798\n",
      "1    0.234551\n",
      "2    0.030899\n",
      "3    0.018258\n",
      "4    0.015449\n",
      "8    0.009831\n",
      "5    0.004213\n",
      "Name: SibSp, dtype: float64\n",
      "\n"
     ]
    }
   ],
   "source": [
    "# Remove rare labels\n",
    "for var in [\"Parch\", \"SibSp\"]:\n",
    "    print(X_train.get(var).value_counts(normalize=True))\n",
    "    print()"
   ]
  },
  {
   "cell_type": "code",
   "execution_count": 9,
   "metadata": {},
   "outputs": [],
   "source": [
    "# Drop `Cabin` it has to many missing values and unique values\n",
    "vars_to_drop = [\"PassengerId\", \"Name\", \"Cabin\", \"Ticket\"]\n",
    "vars_wf_na_median = [\"Age\"]\n",
    "vars_wf_na_most_freq = [\"Embarked\"]\n",
    "vars_to_ohe = [\"Pclass\", \"Sex\", \"Embarked\", \"Parch\", \"SibSp\"]\n",
    "vars_wf_rare_labels = [\"Parch\", \"SibSp\"]\n",
    "RARE_LABEL_THRESH = 0.05\n",
    "vars_to_transform = [\"Age\", \"Fare\"]\n",
    "target = \"Survived\"\n",
    "\n",
    "RANDOM_STATE = 123\n",
    "N_ESTIMATORS = 20"
   ]
  },
  {
   "cell_type": "code",
   "execution_count": 10,
   "metadata": {},
   "outputs": [
    {
     "data": {
      "text/html": [
       "<style>#sk-container-id-1 {color: black;background-color: white;}#sk-container-id-1 pre{padding: 0;}#sk-container-id-1 div.sk-toggleable {background-color: white;}#sk-container-id-1 label.sk-toggleable__label {cursor: pointer;display: block;width: 100%;margin-bottom: 0;padding: 0.3em;box-sizing: border-box;text-align: center;}#sk-container-id-1 label.sk-toggleable__label-arrow:before {content: \"▸\";float: left;margin-right: 0.25em;color: #696969;}#sk-container-id-1 label.sk-toggleable__label-arrow:hover:before {color: black;}#sk-container-id-1 div.sk-estimator:hover label.sk-toggleable__label-arrow:before {color: black;}#sk-container-id-1 div.sk-toggleable__content {max-height: 0;max-width: 0;overflow: hidden;text-align: left;background-color: #f0f8ff;}#sk-container-id-1 div.sk-toggleable__content pre {margin: 0.2em;color: black;border-radius: 0.25em;background-color: #f0f8ff;}#sk-container-id-1 input.sk-toggleable__control:checked~div.sk-toggleable__content {max-height: 200px;max-width: 100%;overflow: auto;}#sk-container-id-1 input.sk-toggleable__control:checked~label.sk-toggleable__label-arrow:before {content: \"▾\";}#sk-container-id-1 div.sk-estimator input.sk-toggleable__control:checked~label.sk-toggleable__label {background-color: #d4ebff;}#sk-container-id-1 div.sk-label input.sk-toggleable__control:checked~label.sk-toggleable__label {background-color: #d4ebff;}#sk-container-id-1 input.sk-hidden--visually {border: 0;clip: rect(1px 1px 1px 1px);clip: rect(1px, 1px, 1px, 1px);height: 1px;margin: -1px;overflow: hidden;padding: 0;position: absolute;width: 1px;}#sk-container-id-1 div.sk-estimator {font-family: monospace;background-color: #f0f8ff;border: 1px dotted black;border-radius: 0.25em;box-sizing: border-box;margin-bottom: 0.5em;}#sk-container-id-1 div.sk-estimator:hover {background-color: #d4ebff;}#sk-container-id-1 div.sk-parallel-item::after {content: \"\";width: 100%;border-bottom: 1px solid gray;flex-grow: 1;}#sk-container-id-1 div.sk-label:hover label.sk-toggleable__label {background-color: #d4ebff;}#sk-container-id-1 div.sk-serial::before {content: \"\";position: absolute;border-left: 1px solid gray;box-sizing: border-box;top: 0;bottom: 0;left: 50%;z-index: 0;}#sk-container-id-1 div.sk-serial {display: flex;flex-direction: column;align-items: center;background-color: white;padding-right: 0.2em;padding-left: 0.2em;position: relative;}#sk-container-id-1 div.sk-item {position: relative;z-index: 1;}#sk-container-id-1 div.sk-parallel {display: flex;align-items: stretch;justify-content: center;background-color: white;position: relative;}#sk-container-id-1 div.sk-item::before, #sk-container-id-1 div.sk-parallel-item::before {content: \"\";position: absolute;border-left: 1px solid gray;box-sizing: border-box;top: 0;bottom: 0;left: 50%;z-index: -1;}#sk-container-id-1 div.sk-parallel-item {display: flex;flex-direction: column;z-index: 1;position: relative;background-color: white;}#sk-container-id-1 div.sk-parallel-item:first-child::after {align-self: flex-end;width: 50%;}#sk-container-id-1 div.sk-parallel-item:last-child::after {align-self: flex-start;width: 50%;}#sk-container-id-1 div.sk-parallel-item:only-child::after {width: 0;}#sk-container-id-1 div.sk-dashed-wrapped {border: 1px dashed gray;margin: 0 0.4em 0.5em 0.4em;box-sizing: border-box;padding-bottom: 0.4em;background-color: white;}#sk-container-id-1 div.sk-label label {font-family: monospace;font-weight: bold;display: inline-block;line-height: 1.2em;}#sk-container-id-1 div.sk-label-container {text-align: center;}#sk-container-id-1 div.sk-container {/* jupyter's `normalize.less` sets `[hidden] { display: none; }` but bootstrap.min.css set `[hidden] { display: none !important; }` so we also need the `!important` here to be able to override the default hidden behavior on the sphinx rendered scikit-learn.org. See: https://github.com/scikit-learn/scikit-learn/issues/21755 */display: inline-block !important;position: relative;}#sk-container-id-1 div.sk-text-repr-fallback {display: none;}</style><div id=\"sk-container-id-1\" class=\"sk-top-container\"><div class=\"sk-text-repr-fallback\"><pre>Pipeline(steps=[(&#x27;drop_vars&#x27;,\n",
       "                 DropFeatures(features_to_drop=[&#x27;PassengerId&#x27;, &#x27;Name&#x27;, &#x27;Cabin&#x27;,\n",
       "                                                &#x27;Ticket&#x27;])),\n",
       "                (&#x27;vars_wf_na_median&#x27;, MeanMedianImputer(variables=[&#x27;Age&#x27;])),\n",
       "                (&#x27;vars_wf_na_most_freq&#x27;,\n",
       "                 CategoricalImputer(imputation_method=&#x27;frequent&#x27;)),\n",
       "                (&#x27;nan_flag&#x27;,\n",
       "                 AddMissingIndicator(variables=[&#x27;Age&#x27;, &#x27;Embarked&#x27;])),\n",
       "                (&#x27;vars_wf_rare_labels&#x27;,\n",
       "                 RareLabelEncoder(ignore_format=True, n_categories=5,\n",
       "                                  variables=[&#x27;Parch&#x27;, &#x27;SibSp&#x27;])),\n",
       "                (&#x27;column_transf&#x27;,\n",
       "                 ColumnTransformer(remainder=&#x27;passthrough&#x27;,\n",
       "                                   transformers=[(&#x27;ohe&#x27;,\n",
       "                                                  OneHotEncoder(dtype=&lt;class &#x27;int&#x27;&gt;,\n",
       "                                                                handle_unknown=&#x27;ignore&#x27;),\n",
       "                                                  [&#x27;Pclass&#x27;, &#x27;Sex&#x27;, &#x27;Embarked&#x27;,\n",
       "                                                   &#x27;Parch&#x27;, &#x27;SibSp&#x27;]),\n",
       "                                                 (&#x27;normalizer&#x27;, MinMaxScaler(),\n",
       "                                                  [&#x27;Age&#x27;, &#x27;Fare&#x27;])])),\n",
       "                (&#x27;rf_model&#x27;,\n",
       "                 RandomForestClassifier(n_estimators=20, random_state=123))])</pre><b>In a Jupyter environment, please rerun this cell to show the HTML representation or trust the notebook. <br />On GitHub, the HTML representation is unable to render, please try loading this page with nbviewer.org.</b></div><div class=\"sk-container\" hidden><div class=\"sk-item sk-dashed-wrapped\"><div class=\"sk-label-container\"><div class=\"sk-label sk-toggleable\"><input class=\"sk-toggleable__control sk-hidden--visually\" id=\"sk-estimator-id-1\" type=\"checkbox\" ><label for=\"sk-estimator-id-1\" class=\"sk-toggleable__label sk-toggleable__label-arrow\">Pipeline</label><div class=\"sk-toggleable__content\"><pre>Pipeline(steps=[(&#x27;drop_vars&#x27;,\n",
       "                 DropFeatures(features_to_drop=[&#x27;PassengerId&#x27;, &#x27;Name&#x27;, &#x27;Cabin&#x27;,\n",
       "                                                &#x27;Ticket&#x27;])),\n",
       "                (&#x27;vars_wf_na_median&#x27;, MeanMedianImputer(variables=[&#x27;Age&#x27;])),\n",
       "                (&#x27;vars_wf_na_most_freq&#x27;,\n",
       "                 CategoricalImputer(imputation_method=&#x27;frequent&#x27;)),\n",
       "                (&#x27;nan_flag&#x27;,\n",
       "                 AddMissingIndicator(variables=[&#x27;Age&#x27;, &#x27;Embarked&#x27;])),\n",
       "                (&#x27;vars_wf_rare_labels&#x27;,\n",
       "                 RareLabelEncoder(ignore_format=True, n_categories=5,\n",
       "                                  variables=[&#x27;Parch&#x27;, &#x27;SibSp&#x27;])),\n",
       "                (&#x27;column_transf&#x27;,\n",
       "                 ColumnTransformer(remainder=&#x27;passthrough&#x27;,\n",
       "                                   transformers=[(&#x27;ohe&#x27;,\n",
       "                                                  OneHotEncoder(dtype=&lt;class &#x27;int&#x27;&gt;,\n",
       "                                                                handle_unknown=&#x27;ignore&#x27;),\n",
       "                                                  [&#x27;Pclass&#x27;, &#x27;Sex&#x27;, &#x27;Embarked&#x27;,\n",
       "                                                   &#x27;Parch&#x27;, &#x27;SibSp&#x27;]),\n",
       "                                                 (&#x27;normalizer&#x27;, MinMaxScaler(),\n",
       "                                                  [&#x27;Age&#x27;, &#x27;Fare&#x27;])])),\n",
       "                (&#x27;rf_model&#x27;,\n",
       "                 RandomForestClassifier(n_estimators=20, random_state=123))])</pre></div></div></div><div class=\"sk-serial\"><div class=\"sk-item\"><div class=\"sk-estimator sk-toggleable\"><input class=\"sk-toggleable__control sk-hidden--visually\" id=\"sk-estimator-id-2\" type=\"checkbox\" ><label for=\"sk-estimator-id-2\" class=\"sk-toggleable__label sk-toggleable__label-arrow\">DropFeatures</label><div class=\"sk-toggleable__content\"><pre>DropFeatures(features_to_drop=[&#x27;PassengerId&#x27;, &#x27;Name&#x27;, &#x27;Cabin&#x27;, &#x27;Ticket&#x27;])</pre></div></div></div><div class=\"sk-item\"><div class=\"sk-estimator sk-toggleable\"><input class=\"sk-toggleable__control sk-hidden--visually\" id=\"sk-estimator-id-3\" type=\"checkbox\" ><label for=\"sk-estimator-id-3\" class=\"sk-toggleable__label sk-toggleable__label-arrow\">MeanMedianImputer</label><div class=\"sk-toggleable__content\"><pre>MeanMedianImputer(variables=[&#x27;Age&#x27;])</pre></div></div></div><div class=\"sk-item\"><div class=\"sk-estimator sk-toggleable\"><input class=\"sk-toggleable__control sk-hidden--visually\" id=\"sk-estimator-id-4\" type=\"checkbox\" ><label for=\"sk-estimator-id-4\" class=\"sk-toggleable__label sk-toggleable__label-arrow\">CategoricalImputer</label><div class=\"sk-toggleable__content\"><pre>CategoricalImputer(imputation_method=&#x27;frequent&#x27;)</pre></div></div></div><div class=\"sk-item\"><div class=\"sk-estimator sk-toggleable\"><input class=\"sk-toggleable__control sk-hidden--visually\" id=\"sk-estimator-id-5\" type=\"checkbox\" ><label for=\"sk-estimator-id-5\" class=\"sk-toggleable__label sk-toggleable__label-arrow\">AddMissingIndicator</label><div class=\"sk-toggleable__content\"><pre>AddMissingIndicator(variables=[&#x27;Age&#x27;, &#x27;Embarked&#x27;])</pre></div></div></div><div class=\"sk-item\"><div class=\"sk-estimator sk-toggleable\"><input class=\"sk-toggleable__control sk-hidden--visually\" id=\"sk-estimator-id-6\" type=\"checkbox\" ><label for=\"sk-estimator-id-6\" class=\"sk-toggleable__label sk-toggleable__label-arrow\">RareLabelEncoder</label><div class=\"sk-toggleable__content\"><pre>RareLabelEncoder(ignore_format=True, n_categories=5,\n",
       "                 variables=[&#x27;Parch&#x27;, &#x27;SibSp&#x27;])</pre></div></div></div><div class=\"sk-item sk-dashed-wrapped\"><div class=\"sk-label-container\"><div class=\"sk-label sk-toggleable\"><input class=\"sk-toggleable__control sk-hidden--visually\" id=\"sk-estimator-id-7\" type=\"checkbox\" ><label for=\"sk-estimator-id-7\" class=\"sk-toggleable__label sk-toggleable__label-arrow\">column_transf: ColumnTransformer</label><div class=\"sk-toggleable__content\"><pre>ColumnTransformer(remainder=&#x27;passthrough&#x27;,\n",
       "                  transformers=[(&#x27;ohe&#x27;,\n",
       "                                 OneHotEncoder(dtype=&lt;class &#x27;int&#x27;&gt;,\n",
       "                                               handle_unknown=&#x27;ignore&#x27;),\n",
       "                                 [&#x27;Pclass&#x27;, &#x27;Sex&#x27;, &#x27;Embarked&#x27;, &#x27;Parch&#x27;,\n",
       "                                  &#x27;SibSp&#x27;]),\n",
       "                                (&#x27;normalizer&#x27;, MinMaxScaler(),\n",
       "                                 [&#x27;Age&#x27;, &#x27;Fare&#x27;])])</pre></div></div></div><div class=\"sk-parallel\"><div class=\"sk-parallel-item\"><div class=\"sk-item\"><div class=\"sk-label-container\"><div class=\"sk-label sk-toggleable\"><input class=\"sk-toggleable__control sk-hidden--visually\" id=\"sk-estimator-id-8\" type=\"checkbox\" ><label for=\"sk-estimator-id-8\" class=\"sk-toggleable__label sk-toggleable__label-arrow\">ohe</label><div class=\"sk-toggleable__content\"><pre>[&#x27;Pclass&#x27;, &#x27;Sex&#x27;, &#x27;Embarked&#x27;, &#x27;Parch&#x27;, &#x27;SibSp&#x27;]</pre></div></div></div><div class=\"sk-serial\"><div class=\"sk-item\"><div class=\"sk-estimator sk-toggleable\"><input class=\"sk-toggleable__control sk-hidden--visually\" id=\"sk-estimator-id-9\" type=\"checkbox\" ><label for=\"sk-estimator-id-9\" class=\"sk-toggleable__label sk-toggleable__label-arrow\">OneHotEncoder</label><div class=\"sk-toggleable__content\"><pre>OneHotEncoder(dtype=&lt;class &#x27;int&#x27;&gt;, handle_unknown=&#x27;ignore&#x27;)</pre></div></div></div></div></div></div><div class=\"sk-parallel-item\"><div class=\"sk-item\"><div class=\"sk-label-container\"><div class=\"sk-label sk-toggleable\"><input class=\"sk-toggleable__control sk-hidden--visually\" id=\"sk-estimator-id-10\" type=\"checkbox\" ><label for=\"sk-estimator-id-10\" class=\"sk-toggleable__label sk-toggleable__label-arrow\">normalizer</label><div class=\"sk-toggleable__content\"><pre>[&#x27;Age&#x27;, &#x27;Fare&#x27;]</pre></div></div></div><div class=\"sk-serial\"><div class=\"sk-item\"><div class=\"sk-estimator sk-toggleable\"><input class=\"sk-toggleable__control sk-hidden--visually\" id=\"sk-estimator-id-11\" type=\"checkbox\" ><label for=\"sk-estimator-id-11\" class=\"sk-toggleable__label sk-toggleable__label-arrow\">MinMaxScaler</label><div class=\"sk-toggleable__content\"><pre>MinMaxScaler()</pre></div></div></div></div></div></div><div class=\"sk-parallel-item\"><div class=\"sk-item\"><div class=\"sk-label-container\"><div class=\"sk-label sk-toggleable\"><input class=\"sk-toggleable__control sk-hidden--visually\" id=\"sk-estimator-id-12\" type=\"checkbox\" ><label for=\"sk-estimator-id-12\" class=\"sk-toggleable__label sk-toggleable__label-arrow\">remainder</label><div class=\"sk-toggleable__content\"><pre></pre></div></div></div><div class=\"sk-serial\"><div class=\"sk-item\"><div class=\"sk-estimator sk-toggleable\"><input class=\"sk-toggleable__control sk-hidden--visually\" id=\"sk-estimator-id-13\" type=\"checkbox\" ><label for=\"sk-estimator-id-13\" class=\"sk-toggleable__label sk-toggleable__label-arrow\">passthrough</label><div class=\"sk-toggleable__content\"><pre>passthrough</pre></div></div></div></div></div></div></div></div><div class=\"sk-item\"><div class=\"sk-estimator sk-toggleable\"><input class=\"sk-toggleable__control sk-hidden--visually\" id=\"sk-estimator-id-14\" type=\"checkbox\" ><label for=\"sk-estimator-id-14\" class=\"sk-toggleable__label sk-toggleable__label-arrow\">RandomForestClassifier</label><div class=\"sk-toggleable__content\"><pre>RandomForestClassifier(n_estimators=20, random_state=123)</pre></div></div></div></div></div></div></div>"
      ],
      "text/plain": [
       "Pipeline(steps=[('drop_vars',\n",
       "                 DropFeatures(features_to_drop=['PassengerId', 'Name', 'Cabin',\n",
       "                                                'Ticket'])),\n",
       "                ('vars_wf_na_median', MeanMedianImputer(variables=['Age'])),\n",
       "                ('vars_wf_na_most_freq',\n",
       "                 CategoricalImputer(imputation_method='frequent')),\n",
       "                ('nan_flag',\n",
       "                 AddMissingIndicator(variables=['Age', 'Embarked'])),\n",
       "                ('vars_wf_rare_labels',\n",
       "                 RareLabelEncoder(ignore_format=True, n_categories=5,\n",
       "                                  variables=['Parch', 'SibSp'])),\n",
       "                ('column_transf',\n",
       "                 ColumnTransformer(remainder='passthrough',\n",
       "                                   transformers=[('ohe',\n",
       "                                                  OneHotEncoder(dtype=<class 'int'>,\n",
       "                                                                handle_unknown='ignore'),\n",
       "                                                  ['Pclass', 'Sex', 'Embarked',\n",
       "                                                   'Parch', 'SibSp']),\n",
       "                                                 ('normalizer', MinMaxScaler(),\n",
       "                                                  ['Age', 'Fare'])])),\n",
       "                ('rf_model',\n",
       "                 RandomForestClassifier(n_estimators=20, random_state=123))])"
      ]
     },
     "execution_count": 10,
     "metadata": {},
     "output_type": "execute_result"
    }
   ],
   "source": [
    "# You can also use SklearnTransformerWrapper inplace of ColumnTransformer\n",
    "# The only caveat is that it does NOT support sparse=True\n",
    "# for the OneHotEncoder transformer\n",
    "column_transf = ColumnTransformer(\n",
    "    transformers=[\n",
    "        # === OHE ===\n",
    "        (\"ohe\", OneHotEncoder(dtype=int, handle_unknown=\"ignore\"), vars_to_ohe),\n",
    "        # === Normalize ===\n",
    "        (\"normalizer\", MinMaxScaler(), vars_to_transform),\n",
    "    ],\n",
    "    remainder=\"passthrough\",\n",
    ")\n",
    "\n",
    "pipe = Pipeline(\n",
    "    steps=[\n",
    "        # === Drop variables ===\n",
    "        (\"drop_vars\", DropFeatures(features_to_drop=vars_to_drop)),\n",
    "        # === Replace NaNs with median ===\n",
    "        (\n",
    "            \"vars_wf_na_median\",\n",
    "            MeanMedianImputer(imputation_method=\"median\", variables=vars_wf_na_median),\n",
    "        ),\n",
    "        # === Replace NaNs with most frequent ===\n",
    "        (\"vars_wf_na_most_freq\", CategoricalImputer(imputation_method=\"frequent\")),\n",
    "        # === Add flags for variables with NaNs ===\n",
    "        (\n",
    "            \"nan_flag\",\n",
    "            AddMissingIndicator(variables=vars_wf_na_median + vars_wf_na_most_freq),\n",
    "        ),\n",
    "        # === Remove rare labels ===\n",
    "        (\n",
    "            \"vars_wf_rare_labels\",\n",
    "            RareLabelEncoder(\n",
    "                tol=RARE_LABEL_THRESH,\n",
    "                n_categories=5,\n",
    "                variables=vars_wf_rare_labels,\n",
    "                ignore_format=True,\n",
    "            ),\n",
    "        ),\n",
    "        # === Column Transformer ===\n",
    "        (\"column_transf\", column_transf),\n",
    "        # === Estimator ===\n",
    "        (\n",
    "            \"rf_model\",\n",
    "            RandomForestClassifier(\n",
    "                n_estimators=N_ESTIMATORS, random_state=RANDOM_STATE\n",
    "            ),\n",
    "        ),\n",
    "    ]\n",
    ")\n",
    "\n",
    "pipe"
   ]
  },
  {
   "cell_type": "code",
   "execution_count": 11,
   "metadata": {},
   "outputs": [
    {
     "data": {
      "text/plain": [
       "array([0, 0, 0, 0])"
      ]
     },
     "execution_count": 11,
     "metadata": {},
     "output_type": "execute_result"
    }
   ],
   "source": [
    "# Fit\n",
    "pipe.fit(X_train, y_train)\n",
    "\n",
    "# Make predictions\n",
    "# y_proba = pipe.predict_proba(X_validation)[:, 1]\n",
    "y_pred = pipe.predict(X_validation)\n",
    "y_pred[:4]"
   ]
  },
  {
   "attachments": {},
   "cell_type": "markdown",
   "metadata": {},
   "source": [
    "<br><hr>\n",
    "\n",
    "### Custom Metrics\n",
    "\n",
    "* **`False Negative Rate`**: This is currently unavailable in sci-kit learn.\n",
    "\n",
    "$$FNR = \\frac{FN}{FN + TP} $$"
   ]
  },
  {
   "cell_type": "code",
   "execution_count": 12,
   "metadata": {},
   "outputs": [
    {
     "data": {
      "text/plain": [
       "0    0.631285\n",
       "1    0.368715\n",
       "dtype: float64"
      ]
     },
     "execution_count": 12,
     "metadata": {},
     "output_type": "execute_result"
    }
   ],
   "source": [
    "pd.Series(y_pred).value_counts(normalize=True)"
   ]
  },
  {
   "attachments": {},
   "cell_type": "markdown",
   "metadata": {},
   "source": [
    "#### Confusion Matrix\n",
    "\n",
    "```text\n",
    " Actual\n",
    "        0:  TN | FP\n",
    "        1:  FN | TP\n",
    "            0     1\n",
    "            \n",
    "            Pred\n",
    "```"
   ]
  },
  {
   "cell_type": "code",
   "execution_count": 13,
   "metadata": {},
   "outputs": [],
   "source": [
    "def calculate_FNR(y_true: np.ndarray, y_pred: np.ndarray) -> float:\n",
    "    \"\"\"This takes the predictions as class labels and\n",
    "    returns the False Negative Rate.\n",
    "    i.e FNR = (FN) / (FN + TP)\n",
    "    \"\"\"\n",
    "    TN, FP, FN, TP = confusion_matrix(y_true, y_pred, labels=[0, 1]).flatten()\n",
    "    FNR = np.divide(FN, np.add(FN, TP))\n",
    "    return FNR"
   ]
  },
  {
   "cell_type": "code",
   "execution_count": 14,
   "metadata": {},
   "outputs": [
    {
     "data": {
      "text/plain": [
       "0.24615384615384617"
      ]
     },
     "execution_count": 14,
     "metadata": {},
     "output_type": "execute_result"
    }
   ],
   "source": [
    "calculate_FNR(y_true=y_validation, y_pred=y_pred)"
   ]
  },
  {
   "cell_type": "code",
   "execution_count": 15,
   "metadata": {},
   "outputs": [
    {
     "data": {
      "text/plain": [
       "make_scorer(calculate_FNR, greater_is_better=False)"
      ]
     },
     "execution_count": 15,
     "metadata": {},
     "output_type": "execute_result"
    }
   ],
   "source": [
    "# Create custom scorer\n",
    "FNR_score = make_scorer(\n",
    "    score_func=calculate_FNR,\n",
    "    greater_is_better=False,\n",
    "    needs_proba=False,\n",
    ")\n",
    "FNR_score"
   ]
  },
  {
   "cell_type": "code",
   "execution_count": 16,
   "metadata": {},
   "outputs": [
    {
     "data": {
      "text/html": [
       "<style>#sk-container-id-2 {color: black;background-color: white;}#sk-container-id-2 pre{padding: 0;}#sk-container-id-2 div.sk-toggleable {background-color: white;}#sk-container-id-2 label.sk-toggleable__label {cursor: pointer;display: block;width: 100%;margin-bottom: 0;padding: 0.3em;box-sizing: border-box;text-align: center;}#sk-container-id-2 label.sk-toggleable__label-arrow:before {content: \"▸\";float: left;margin-right: 0.25em;color: #696969;}#sk-container-id-2 label.sk-toggleable__label-arrow:hover:before {color: black;}#sk-container-id-2 div.sk-estimator:hover label.sk-toggleable__label-arrow:before {color: black;}#sk-container-id-2 div.sk-toggleable__content {max-height: 0;max-width: 0;overflow: hidden;text-align: left;background-color: #f0f8ff;}#sk-container-id-2 div.sk-toggleable__content pre {margin: 0.2em;color: black;border-radius: 0.25em;background-color: #f0f8ff;}#sk-container-id-2 input.sk-toggleable__control:checked~div.sk-toggleable__content {max-height: 200px;max-width: 100%;overflow: auto;}#sk-container-id-2 input.sk-toggleable__control:checked~label.sk-toggleable__label-arrow:before {content: \"▾\";}#sk-container-id-2 div.sk-estimator input.sk-toggleable__control:checked~label.sk-toggleable__label {background-color: #d4ebff;}#sk-container-id-2 div.sk-label input.sk-toggleable__control:checked~label.sk-toggleable__label {background-color: #d4ebff;}#sk-container-id-2 input.sk-hidden--visually {border: 0;clip: rect(1px 1px 1px 1px);clip: rect(1px, 1px, 1px, 1px);height: 1px;margin: -1px;overflow: hidden;padding: 0;position: absolute;width: 1px;}#sk-container-id-2 div.sk-estimator {font-family: monospace;background-color: #f0f8ff;border: 1px dotted black;border-radius: 0.25em;box-sizing: border-box;margin-bottom: 0.5em;}#sk-container-id-2 div.sk-estimator:hover {background-color: #d4ebff;}#sk-container-id-2 div.sk-parallel-item::after {content: \"\";width: 100%;border-bottom: 1px solid gray;flex-grow: 1;}#sk-container-id-2 div.sk-label:hover label.sk-toggleable__label {background-color: #d4ebff;}#sk-container-id-2 div.sk-serial::before {content: \"\";position: absolute;border-left: 1px solid gray;box-sizing: border-box;top: 0;bottom: 0;left: 50%;z-index: 0;}#sk-container-id-2 div.sk-serial {display: flex;flex-direction: column;align-items: center;background-color: white;padding-right: 0.2em;padding-left: 0.2em;position: relative;}#sk-container-id-2 div.sk-item {position: relative;z-index: 1;}#sk-container-id-2 div.sk-parallel {display: flex;align-items: stretch;justify-content: center;background-color: white;position: relative;}#sk-container-id-2 div.sk-item::before, #sk-container-id-2 div.sk-parallel-item::before {content: \"\";position: absolute;border-left: 1px solid gray;box-sizing: border-box;top: 0;bottom: 0;left: 50%;z-index: -1;}#sk-container-id-2 div.sk-parallel-item {display: flex;flex-direction: column;z-index: 1;position: relative;background-color: white;}#sk-container-id-2 div.sk-parallel-item:first-child::after {align-self: flex-end;width: 50%;}#sk-container-id-2 div.sk-parallel-item:last-child::after {align-self: flex-start;width: 50%;}#sk-container-id-2 div.sk-parallel-item:only-child::after {width: 0;}#sk-container-id-2 div.sk-dashed-wrapped {border: 1px dashed gray;margin: 0 0.4em 0.5em 0.4em;box-sizing: border-box;padding-bottom: 0.4em;background-color: white;}#sk-container-id-2 div.sk-label label {font-family: monospace;font-weight: bold;display: inline-block;line-height: 1.2em;}#sk-container-id-2 div.sk-label-container {text-align: center;}#sk-container-id-2 div.sk-container {/* jupyter's `normalize.less` sets `[hidden] { display: none; }` but bootstrap.min.css set `[hidden] { display: none !important; }` so we also need the `!important` here to be able to override the default hidden behavior on the sphinx rendered scikit-learn.org. See: https://github.com/scikit-learn/scikit-learn/issues/21755 */display: inline-block !important;position: relative;}#sk-container-id-2 div.sk-text-repr-fallback {display: none;}</style><div id=\"sk-container-id-2\" class=\"sk-top-container\"><div class=\"sk-text-repr-fallback\"><pre>Pipeline(steps=[(&#x27;drop_vars&#x27;,\n",
       "                 DropFeatures(features_to_drop=[&#x27;PassengerId&#x27;, &#x27;Name&#x27;, &#x27;Cabin&#x27;,\n",
       "                                                &#x27;Ticket&#x27;])),\n",
       "                (&#x27;vars_wf_na_median&#x27;, MeanMedianImputer(variables=[&#x27;Age&#x27;])),\n",
       "                (&#x27;vars_wf_na_most_freq&#x27;,\n",
       "                 CategoricalImputer(imputation_method=&#x27;frequent&#x27;)),\n",
       "                (&#x27;nan_flag&#x27;,\n",
       "                 AddMissingIndicator(variables=[&#x27;Age&#x27;, &#x27;Embarked&#x27;])),\n",
       "                (&#x27;vars_wf_rare_labels&#x27;,\n",
       "                 RareLabelEncoder(ignore_format=True, n_categories=5,\n",
       "                                  variables=[&#x27;Parch&#x27;, &#x27;SibSp&#x27;])),\n",
       "                (&#x27;ohe&#x27;,\n",
       "                 SklearnTransformerWrapper(transformer=OneHotEncoder(dtype=&lt;class &#x27;int&#x27;&gt;,\n",
       "                                                                     handle_unknown=&#x27;ignore&#x27;,\n",
       "                                                                     sparse=False),\n",
       "                                           variables=[&#x27;Pclass&#x27;, &#x27;Sex&#x27;,\n",
       "                                                      &#x27;Embarked&#x27;, &#x27;Parch&#x27;,\n",
       "                                                      &#x27;SibSp&#x27;])),\n",
       "                (&#x27;normalizer&#x27;,\n",
       "                 SklearnTransformerWrapper(transformer=MinMaxScaler(),\n",
       "                                           variables=[&#x27;Age&#x27;, &#x27;Fare&#x27;]))])</pre><b>In a Jupyter environment, please rerun this cell to show the HTML representation or trust the notebook. <br />On GitHub, the HTML representation is unable to render, please try loading this page with nbviewer.org.</b></div><div class=\"sk-container\" hidden><div class=\"sk-item sk-dashed-wrapped\"><div class=\"sk-label-container\"><div class=\"sk-label sk-toggleable\"><input class=\"sk-toggleable__control sk-hidden--visually\" id=\"sk-estimator-id-15\" type=\"checkbox\" ><label for=\"sk-estimator-id-15\" class=\"sk-toggleable__label sk-toggleable__label-arrow\">Pipeline</label><div class=\"sk-toggleable__content\"><pre>Pipeline(steps=[(&#x27;drop_vars&#x27;,\n",
       "                 DropFeatures(features_to_drop=[&#x27;PassengerId&#x27;, &#x27;Name&#x27;, &#x27;Cabin&#x27;,\n",
       "                                                &#x27;Ticket&#x27;])),\n",
       "                (&#x27;vars_wf_na_median&#x27;, MeanMedianImputer(variables=[&#x27;Age&#x27;])),\n",
       "                (&#x27;vars_wf_na_most_freq&#x27;,\n",
       "                 CategoricalImputer(imputation_method=&#x27;frequent&#x27;)),\n",
       "                (&#x27;nan_flag&#x27;,\n",
       "                 AddMissingIndicator(variables=[&#x27;Age&#x27;, &#x27;Embarked&#x27;])),\n",
       "                (&#x27;vars_wf_rare_labels&#x27;,\n",
       "                 RareLabelEncoder(ignore_format=True, n_categories=5,\n",
       "                                  variables=[&#x27;Parch&#x27;, &#x27;SibSp&#x27;])),\n",
       "                (&#x27;ohe&#x27;,\n",
       "                 SklearnTransformerWrapper(transformer=OneHotEncoder(dtype=&lt;class &#x27;int&#x27;&gt;,\n",
       "                                                                     handle_unknown=&#x27;ignore&#x27;,\n",
       "                                                                     sparse=False),\n",
       "                                           variables=[&#x27;Pclass&#x27;, &#x27;Sex&#x27;,\n",
       "                                                      &#x27;Embarked&#x27;, &#x27;Parch&#x27;,\n",
       "                                                      &#x27;SibSp&#x27;])),\n",
       "                (&#x27;normalizer&#x27;,\n",
       "                 SklearnTransformerWrapper(transformer=MinMaxScaler(),\n",
       "                                           variables=[&#x27;Age&#x27;, &#x27;Fare&#x27;]))])</pre></div></div></div><div class=\"sk-serial\"><div class=\"sk-item\"><div class=\"sk-estimator sk-toggleable\"><input class=\"sk-toggleable__control sk-hidden--visually\" id=\"sk-estimator-id-16\" type=\"checkbox\" ><label for=\"sk-estimator-id-16\" class=\"sk-toggleable__label sk-toggleable__label-arrow\">DropFeatures</label><div class=\"sk-toggleable__content\"><pre>DropFeatures(features_to_drop=[&#x27;PassengerId&#x27;, &#x27;Name&#x27;, &#x27;Cabin&#x27;, &#x27;Ticket&#x27;])</pre></div></div></div><div class=\"sk-item\"><div class=\"sk-estimator sk-toggleable\"><input class=\"sk-toggleable__control sk-hidden--visually\" id=\"sk-estimator-id-17\" type=\"checkbox\" ><label for=\"sk-estimator-id-17\" class=\"sk-toggleable__label sk-toggleable__label-arrow\">MeanMedianImputer</label><div class=\"sk-toggleable__content\"><pre>MeanMedianImputer(variables=[&#x27;Age&#x27;])</pre></div></div></div><div class=\"sk-item\"><div class=\"sk-estimator sk-toggleable\"><input class=\"sk-toggleable__control sk-hidden--visually\" id=\"sk-estimator-id-18\" type=\"checkbox\" ><label for=\"sk-estimator-id-18\" class=\"sk-toggleable__label sk-toggleable__label-arrow\">CategoricalImputer</label><div class=\"sk-toggleable__content\"><pre>CategoricalImputer(imputation_method=&#x27;frequent&#x27;)</pre></div></div></div><div class=\"sk-item\"><div class=\"sk-estimator sk-toggleable\"><input class=\"sk-toggleable__control sk-hidden--visually\" id=\"sk-estimator-id-19\" type=\"checkbox\" ><label for=\"sk-estimator-id-19\" class=\"sk-toggleable__label sk-toggleable__label-arrow\">AddMissingIndicator</label><div class=\"sk-toggleable__content\"><pre>AddMissingIndicator(variables=[&#x27;Age&#x27;, &#x27;Embarked&#x27;])</pre></div></div></div><div class=\"sk-item\"><div class=\"sk-estimator sk-toggleable\"><input class=\"sk-toggleable__control sk-hidden--visually\" id=\"sk-estimator-id-20\" type=\"checkbox\" ><label for=\"sk-estimator-id-20\" class=\"sk-toggleable__label sk-toggleable__label-arrow\">RareLabelEncoder</label><div class=\"sk-toggleable__content\"><pre>RareLabelEncoder(ignore_format=True, n_categories=5,\n",
       "                 variables=[&#x27;Parch&#x27;, &#x27;SibSp&#x27;])</pre></div></div></div><div class=\"sk-item sk-dashed-wrapped\"><div class=\"sk-label-container\"><div class=\"sk-label sk-toggleable\"><input class=\"sk-toggleable__control sk-hidden--visually\" id=\"sk-estimator-id-21\" type=\"checkbox\" ><label for=\"sk-estimator-id-21\" class=\"sk-toggleable__label sk-toggleable__label-arrow\">ohe: SklearnTransformerWrapper</label><div class=\"sk-toggleable__content\"><pre>SklearnTransformerWrapper(transformer=OneHotEncoder(dtype=&lt;class &#x27;int&#x27;&gt;,\n",
       "                                                    handle_unknown=&#x27;ignore&#x27;,\n",
       "                                                    sparse=False),\n",
       "                          variables=[&#x27;Pclass&#x27;, &#x27;Sex&#x27;, &#x27;Embarked&#x27;, &#x27;Parch&#x27;,\n",
       "                                     &#x27;SibSp&#x27;])</pre></div></div></div><div class=\"sk-parallel\"><div class=\"sk-parallel-item\"><div class=\"sk-item\"><div class=\"sk-label-container\"><div class=\"sk-label sk-toggleable\"><input class=\"sk-toggleable__control sk-hidden--visually\" id=\"sk-estimator-id-22\" type=\"checkbox\" ><label for=\"sk-estimator-id-22\" class=\"sk-toggleable__label sk-toggleable__label-arrow\">transformer: OneHotEncoder</label><div class=\"sk-toggleable__content\"><pre>OneHotEncoder(dtype=&lt;class &#x27;int&#x27;&gt;, handle_unknown=&#x27;ignore&#x27;, sparse=False)</pre></div></div></div><div class=\"sk-serial\"><div class=\"sk-item\"><div class=\"sk-estimator sk-toggleable\"><input class=\"sk-toggleable__control sk-hidden--visually\" id=\"sk-estimator-id-23\" type=\"checkbox\" ><label for=\"sk-estimator-id-23\" class=\"sk-toggleable__label sk-toggleable__label-arrow\">OneHotEncoder</label><div class=\"sk-toggleable__content\"><pre>OneHotEncoder(dtype=&lt;class &#x27;int&#x27;&gt;, handle_unknown=&#x27;ignore&#x27;, sparse=False)</pre></div></div></div></div></div></div></div></div><div class=\"sk-item sk-dashed-wrapped\"><div class=\"sk-label-container\"><div class=\"sk-label sk-toggleable\"><input class=\"sk-toggleable__control sk-hidden--visually\" id=\"sk-estimator-id-24\" type=\"checkbox\" ><label for=\"sk-estimator-id-24\" class=\"sk-toggleable__label sk-toggleable__label-arrow\">normalizer: SklearnTransformerWrapper</label><div class=\"sk-toggleable__content\"><pre>SklearnTransformerWrapper(transformer=MinMaxScaler(), variables=[&#x27;Age&#x27;, &#x27;Fare&#x27;])</pre></div></div></div><div class=\"sk-parallel\"><div class=\"sk-parallel-item\"><div class=\"sk-item\"><div class=\"sk-label-container\"><div class=\"sk-label sk-toggleable\"><input class=\"sk-toggleable__control sk-hidden--visually\" id=\"sk-estimator-id-25\" type=\"checkbox\" ><label for=\"sk-estimator-id-25\" class=\"sk-toggleable__label sk-toggleable__label-arrow\">transformer: MinMaxScaler</label><div class=\"sk-toggleable__content\"><pre>MinMaxScaler()</pre></div></div></div><div class=\"sk-serial\"><div class=\"sk-item\"><div class=\"sk-estimator sk-toggleable\"><input class=\"sk-toggleable__control sk-hidden--visually\" id=\"sk-estimator-id-26\" type=\"checkbox\" ><label for=\"sk-estimator-id-26\" class=\"sk-toggleable__label sk-toggleable__label-arrow\">MinMaxScaler</label><div class=\"sk-toggleable__content\"><pre>MinMaxScaler()</pre></div></div></div></div></div></div></div></div></div></div></div></div>"
      ],
      "text/plain": [
       "Pipeline(steps=[('drop_vars',\n",
       "                 DropFeatures(features_to_drop=['PassengerId', 'Name', 'Cabin',\n",
       "                                                'Ticket'])),\n",
       "                ('vars_wf_na_median', MeanMedianImputer(variables=['Age'])),\n",
       "                ('vars_wf_na_most_freq',\n",
       "                 CategoricalImputer(imputation_method='frequent')),\n",
       "                ('nan_flag',\n",
       "                 AddMissingIndicator(variables=['Age', 'Embarked'])),\n",
       "                ('vars_wf_rare_labels',\n",
       "                 RareLabelEncoder(ignore_format=True, n_categories=5,\n",
       "                                  variables=['Parch', 'SibSp'])),\n",
       "                ('ohe',\n",
       "                 SklearnTransformerWrapper(transformer=OneHotEncoder(dtype=<class 'int'>,\n",
       "                                                                     handle_unknown='ignore',\n",
       "                                                                     sparse=False),\n",
       "                                           variables=['Pclass', 'Sex',\n",
       "                                                      'Embarked', 'Parch',\n",
       "                                                      'SibSp'])),\n",
       "                ('normalizer',\n",
       "                 SklearnTransformerWrapper(transformer=MinMaxScaler(),\n",
       "                                           variables=['Age', 'Fare']))])"
      ]
     },
     "execution_count": 16,
     "metadata": {},
     "output_type": "execute_result"
    }
   ],
   "source": [
    "# You can also use SklearnTransformerWrapper inplace of ColumnTransformer\n",
    "# The only caveat is that it does NOT support sparse=True\n",
    "# for the OneHotEncoder transformer\n",
    "column_transf = ColumnTransformer(\n",
    "    transformers=[\n",
    "        # === OHE ===\n",
    "        (\"ohe\", OneHotEncoder(dtype=int, handle_unknown=\"ignore\"), vars_to_ohe),\n",
    "        # === Normalize ===\n",
    "        (\"normalizer\", MinMaxScaler(), vars_to_transform),\n",
    "    ],\n",
    "    remainder=\"passthrough\",\n",
    ")\n",
    "\n",
    "processor_pipe = Pipeline(\n",
    "    steps=[\n",
    "        # === Drop variables ===\n",
    "        (\"drop_vars\", DropFeatures(features_to_drop=vars_to_drop)),\n",
    "        # === Replace NaNs with median ===\n",
    "        (\n",
    "            \"vars_wf_na_median\",\n",
    "            MeanMedianImputer(imputation_method=\"median\", variables=vars_wf_na_median),\n",
    "        ),\n",
    "        # === Replace NaNs with most frequent ===\n",
    "        (\"vars_wf_na_most_freq\", CategoricalImputer(imputation_method=\"frequent\")),\n",
    "        # === Add flags for variables with NaNs ===\n",
    "        (\n",
    "            \"nan_flag\",\n",
    "            AddMissingIndicator(variables=vars_wf_na_median + vars_wf_na_most_freq),\n",
    "        ),\n",
    "        # === Remove rare labels ===\n",
    "        (\n",
    "            \"vars_wf_rare_labels\",\n",
    "            RareLabelEncoder(\n",
    "                tol=RARE_LABEL_THRESH,\n",
    "                n_categories=5,\n",
    "                variables=vars_wf_rare_labels,\n",
    "                ignore_format=True,\n",
    "            ),\n",
    "        ),\n",
    "        # === Column Transformer ===\n",
    "        (\n",
    "            \"ohe\",\n",
    "            SklearnTransformerWrapper(\n",
    "                transformer=OneHotEncoder(\n",
    "                    dtype=int, handle_unknown=\"ignore\", sparse=False\n",
    "                ),\n",
    "                variables=vars_to_ohe,\n",
    "            ),\n",
    "        ),\n",
    "        (\n",
    "            \"normalizer\",\n",
    "            SklearnTransformerWrapper(\n",
    "                transformer=MinMaxScaler(), variables=vars_to_transform\n",
    "            ),\n",
    "        ),\n",
    "    ]\n",
    ")\n",
    "\n",
    "processor_pipe"
   ]
  },
  {
   "cell_type": "code",
   "execution_count": 17,
   "metadata": {},
   "outputs": [
    {
     "data": {
      "text/plain": [
       "((891, 17), (891,))"
      ]
     },
     "execution_count": 17,
     "metadata": {},
     "output_type": "execute_result"
    }
   ],
   "source": [
    "df = processor_pipe.fit_transform(data)\n",
    "\n",
    "X = df.drop(columns=[target])\n",
    "y = df[target]\n",
    "\n",
    "X.shape, y.shape"
   ]
  },
  {
   "cell_type": "code",
   "execution_count": 18,
   "metadata": {},
   "outputs": [
    {
     "data": {
      "text/html": [
       "<div>\n",
       "<style scoped>\n",
       "    .dataframe tbody tr th:only-of-type {\n",
       "        vertical-align: middle;\n",
       "    }\n",
       "\n",
       "    .dataframe tbody tr th {\n",
       "        vertical-align: top;\n",
       "    }\n",
       "\n",
       "    .dataframe thead th {\n",
       "        text-align: right;\n",
       "    }\n",
       "</style>\n",
       "<table border=\"1\" class=\"dataframe\">\n",
       "  <thead>\n",
       "    <tr style=\"text-align: right;\">\n",
       "      <th></th>\n",
       "      <th>Age</th>\n",
       "      <th>Fare</th>\n",
       "      <th>Pclass_1</th>\n",
       "      <th>Pclass_2</th>\n",
       "      <th>Pclass_3</th>\n",
       "      <th>Sex_female</th>\n",
       "      <th>Sex_male</th>\n",
       "      <th>Embarked_C</th>\n",
       "      <th>Embarked_Q</th>\n",
       "      <th>Embarked_S</th>\n",
       "      <th>Parch_0</th>\n",
       "      <th>Parch_1</th>\n",
       "      <th>Parch_2</th>\n",
       "      <th>Parch_Rare</th>\n",
       "      <th>SibSp_0</th>\n",
       "      <th>SibSp_1</th>\n",
       "      <th>SibSp_Rare</th>\n",
       "    </tr>\n",
       "  </thead>\n",
       "  <tbody>\n",
       "    <tr>\n",
       "      <th>0</th>\n",
       "      <td>0.271174</td>\n",
       "      <td>0.014151</td>\n",
       "      <td>0</td>\n",
       "      <td>0</td>\n",
       "      <td>1</td>\n",
       "      <td>0</td>\n",
       "      <td>1</td>\n",
       "      <td>0</td>\n",
       "      <td>0</td>\n",
       "      <td>1</td>\n",
       "      <td>1</td>\n",
       "      <td>0</td>\n",
       "      <td>0</td>\n",
       "      <td>0</td>\n",
       "      <td>0</td>\n",
       "      <td>1</td>\n",
       "      <td>0</td>\n",
       "    </tr>\n",
       "    <tr>\n",
       "      <th>1</th>\n",
       "      <td>0.472229</td>\n",
       "      <td>0.139136</td>\n",
       "      <td>1</td>\n",
       "      <td>0</td>\n",
       "      <td>0</td>\n",
       "      <td>1</td>\n",
       "      <td>0</td>\n",
       "      <td>1</td>\n",
       "      <td>0</td>\n",
       "      <td>0</td>\n",
       "      <td>1</td>\n",
       "      <td>0</td>\n",
       "      <td>0</td>\n",
       "      <td>0</td>\n",
       "      <td>0</td>\n",
       "      <td>1</td>\n",
       "      <td>0</td>\n",
       "    </tr>\n",
       "    <tr>\n",
       "      <th>2</th>\n",
       "      <td>0.321438</td>\n",
       "      <td>0.015469</td>\n",
       "      <td>0</td>\n",
       "      <td>0</td>\n",
       "      <td>1</td>\n",
       "      <td>1</td>\n",
       "      <td>0</td>\n",
       "      <td>0</td>\n",
       "      <td>0</td>\n",
       "      <td>1</td>\n",
       "      <td>1</td>\n",
       "      <td>0</td>\n",
       "      <td>0</td>\n",
       "      <td>0</td>\n",
       "      <td>1</td>\n",
       "      <td>0</td>\n",
       "      <td>0</td>\n",
       "    </tr>\n",
       "    <tr>\n",
       "      <th>3</th>\n",
       "      <td>0.434531</td>\n",
       "      <td>0.103644</td>\n",
       "      <td>1</td>\n",
       "      <td>0</td>\n",
       "      <td>0</td>\n",
       "      <td>1</td>\n",
       "      <td>0</td>\n",
       "      <td>0</td>\n",
       "      <td>0</td>\n",
       "      <td>1</td>\n",
       "      <td>1</td>\n",
       "      <td>0</td>\n",
       "      <td>0</td>\n",
       "      <td>0</td>\n",
       "      <td>0</td>\n",
       "      <td>1</td>\n",
       "      <td>0</td>\n",
       "    </tr>\n",
       "    <tr>\n",
       "      <th>4</th>\n",
       "      <td>0.434531</td>\n",
       "      <td>0.015713</td>\n",
       "      <td>0</td>\n",
       "      <td>0</td>\n",
       "      <td>1</td>\n",
       "      <td>0</td>\n",
       "      <td>1</td>\n",
       "      <td>0</td>\n",
       "      <td>0</td>\n",
       "      <td>1</td>\n",
       "      <td>1</td>\n",
       "      <td>0</td>\n",
       "      <td>0</td>\n",
       "      <td>0</td>\n",
       "      <td>1</td>\n",
       "      <td>0</td>\n",
       "      <td>0</td>\n",
       "    </tr>\n",
       "  </tbody>\n",
       "</table>\n",
       "</div>"
      ],
      "text/plain": [
       "        Age      Fare  Pclass_1  Pclass_2  Pclass_3  Sex_female  Sex_male  \\\n",
       "0  0.271174  0.014151         0         0         1           0         1   \n",
       "1  0.472229  0.139136         1         0         0           1         0   \n",
       "2  0.321438  0.015469         0         0         1           1         0   \n",
       "3  0.434531  0.103644         1         0         0           1         0   \n",
       "4  0.434531  0.015713         0         0         1           0         1   \n",
       "\n",
       "   Embarked_C  Embarked_Q  Embarked_S  Parch_0  Parch_1  Parch_2  Parch_Rare  \\\n",
       "0           0           0           1        1        0        0           0   \n",
       "1           1           0           0        1        0        0           0   \n",
       "2           0           0           1        1        0        0           0   \n",
       "3           0           0           1        1        0        0           0   \n",
       "4           0           0           1        1        0        0           0   \n",
       "\n",
       "   SibSp_0  SibSp_1  SibSp_Rare  \n",
       "0        0        1           0  \n",
       "1        0        1           0  \n",
       "2        1        0           0  \n",
       "3        0        1           0  \n",
       "4        1        0           0  "
      ]
     },
     "execution_count": 18,
     "metadata": {},
     "output_type": "execute_result"
    }
   ],
   "source": [
    "X.head()"
   ]
  },
  {
   "attachments": {},
   "cell_type": "markdown",
   "metadata": {},
   "source": [
    "#### Search for the hyperparameters that reduce the `False Negative Rate`."
   ]
  },
  {
   "cell_type": "code",
   "execution_count": 19,
   "metadata": {},
   "outputs": [
    {
     "name": "stdout",
     "output_type": "stream",
     "text": [
      "Fitting 5 folds for each of 32 candidates, totalling 160 fits\n",
      "[CV 1/5] END .....max_depth=1, n_estimators=10;, score=-0.478 total time=   0.0s\n",
      "[CV 2/5] END .....max_depth=1, n_estimators=10;, score=-0.456 total time=   0.1s\n",
      "[CV 3/5] END .....max_depth=1, n_estimators=10;, score=-0.382 total time=   0.1s\n",
      "[CV 4/5] END .....max_depth=1, n_estimators=10;, score=-0.471 total time=   0.1s\n",
      "[CV 5/5] END .....max_depth=1, n_estimators=10;, score=-0.435 total time=   0.1s\n",
      "[CV 1/5] END .....max_depth=1, n_estimators=20;, score=-0.522 total time=   0.1s\n",
      "[CV 3/5] END .....max_depth=1, n_estimators=50;, score=-0.338 total time=   0.3s\n",
      "[CV 2/5] END .....max_depth=1, n_estimators=20;, score=-0.368 total time=   0.1s\n",
      "[CV 3/5] END .....max_depth=1, n_estimators=20;, score=-0.426 total time=   0.1s\n",
      "[CV 4/5] END .....max_depth=1, n_estimators=20;, score=-0.456 total time=   0.1s\n",
      "[CV 4/5] END .....max_depth=1, n_estimators=50;, score=-0.412 total time=   0.3s\n",
      "[CV 5/5] END .....max_depth=1, n_estimators=50;, score=-0.377 total time=   0.3s\n",
      "[CV 5/5] END .....max_depth=1, n_estimators=20;, score=-0.391 total time=   0.1s\n",
      "[CV 1/5] END .....max_depth=1, n_estimators=50;, score=-0.478 total time=   0.2s\n",
      "[CV 2/5] END .....max_depth=1, n_estimators=50;, score=-0.368 total time=   0.2s\n",
      "[CV 1/5] END ....max_depth=1, n_estimators=100;, score=-0.464 total time=   0.5s\n",
      "[CV 2/5] END ....max_depth=1, n_estimators=100;, score=-0.368 total time=   0.5s\n",
      "[CV 3/5] END ....max_depth=1, n_estimators=100;, score=-0.309 total time=   0.5s\n",
      "[CV 4/5] END ....max_depth=1, n_estimators=100;, score=-0.412 total time=   0.4s\n",
      "[CV 5/5] END ....max_depth=1, n_estimators=100;, score=-0.333 total time=   0.4s\n",
      "[CV 1/5] END ....max_depth=1, n_estimators=200;, score=-0.565 total time=   0.8s\n",
      "[CV 2/5] END ....max_depth=1, n_estimators=200;, score=-0.368 total time=   0.8s\n",
      "[CV 3/5] END ....max_depth=1, n_estimators=200;, score=-0.426 total time=   0.8s\n",
      "[CV 4/5] END ....max_depth=1, n_estimators=200;, score=-0.500 total time=   0.8s\n",
      "[CV 5/5] END ....max_depth=1, n_estimators=200;, score=-0.435 total time=   0.8s\n",
      "[CV 1/5] END ....max_depth=1, n_estimators=500;, score=-0.507 total time=   2.1s\n",
      "[CV 2/5] END ....max_depth=1, n_estimators=500;, score=-0.368 total time=   2.1s\n",
      "[CV 4/5] END ....max_depth=1, n_estimators=500;, score=-0.500 total time=   2.1s\n",
      "[CV 3/5] END ....max_depth=1, n_estimators=500;, score=-0.382 total time=   2.1s\n",
      "[CV 1/5] END .....max_depth=2, n_estimators=10;, score=-0.464 total time=   0.1s\n",
      "[CV 5/5] END ....max_depth=1, n_estimators=500;, score=-0.420 total time=   2.2s\n",
      "[CV 2/5] END .....max_depth=2, n_estimators=10;, score=-0.456 total time=   0.1s\n",
      "[CV 3/5] END .....max_depth=2, n_estimators=10;, score=-0.368 total time=   0.0s\n",
      "[CV 4/5] END .....max_depth=2, n_estimators=10;, score=-0.412 total time=   0.1s\n",
      "[CV 5/5] END .....max_depth=2, n_estimators=10;, score=-0.420 total time=   0.1s\n",
      "[CV 1/5] END .....max_depth=2, n_estimators=20;, score=-0.464 total time=   0.1s\n",
      "[CV 2/5] END .....max_depth=2, n_estimators=20;, score=-0.382 total time=   0.1s\n",
      "[CV 4/5] END .....max_depth=2, n_estimators=20;, score=-0.412 total time=   0.1s\n",
      "[CV 3/5] END .....max_depth=2, n_estimators=20;, score=-0.309 total time=   0.1s\n",
      "[CV 5/5] END .....max_depth=2, n_estimators=20;, score=-0.391 total time=   0.1s\n",
      "[CV 1/5] END .....max_depth=2, n_estimators=50;, score=-0.464 total time=   0.2s\n",
      "[CV 2/5] END .....max_depth=2, n_estimators=50;, score=-0.309 total time=   0.2s\n",
      "[CV 3/5] END .....max_depth=2, n_estimators=50;, score=-0.309 total time=   0.2s\n",
      "[CV 4/5] END .....max_depth=2, n_estimators=50;, score=-0.412 total time=   0.3s\n",
      "[CV 5/5] END .....max_depth=2, n_estimators=50;, score=-0.333 total time=   0.3s\n",
      "[CV 1/5] END ....max_depth=2, n_estimators=100;, score=-0.478 total time=   0.5s\n",
      "[CV 2/5] END ....max_depth=2, n_estimators=100;, score=-0.309 total time=   0.5s\n",
      "[CV 3/5] END ....max_depth=2, n_estimators=100;, score=-0.309 total time=   0.5s\n",
      "[CV 4/5] END ....max_depth=2, n_estimators=100;, score=-0.412 total time=   0.4s\n",
      "[CV 1/5] END ...max_depth=1, n_estimators=1000;, score=-0.493 total time=   4.4s\n",
      "[CV 5/5] END ....max_depth=2, n_estimators=100;, score=-0.333 total time=   0.4s\n",
      "[CV 2/5] END ...max_depth=1, n_estimators=1000;, score=-0.368 total time=   4.4s\n",
      "[CV 3/5] END ...max_depth=1, n_estimators=1000;, score=-0.382 total time=   4.4s\n",
      "[CV 5/5] END ...max_depth=1, n_estimators=1000;, score=-0.391 total time=   4.4s\n",
      "[CV 4/5] END ...max_depth=1, n_estimators=1000;, score=-0.500 total time=   4.4s\n",
      "[CV 1/5] END ....max_depth=2, n_estimators=200;, score=-0.507 total time=   0.9s\n",
      "[CV 2/5] END ....max_depth=2, n_estimators=200;, score=-0.368 total time=   0.9s\n",
      "[CV 3/5] END ....max_depth=2, n_estimators=200;, score=-0.338 total time=   0.9s\n",
      "[CV 4/5] END ....max_depth=2, n_estimators=200;, score=-0.456 total time=   0.9s\n",
      "[CV 5/5] END ....max_depth=2, n_estimators=200;, score=-0.377 total time=   0.8s\n",
      "[CV 1/5] END ....max_depth=2, n_estimators=500;, score=-0.478 total time=   2.0s\n",
      "[CV 2/5] END ....max_depth=2, n_estimators=500;, score=-0.309 total time=   2.0s\n",
      "[CV 3/5] END ....max_depth=2, n_estimators=500;, score=-0.309 total time=   2.1s\n",
      "[CV 4/5] END ....max_depth=2, n_estimators=500;, score=-0.412 total time=   2.1s\n",
      "[CV 5/5] END ....max_depth=2, n_estimators=500;, score=-0.362 total time=   2.1s\n",
      "[CV 1/5] END ...max_depth=1, n_estimators=2000;, score=-0.493 total time=   8.7s\n",
      "[CV 2/5] END ...max_depth=1, n_estimators=2000;, score=-0.368 total time=   8.9s\n",
      "[CV 1/5] END ...max_depth=2, n_estimators=1000;, score=-0.464 total time=   4.5s\n",
      "[CV 2/5] END ...max_depth=2, n_estimators=1000;, score=-0.309 total time=   4.6s\n",
      "[CV 1/5] END .....max_depth=3, n_estimators=10;, score=-0.420 total time=   0.1s\n",
      "[CV 2/5] END .....max_depth=3, n_estimators=10;, score=-0.426 total time=   0.1s\n",
      "[CV 3/5] END .....max_depth=3, n_estimators=10;, score=-0.279 total time=   0.1s\n",
      "[CV 4/5] END .....max_depth=3, n_estimators=10;, score=-0.485 total time=   0.1s\n",
      "[CV 5/5] END .....max_depth=3, n_estimators=10;, score=-0.319 total time=   0.0s\n",
      "[CV 1/5] END .....max_depth=3, n_estimators=20;, score=-0.348 total time=   0.1s\n",
      "[CV 2/5] END .....max_depth=3, n_estimators=20;, score=-0.353 total time=   0.1s\n",
      "[CV 4/5] END ...max_depth=1, n_estimators=2000;, score=-0.500 total time=   8.8s\n",
      "[CV 3/5] END .....max_depth=3, n_estimators=20;, score=-0.265 total time=   0.1s\n",
      "[CV 3/5] END ...max_depth=1, n_estimators=2000;, score=-0.382 total time=   8.9s\n",
      "[CV 4/5] END .....max_depth=3, n_estimators=20;, score=-0.456 total time=   0.1s\n",
      "[CV 5/5] END ...max_depth=1, n_estimators=2000;, score=-0.391 total time=   8.9s\n",
      "[CV 5/5] END .....max_depth=3, n_estimators=20;, score=-0.319 total time=   0.1s\n",
      "[CV 1/5] END .....max_depth=3, n_estimators=50;, score=-0.333 total time=   0.2s\n",
      "[CV 2/5] END .....max_depth=3, n_estimators=50;, score=-0.294 total time=   0.2s\n",
      "[CV 3/5] END .....max_depth=3, n_estimators=50;, score=-0.309 total time=   0.2s\n",
      "[CV 4/5] END .....max_depth=3, n_estimators=50;, score=-0.412 total time=   0.2s\n",
      "[CV 5/5] END .....max_depth=3, n_estimators=50;, score=-0.319 total time=   0.2s\n",
      "[CV 3/5] END ...max_depth=2, n_estimators=1000;, score=-0.309 total time=   4.6s\n",
      "[CV 1/5] END ....max_depth=3, n_estimators=100;, score=-0.377 total time=   0.4s\n",
      "[CV 2/5] END ....max_depth=3, n_estimators=100;, score=-0.309 total time=   0.4s\n",
      "[CV 4/5] END ...max_depth=2, n_estimators=1000;, score=-0.412 total time=   4.6s\n",
      "[CV 3/5] END ....max_depth=3, n_estimators=100;, score=-0.309 total time=   0.4s\n",
      "[CV 5/5] END ...max_depth=2, n_estimators=1000;, score=-0.333 total time=   4.6s\n",
      "[CV 4/5] END ....max_depth=3, n_estimators=100;, score=-0.412 total time=   0.4s\n",
      "[CV 5/5] END ....max_depth=3, n_estimators=100;, score=-0.333 total time=   0.5s\n",
      "[CV 1/5] END ....max_depth=3, n_estimators=200;, score=-0.377 total time=   0.9s\n",
      "[CV 2/5] END ....max_depth=3, n_estimators=200;, score=-0.294 total time=   0.9s\n",
      "[CV 3/5] END ....max_depth=3, n_estimators=200;, score=-0.309 total time=   0.9s\n",
      "[CV 4/5] END ....max_depth=3, n_estimators=200;, score=-0.412 total time=   0.8s\n",
      "[CV 5/5] END ....max_depth=3, n_estimators=200;, score=-0.362 total time=   0.8s\n",
      "[CV 1/5] END ....max_depth=3, n_estimators=500;, score=-0.362 total time=   2.5s\n",
      "[CV 2/5] END ....max_depth=3, n_estimators=500;, score=-0.279 total time=   2.5s\n",
      "[CV 3/5] END ....max_depth=3, n_estimators=500;, score=-0.309 total time=   2.7s\n",
      "[CV 5/5] END ....max_depth=3, n_estimators=500;, score=-0.333 total time=   2.7s\n",
      "[CV 4/5] END ....max_depth=3, n_estimators=500;, score=-0.412 total time=   2.7s\n",
      "[CV 1/5] END ...max_depth=2, n_estimators=2000;, score=-0.449 total time=   9.6s\n",
      "[CV 2/5] END ...max_depth=2, n_estimators=2000;, score=-0.309 total time=   9.7s\n",
      "[CV 1/5] END ...max_depth=3, n_estimators=1000;, score=-0.377 total time=   5.3s\n",
      "[CV 2/5] END ...max_depth=3, n_estimators=1000;, score=-0.279 total time=   5.3s\n",
      "[CV 1/5] END .....max_depth=4, n_estimators=10;, score=-0.319 total time=   0.1s\n",
      "[CV 2/5] END .....max_depth=4, n_estimators=10;, score=-0.294 total time=   0.1s\n",
      "[CV 3/5] END .....max_depth=4, n_estimators=10;, score=-0.309 total time=   0.1s\n",
      "[CV 4/5] END .....max_depth=4, n_estimators=10;, score=-0.426 total time=   0.1s\n",
      "[CV 5/5] END .....max_depth=4, n_estimators=10;, score=-0.348 total time=   0.1s\n",
      "[CV 1/5] END .....max_depth=4, n_estimators=20;, score=-0.319 total time=   0.1s\n",
      "[CV 2/5] END .....max_depth=4, n_estimators=20;, score=-0.294 total time=   0.2s\n",
      "[CV 3/5] END .....max_depth=4, n_estimators=20;, score=-0.279 total time=   0.2s\n",
      "[CV 4/5] END .....max_depth=4, n_estimators=20;, score=-0.412 total time=   0.2s\n",
      "[CV 5/5] END .....max_depth=4, n_estimators=20;, score=-0.333 total time=   0.1s\n",
      "[CV 3/5] END ...max_depth=2, n_estimators=2000;, score=-0.309 total time=   9.9s\n",
      "[CV 1/5] END .....max_depth=4, n_estimators=50;, score=-0.377 total time=   0.2s\n",
      "[CV 4/5] END ...max_depth=2, n_estimators=2000;, score=-0.412 total time=   9.9s\n",
      "[CV 2/5] END .....max_depth=4, n_estimators=50;, score=-0.294 total time=   0.2s\n",
      "[CV 3/5] END .....max_depth=4, n_estimators=50;, score=-0.309 total time=   0.2s\n",
      "[CV 4/5] END .....max_depth=4, n_estimators=50;, score=-0.412 total time=   0.2s\n",
      "[CV 5/5] END .....max_depth=4, n_estimators=50;, score=-0.319 total time=   0.2s\n",
      "[CV 3/5] END ...max_depth=3, n_estimators=1000;, score=-0.309 total time=   5.2s\n",
      "[CV 5/5] END ...max_depth=2, n_estimators=2000;, score=-0.333 total time=   9.8s\n",
      "[CV 4/5] END ...max_depth=3, n_estimators=1000;, score=-0.412 total time=   5.2s\n",
      "[CV 1/5] END ....max_depth=4, n_estimators=100;, score=-0.362 total time=   0.4s\n",
      "[CV 2/5] END ....max_depth=4, n_estimators=100;, score=-0.294 total time=   0.4s\n",
      "[CV 3/5] END ....max_depth=4, n_estimators=100;, score=-0.294 total time=   0.4s\n",
      "[CV 4/5] END ....max_depth=4, n_estimators=100;, score=-0.397 total time=   0.4s\n",
      "[CV 5/5] END ....max_depth=4, n_estimators=100;, score=-0.319 total time=   0.4s\n",
      "[CV 5/5] END ...max_depth=3, n_estimators=1000;, score=-0.348 total time=   5.0s\n",
      "[CV 1/5] END ....max_depth=4, n_estimators=200;, score=-0.348 total time=   0.8s\n",
      "[CV 2/5] END ....max_depth=4, n_estimators=200;, score=-0.294 total time=   0.8s\n",
      "[CV 3/5] END ....max_depth=4, n_estimators=200;, score=-0.309 total time=   0.8s\n",
      "[CV 4/5] END ....max_depth=4, n_estimators=200;, score=-0.397 total time=   0.8s\n",
      "[CV 5/5] END ....max_depth=4, n_estimators=200;, score=-0.319 total time=   0.8s\n",
      "[CV 1/5] END ....max_depth=4, n_estimators=500;, score=-0.348 total time=   1.9s\n",
      "[CV 2/5] END ....max_depth=4, n_estimators=500;, score=-0.294 total time=   2.0s\n",
      "[CV 3/5] END ....max_depth=4, n_estimators=500;, score=-0.294 total time=   1.9s\n",
      "[CV 4/5] END ....max_depth=4, n_estimators=500;, score=-0.412 total time=   2.0s\n",
      "[CV 5/5] END ....max_depth=4, n_estimators=500;, score=-0.319 total time=   2.0s\n",
      "[CV 2/5] END ...max_depth=3, n_estimators=2000;, score=-0.279 total time=   8.9s\n",
      "[CV 1/5] END ...max_depth=3, n_estimators=2000;, score=-0.362 total time=   9.0s\n",
      "[CV 1/5] END ...max_depth=4, n_estimators=1000;, score=-0.348 total time=   4.0s\n",
      "[CV 2/5] END ...max_depth=4, n_estimators=1000;, score=-0.309 total time=   4.0s\n",
      "[CV 3/5] END ...max_depth=3, n_estimators=2000;, score=-0.309 total time=   8.4s\n",
      "[CV 4/5] END ...max_depth=3, n_estimators=2000;, score=-0.412 total time=   8.3s\n",
      "[CV 5/5] END ...max_depth=3, n_estimators=2000;, score=-0.348 total time=   8.1s\n",
      "[CV 3/5] END ...max_depth=4, n_estimators=1000;, score=-0.294 total time=   3.9s\n",
      "[CV 4/5] END ...max_depth=4, n_estimators=1000;, score=-0.412 total time=   3.8s\n",
      "[CV 5/5] END ...max_depth=4, n_estimators=1000;, score=-0.319 total time=   3.7s\n",
      "[CV 1/5] END ...max_depth=4, n_estimators=2000;, score=-0.348 total time=   5.8s\n",
      "[CV 2/5] END ...max_depth=4, n_estimators=2000;, score=-0.324 total time=   5.9s\n",
      "[CV 3/5] END ...max_depth=4, n_estimators=2000;, score=-0.294 total time=   5.2s\n",
      "[CV 4/5] END ...max_depth=4, n_estimators=2000;, score=-0.412 total time=   5.1s\n",
      "[CV 5/5] END ...max_depth=4, n_estimators=2000;, score=-0.304 total time=   4.8s\n"
     ]
    },
    {
     "data": {
      "text/plain": [
       "{'max_depth': 4, 'n_estimators': 20}"
      ]
     },
     "execution_count": 19,
     "metadata": {},
     "output_type": "execute_result"
    }
   ],
   "source": [
    "# Grid Search\n",
    "rf_model = RandomForestClassifier(random_state=RANDOM_STATE)\n",
    "\n",
    "# Hyperparameter space\n",
    "rf_param_grid = dict(\n",
    "    n_estimators=[10, 20, 50, 100, 200, 500, 1000, 2000],\n",
    "    max_depth=[1, 2, 3, 4],\n",
    ")\n",
    "\n",
    "# Search\n",
    "clf = GridSearchCV(\n",
    "    rf_model,\n",
    "    rf_param_grid,\n",
    "    scoring=FNR_score,\n",
    "    cv=5,\n",
    "    verbose=3,\n",
    "    n_jobs=-1,\n",
    ")\n",
    "\n",
    "search_grid = clf.fit(X, y)\n",
    "\n",
    "# Best hyperparameters\n",
    "search_grid.best_params_"
   ]
  },
  {
   "cell_type": "code",
   "execution_count": 20,
   "metadata": {},
   "outputs": [
    {
     "name": "stdout",
     "output_type": "stream",
     "text": [
      "['mean_fit_time', 'std_fit_time', 'mean_score_time', 'std_score_time', 'param_max_depth', 'param_n_estimators', 'params', 'split0_test_score', 'split1_test_score', 'split2_test_score', 'split3_test_score', 'split4_test_score', 'mean_test_score', 'std_test_score', 'rank_test_score']\n"
     ]
    }
   ],
   "source": [
    "print([*search_grid.cv_results_.keys()])"
   ]
  },
  {
   "cell_type": "code",
   "execution_count": 21,
   "metadata": {},
   "outputs": [
    {
     "data": {
      "text/html": [
       "<div>\n",
       "<style scoped>\n",
       "    .dataframe tbody tr th:only-of-type {\n",
       "        vertical-align: middle;\n",
       "    }\n",
       "\n",
       "    .dataframe tbody tr th {\n",
       "        vertical-align: top;\n",
       "    }\n",
       "\n",
       "    .dataframe thead th {\n",
       "        text-align: right;\n",
       "    }\n",
       "</style>\n",
       "<table border=\"1\" class=\"dataframe\">\n",
       "  <thead>\n",
       "    <tr style=\"text-align: right;\">\n",
       "      <th></th>\n",
       "      <th>params</th>\n",
       "      <th>mean_test_score</th>\n",
       "      <th>std_test_score</th>\n",
       "    </tr>\n",
       "  </thead>\n",
       "  <tbody>\n",
       "    <tr>\n",
       "      <th>0</th>\n",
       "      <td>{'max_depth': 4, 'n_estimators': 20}</td>\n",
       "      <td>-0.327494</td>\n",
       "      <td>0.046122</td>\n",
       "    </tr>\n",
       "    <tr>\n",
       "      <th>1</th>\n",
       "      <td>{'max_depth': 4, 'n_estimators': 100}</td>\n",
       "      <td>-0.333291</td>\n",
       "      <td>0.040464</td>\n",
       "    </tr>\n",
       "    <tr>\n",
       "      <th>2</th>\n",
       "      <td>{'max_depth': 4, 'n_estimators': 200}</td>\n",
       "      <td>-0.333333</td>\n",
       "      <td>0.036386</td>\n",
       "    </tr>\n",
       "    <tr>\n",
       "      <th>3</th>\n",
       "      <td>{'max_depth': 4, 'n_estimators': 500}</td>\n",
       "      <td>-0.333333</td>\n",
       "      <td>0.043926</td>\n",
       "    </tr>\n",
       "    <tr>\n",
       "      <th>4</th>\n",
       "      <td>{'max_depth': 3, 'n_estimators': 50}</td>\n",
       "      <td>-0.333376</td>\n",
       "      <td>0.041231</td>\n",
       "    </tr>\n",
       "  </tbody>\n",
       "</table>\n",
       "</div>"
      ],
      "text/plain": [
       "                                  params  mean_test_score  std_test_score\n",
       "0   {'max_depth': 4, 'n_estimators': 20}        -0.327494        0.046122\n",
       "1  {'max_depth': 4, 'n_estimators': 100}        -0.333291        0.040464\n",
       "2  {'max_depth': 4, 'n_estimators': 200}        -0.333333        0.036386\n",
       "3  {'max_depth': 4, 'n_estimators': 500}        -0.333333        0.043926\n",
       "4   {'max_depth': 3, 'n_estimators': 50}        -0.333376        0.041231"
      ]
     },
     "execution_count": 21,
     "metadata": {},
     "output_type": "execute_result"
    }
   ],
   "source": [
    "imp_vars = [\"params\", \"mean_test_score\", \"std_test_score\"]\n",
    "results = pd.DataFrame(search_grid.cv_results_)[imp_vars]\n",
    "\n",
    "# Sort the mean_test_scores in descending order and reset the index.\n",
    "results.sort_values(by=\"mean_test_score\", ascending=False, inplace=True)\n",
    "results.reset_index(drop=True, inplace=True)\n",
    "\n",
    "results.head()"
   ]
  },
  {
   "cell_type": "code",
   "execution_count": 22,
   "metadata": {},
   "outputs": [
    {
     "data": {
      "image/png": "[encoded data removed]",
      "text/plain": [
       "<Figure size 640x480 with 1 Axes>"
      ]
     },
     "metadata": {},
     "output_type": "display_data"
    }
   ],
   "source": [
    "results[\"mean_test_score\"].plot(\n",
    "    yerr=results[\"std_test_score\"],\n",
    "    xlabel=\"Hyperparameter Space\",\n",
    "    ylabel=\"Mean False Negative Rate\",\n",
    "    ylim=(-0.6, -0.25),\n",
    ")\n",
    "\n",
    "plt.show()"
   ]
  },
  {
   "attachments": {},
   "cell_type": "markdown",
   "metadata": {},
   "source": [
    "#### 2nd Approach\n",
    "\n",
    "* FNR with the predictions as probabilities."
   ]
  },
  {
   "cell_type": "code",
   "execution_count": 23,
   "metadata": {},
   "outputs": [
    {
     "data": {
      "text/plain": [
       "array([0.3 , 0.  , 0.15])"
      ]
     },
     "execution_count": 23,
     "metadata": {},
     "output_type": "execute_result"
    }
   ],
   "source": [
    "y_proba = pipe.predict_proba(X_validation)[:, 1]\n",
    "y_proba[:3]"
   ]
  },
  {
   "cell_type": "code",
   "execution_count": 24,
   "metadata": {},
   "outputs": [
    {
     "data": {
      "text/plain": [
       "(0    0.610955\n",
       " 1    0.389045\n",
       " Name: Survived, dtype: float64,\n",
       " 0.3890449438202247)"
      ]
     },
     "execution_count": 24,
     "metadata": {},
     "output_type": "execute_result"
    }
   ],
   "source": [
    "y_train.value_counts(normalize=True), y_train.value_counts(normalize=True).values[1]"
   ]
  },
  {
   "cell_type": "code",
   "execution_count": 25,
   "metadata": {},
   "outputs": [],
   "source": [
    "def calculate_FNR_proba(y_true: np.ndarray, y_pred: np.ndarray) -> float:\n",
    "    \"\"\"This takes the predictions as probabilities and\n",
    "    returns the False Negative Rate.\n",
    "    i.e FNR = (FN) / (FN + TP)\n",
    "    \"\"\"\n",
    "    THRESH = 0.39\n",
    "    y_pred = np.where(y_pred > THRESH, 1, 0)\n",
    "    TN, FP, FN, TP = confusion_matrix(y_true, y_pred, labels=[0, 1]).flatten()\n",
    "    FNR = np.divide(FN, np.add(FN, TP))\n",
    "    return FNR\n",
    "\n",
    "\n",
    "# Create custom scorer\n",
    "FNR_score_proba = make_scorer(\n",
    "    score_func=calculate_FNR_proba,\n",
    "    greater_is_better=False,\n",
    "    needs_proba=True,  # requires probability\n",
    ")"
   ]
  },
  {
   "cell_type": "code",
   "execution_count": 26,
   "metadata": {},
   "outputs": [
    {
     "data": {
      "text/plain": [
       "{'max_depth': 4, 'n_estimators': 10}"
      ]
     },
     "execution_count": 26,
     "metadata": {},
     "output_type": "execute_result"
    }
   ],
   "source": [
    "# Grid Search\n",
    "rf_model = RandomForestClassifier(random_state=RANDOM_STATE)\n",
    "\n",
    "# Hyperparameter space\n",
    "rf_param_grid = dict(\n",
    "    n_estimators=[10, 20, 50, 100, 200, 500, 1000, 2000],\n",
    "    max_depth=[1, 2, 3, 4],\n",
    ")\n",
    "\n",
    "# Search\n",
    "clf = GridSearchCV(\n",
    "    rf_model,\n",
    "    rf_param_grid,\n",
    "    scoring=FNR_score_proba,\n",
    "    cv=5,\n",
    "    verbose=0,\n",
    "    n_jobs=-1,\n",
    ")\n",
    "\n",
    "search_grid = clf.fit(X, y)\n",
    "\n",
    "# Best hyperparameters\n",
    "search_grid.best_params_"
   ]
  },
  {
   "cell_type": "code",
   "execution_count": 27,
   "metadata": {},
   "outputs": [
    {
     "data": {
      "text/html": [
       "<div>\n",
       "<style scoped>\n",
       "    .dataframe tbody tr th:only-of-type {\n",
       "        vertical-align: middle;\n",
       "    }\n",
       "\n",
       "    .dataframe tbody tr th {\n",
       "        vertical-align: top;\n",
       "    }\n",
       "\n",
       "    .dataframe thead th {\n",
       "        text-align: right;\n",
       "    }\n",
       "</style>\n",
       "<table border=\"1\" class=\"dataframe\">\n",
       "  <thead>\n",
       "    <tr style=\"text-align: right;\">\n",
       "      <th></th>\n",
       "      <th>params</th>\n",
       "      <th>mean_test_score</th>\n",
       "      <th>std_test_score</th>\n",
       "    </tr>\n",
       "  </thead>\n",
       "  <tbody>\n",
       "    <tr>\n",
       "      <th>0</th>\n",
       "      <td>{'max_depth': 4, 'n_estimators': 10}</td>\n",
       "      <td>-0.234015</td>\n",
       "      <td>0.048639</td>\n",
       "    </tr>\n",
       "    <tr>\n",
       "      <th>1</th>\n",
       "      <td>{'max_depth': 4, 'n_estimators': 50}</td>\n",
       "      <td>-0.254518</td>\n",
       "      <td>0.072792</td>\n",
       "    </tr>\n",
       "    <tr>\n",
       "      <th>2</th>\n",
       "      <td>{'max_depth': 4, 'n_estimators': 20}</td>\n",
       "      <td>-0.254604</td>\n",
       "      <td>0.071829</td>\n",
       "    </tr>\n",
       "    <tr>\n",
       "      <th>3</th>\n",
       "      <td>{'max_depth': 4, 'n_estimators': 1000}</td>\n",
       "      <td>-0.257417</td>\n",
       "      <td>0.063867</td>\n",
       "    </tr>\n",
       "    <tr>\n",
       "      <th>4</th>\n",
       "      <td>{'max_depth': 3, 'n_estimators': 2000}</td>\n",
       "      <td>-0.257417</td>\n",
       "      <td>0.067699</td>\n",
       "    </tr>\n",
       "  </tbody>\n",
       "</table>\n",
       "</div>"
      ],
      "text/plain": [
       "                                   params  mean_test_score  std_test_score\n",
       "0    {'max_depth': 4, 'n_estimators': 10}        -0.234015        0.048639\n",
       "1    {'max_depth': 4, 'n_estimators': 50}        -0.254518        0.072792\n",
       "2    {'max_depth': 4, 'n_estimators': 20}        -0.254604        0.071829\n",
       "3  {'max_depth': 4, 'n_estimators': 1000}        -0.257417        0.063867\n",
       "4  {'max_depth': 3, 'n_estimators': 2000}        -0.257417        0.067699"
      ]
     },
     "execution_count": 27,
     "metadata": {},
     "output_type": "execute_result"
    }
   ],
   "source": [
    "imp_vars = [\"params\", \"mean_test_score\", \"std_test_score\"]\n",
    "results = pd.DataFrame(search_grid.cv_results_)[imp_vars]\n",
    "\n",
    "# Sort the mean_test_scores in descending order and reset the index.\n",
    "results.sort_values(by=\"mean_test_score\", ascending=False, inplace=True)\n",
    "results.reset_index(drop=True, inplace=True)\n",
    "\n",
    "results.head()"
   ]
  },
  {
   "attachments": {},
   "cell_type": "markdown",
   "metadata": {},
   "source": [
    "### Comment\n",
    "\n",
    "* Using the probability improved the performance. i.e from 0.33 to 0.23 (absolute value)\n",
    "* Lower is better!\n",
    "* A model with **FNR** of (0.234 +- 0.05) means that the **FNR** of the test/unseen data should be between `0.184` and `0.284`."
   ]
  },
  {
   "cell_type": "code",
   "execution_count": 28,
   "metadata": {},
   "outputs": [
    {
     "data": {
      "image/png": "[encoded data removed]",
      "text/plain": [
       "<Figure size 640x480 with 1 Axes>"
      ]
     },
     "metadata": {},
     "output_type": "display_data"
    }
   ],
   "source": [
    "results[\"mean_test_score\"].plot(\n",
    "    yerr=results[\"std_test_score\"],\n",
    "    xlabel=\"Hyperparameter Space\",\n",
    "    ylabel=\"Mean False Negative Rate\",\n",
    "    ylim=(-0.45, -0.1),\n",
    ")\n",
    "\n",
    "plt.show()"
   ]
  },
  {
   "cell_type": "code",
   "execution_count": 29,
   "metadata": {},
   "outputs": [
    {
     "data": {
      "image/png": "[encoded data removed]",
      "text/plain": [
       "<Figure size 800x800 with 2 Axes>"
      ]
     },
     "metadata": {},
     "output_type": "display_data"
    }
   ],
   "source": [
    "# Using class labels\n",
    "plot_confusion_matrix(y_true=y_validation, y_pred=y_pred, figsize=(8, 8))"
   ]
  },
  {
   "cell_type": "code",
   "execution_count": null,
   "metadata": {},
   "outputs": [],
   "source": []
  },
  {
   "cell_type": "code",
   "execution_count": 30,
   "metadata": {},
   "outputs": [
    {
     "data": {
      "image/png": "[encoded data removed]",
      "text/plain": [
       "<Figure size 800x800 with 2 Axes>"
      ]
     },
     "metadata": {},
     "output_type": "display_data"
    }
   ],
   "source": [
    "# Using the probabilities\n",
    "# Convert to class labels\n",
    "THRESH = 0.39\n",
    "y_pred_con = np.where(y_proba > THRESH, 1, 0)\n",
    "plot_confusion_matrix(y_true=y_validation, y_pred=y_pred_con, figsize=(8, 8))"
   ]
  },
  {
   "attachments": {},
   "cell_type": "markdown",
   "metadata": {},
   "source": [
    "#### Comment\n",
    "\n",
    "* Reducing the threshold from 0.5 (default) to 0.39 reduced the **FNR** (lower is better!) and improved the **True Positive**.\n",
    "* The caveat is that the percentage of the **True Negative** dropped!."
   ]
  },
  {
   "cell_type": "code",
   "execution_count": 31,
   "metadata": {},
   "outputs": [
    {
     "data": {
      "text/plain": [
       "0.8628879892037787"
      ]
     },
     "execution_count": 31,
     "metadata": {},
     "output_type": "execute_result"
    }
   ],
   "source": [
    "roc_auc_score(y_true=y_validation, y_score=y_proba)"
   ]
  },
  {
   "attachments": {},
   "cell_type": "markdown",
   "metadata": {},
   "source": [
    "### Optimize A Built-in Metric\n",
    "\n",
    "* The list of sci-kit learn metrics can be found [here](https://scikit-learn.org/stable/modules/model_evaluation.html#the-scoring-parameter-defining-model-evaluation-rules).\n",
    "* e.g. roc_auc"
   ]
  },
  {
   "cell_type": "code",
   "execution_count": 32,
   "metadata": {},
   "outputs": [
    {
     "data": {
      "text/plain": [
       "{'max_depth': 4, 'n_estimators': 50}"
      ]
     },
     "execution_count": 32,
     "metadata": {},
     "output_type": "execute_result"
    }
   ],
   "source": [
    "# Grid Search\n",
    "rf_model = RandomForestClassifier(random_state=RANDOM_STATE)\n",
    "\n",
    "# Hyperparameter space\n",
    "rf_param_grid = dict(\n",
    "    n_estimators=[10, 20, 50, 100, 200, 500, 1000, 2000],\n",
    "    max_depth=[1, 2, 3, 4],\n",
    ")\n",
    "\n",
    "# Search\n",
    "clf = GridSearchCV(\n",
    "    rf_model,\n",
    "    rf_param_grid,\n",
    "    scoring=\"roc_auc\",\n",
    "    cv=5,\n",
    "    verbose=0,\n",
    "    n_jobs=-1,\n",
    ")\n",
    "\n",
    "search_grid = clf.fit(X, y)\n",
    "\n",
    "# Best hyperparameters\n",
    "search_grid.best_params_"
   ]
  },
  {
   "cell_type": "code",
   "execution_count": 33,
   "metadata": {},
   "outputs": [
    {
     "data": {
      "text/html": [
       "<div>\n",
       "<style scoped>\n",
       "    .dataframe tbody tr th:only-of-type {\n",
       "        vertical-align: middle;\n",
       "    }\n",
       "\n",
       "    .dataframe tbody tr th {\n",
       "        vertical-align: top;\n",
       "    }\n",
       "\n",
       "    .dataframe thead th {\n",
       "        text-align: right;\n",
       "    }\n",
       "</style>\n",
       "<table border=\"1\" class=\"dataframe\">\n",
       "  <thead>\n",
       "    <tr style=\"text-align: right;\">\n",
       "      <th></th>\n",
       "      <th>params</th>\n",
       "      <th>mean_test_score</th>\n",
       "      <th>std_test_score</th>\n",
       "    </tr>\n",
       "  </thead>\n",
       "  <tbody>\n",
       "    <tr>\n",
       "      <th>0</th>\n",
       "      <td>{'max_depth': 4, 'n_estimators': 50}</td>\n",
       "      <td>0.867323</td>\n",
       "      <td>0.019381</td>\n",
       "    </tr>\n",
       "    <tr>\n",
       "      <th>1</th>\n",
       "      <td>{'max_depth': 4, 'n_estimators': 20}</td>\n",
       "      <td>0.866744</td>\n",
       "      <td>0.019707</td>\n",
       "    </tr>\n",
       "    <tr>\n",
       "      <th>2</th>\n",
       "      <td>{'max_depth': 4, 'n_estimators': 100}</td>\n",
       "      <td>0.865432</td>\n",
       "      <td>0.019475</td>\n",
       "    </tr>\n",
       "    <tr>\n",
       "      <th>3</th>\n",
       "      <td>{'max_depth': 4, 'n_estimators': 10}</td>\n",
       "      <td>0.865127</td>\n",
       "      <td>0.017381</td>\n",
       "    </tr>\n",
       "    <tr>\n",
       "      <th>4</th>\n",
       "      <td>{'max_depth': 4, 'n_estimators': 200}</td>\n",
       "      <td>0.864045</td>\n",
       "      <td>0.021070</td>\n",
       "    </tr>\n",
       "  </tbody>\n",
       "</table>\n",
       "</div>"
      ],
      "text/plain": [
       "                                  params  mean_test_score  std_test_score\n",
       "0   {'max_depth': 4, 'n_estimators': 50}         0.867323        0.019381\n",
       "1   {'max_depth': 4, 'n_estimators': 20}         0.866744        0.019707\n",
       "2  {'max_depth': 4, 'n_estimators': 100}         0.865432        0.019475\n",
       "3   {'max_depth': 4, 'n_estimators': 10}         0.865127        0.017381\n",
       "4  {'max_depth': 4, 'n_estimators': 200}         0.864045        0.021070"
      ]
     },
     "execution_count": 33,
     "metadata": {},
     "output_type": "execute_result"
    }
   ],
   "source": [
    "imp_vars = [\"params\", \"mean_test_score\", \"std_test_score\"]\n",
    "results = pd.DataFrame(search_grid.cv_results_)[imp_vars]\n",
    "\n",
    "# Sort the mean_test_scores in descending order and reset the index.\n",
    "results.sort_values(by=\"mean_test_score\", ascending=False, inplace=True)\n",
    "results.reset_index(drop=True, inplace=True)\n",
    "\n",
    "results.head()"
   ]
  },
  {
   "attachments": {},
   "cell_type": "markdown",
   "metadata": {},
   "source": [
    "#### Comment\n",
    "\n",
    "* A model with **ROC_AUC** of (0.867 +- 0.019) means that the **ROC_AUC** of the test/unseen data should be between `0.848` and `0.886`."
   ]
  },
  {
   "cell_type": "code",
   "execution_count": 34,
   "metadata": {},
   "outputs": [
    {
     "data": {
      "text/plain": [
       "(0.848, 0.886)"
      ]
     },
     "execution_count": 34,
     "metadata": {},
     "output_type": "execute_result"
    }
   ],
   "source": [
    "(0.867 - 0.019), (0.867 + 0.019)"
   ]
  },
  {
   "cell_type": "code",
   "execution_count": 35,
   "metadata": {},
   "outputs": [
    {
     "data": {
      "image/png": "[encoded data removed]",
      "text/plain": [
       "<Figure size 640x480 with 1 Axes>"
      ]
     },
     "metadata": {},
     "output_type": "display_data"
    }
   ],
   "source": [
    "results[\"mean_test_score\"].plot(\n",
    "    yerr=results[\"std_test_score\"],\n",
    "    xlabel=\"Hyperparameter Space\",\n",
    "    ylabel=\"Mean False Negative Rate\",\n",
    "    ylim=(0.80, 0.90),\n",
    ")\n",
    "\n",
    "plt.show()"
   ]
  },
  {
   "cell_type": "code",
   "execution_count": null,
   "metadata": {},
   "outputs": [],
   "source": []
  },
  {
   "cell_type": "code",
   "execution_count": null,
   "metadata": {},
   "outputs": [],
   "source": []
  }
 ],
 "metadata": {
  "kernelspec": {
   "display_name": "venv",
   "language": "python",
   "name": "python3"
  },
  "language_info": {
   "codemirror_mode": {
    "name": "ipython",
    "version": 3
   },
   "file_extension": ".py",
   "mimetype": "text/x-python",
   "name": "python",
   "nbconvert_exporter": "python",
   "pygments_lexer": "ipython3",
   "version": "3.10.8"
  },
  "orig_nbformat": 4
 },
 "nbformat": 4,
 "nbformat_minor": 2
}
